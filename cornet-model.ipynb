{
 "cells": [
  {
   "cell_type": "code",
   "execution_count": 1,
   "metadata": {},
   "outputs": [],
   "source": [
    "import os\n",
    "import re\n",
    "import sys\n",
    "from typing import List, Tuple\n",
    "\n",
    "import matplotlib.pyplot as plt\n",
    "import pandas as pd\n",
    "import tensorflow as tf\n",
    "from tensorflow import keras\n",
    "from tensorflow.keras.layers import Conv1D, BatchNormalization, Activation, Flatten, Dense, Dropout, LSTM, MaxPool1D\n",
    "import scipy.io\n",
    "import numpy as np\n",
    "from sklearn.model_selection import train_test_split\n",
    "from sklearn.preprocessing import StandardScaler, OneHotEncoder"
   ]
  },
  {
   "cell_type": "code",
   "execution_count": 2,
   "metadata": {},
   "outputs": [],
   "source": [
    "# List all files\n",
    "\n",
    "DATA_PATH: str = os.path.join(os.getcwd(), 'Training_data')\n",
    "data_files: List[str] = [os.path.join(DATA_PATH, file) for file in os.listdir(DATA_PATH) if re.match(r'.+TYPE[0-9]{2}.mat', file)]\n",
    "    \n",
    "data_files: List[str] = sorted(data_files)"
   ]
  },
  {
   "cell_type": "code",
   "execution_count": 3,
   "metadata": {},
   "outputs": [],
   "source": [
    "# load_data returns PPG signal data and its corresponding Heart Rate\n",
    "\n",
    "def load_data(files: List[str]) -> Tuple[np.ndarray, np.ndarray]:\n",
    "    x = np.empty(shape=(0, 1000), dtype=np.float64)\n",
    "    y = np.empty(shape=(0, 1), dtype=np.float64)\n",
    "\n",
    "    for file in files:\n",
    "        tmp = np.empty(shape=(0, 1000), dtype=np.float64)\n",
    "        \n",
    "        data = scipy.io.loadmat(file)['sig'][2,:]\n",
    "        bpm = scipy.io.loadmat(file[:-4]+\"_BPMtrace.mat\")['BPM0']\n",
    "        counter = 0\n",
    "        \n",
    "        for i in range(1000, len(data), 250):\n",
    "            tmp = np.concatenate((tmp, data[i-1000:i].reshape(1, -1)))\n",
    "            y = np.concatenate((y, bpm[counter].reshape(-1, 1)))\n",
    "                        \n",
    "            counter += 1\n",
    "                \n",
    "        tmp = StandardScaler().fit_transform(tmp.reshape(tmp.shape[0], tmp.shape[1]))\n",
    "        x = np.concatenate((x, tmp))\n",
    "        \n",
    "        print(\"{}: x:{}, y:{}\".format(os.path.basename(os.path.normpath(file)), x.shape, y.shape))\n",
    "    \n",
    "    return x, y"
   ]
  },
  {
   "cell_type": "code",
   "execution_count": 4,
   "metadata": {},
   "outputs": [
    {
     "name": "stdout",
     "output_type": "stream",
     "text": [
      "DATA_01_TYPE01.mat: x:(148, 1000), y:(148, 1)\n",
      "DATA_02_TYPE02.mat: x:(296, 1000), y:(296, 1)\n",
      "DATA_03_TYPE02.mat: x:(436, 1000), y:(436, 1)\n",
      "DATA_04_TYPE02.mat: x:(581, 1000), y:(581, 1)\n",
      "DATA_05_TYPE02.mat: x:(727, 1000), y:(727, 1)\n",
      "DATA_06_TYPE02.mat: x:(877, 1000), y:(877, 1)\n",
      "DATA_07_TYPE02.mat: x:(1020, 1000), y:(1020, 1)\n",
      "DATA_08_TYPE02.mat: x:(1180, 1000), y:(1180, 1)\n",
      "DATA_09_TYPE02.mat: x:(1329, 1000), y:(1329, 1)\n",
      "DATA_10_TYPE02.mat: x:(1478, 1000), y:(1478, 1)\n",
      "DATA_11_TYPE02.mat: x:(1620, 1000), y:(1620, 1)\n",
      "DATA_12_TYPE02.mat: x:(1766, 1000), y:(1766, 1)\n"
     ]
    }
   ],
   "source": [
    "x, y = load_data(data_files)"
   ]
  },
  {
   "cell_type": "code",
   "execution_count": 5,
   "metadata": {},
   "outputs": [],
   "source": [
    "# cornet return model\n",
    "\n",
    "def cornet_model(input_shape: Tuple[int, int]):\n",
    "    inputs = keras.Input(shape=input_shape)\n",
    "    x = Conv1D(filters=32, kernel_size=40, activation='relu', name='CNN1')(inputs)\n",
    "    x = BatchNormalization()(x)\n",
    "    x = Activation(activation='relu')(x)\n",
    "    x = MaxPool1D(pool_size=4)(x)\n",
    "    x = Dropout(0.1)(x)\n",
    "\n",
    "    x = Conv1D(filters=32, kernel_size=40, activation='relu', name='CNN2')(x)\n",
    "    x = BatchNormalization()(x)\n",
    "    x = Activation(activation='relu')(x)\n",
    "    x = MaxPool1D(pool_size=4)(x)\n",
    "    x = Dropout(0.1)(x)\n",
    "\n",
    "    x = LSTM(128, activation='tanh', return_sequences=True, name='LSTM1')(x)\n",
    "    x = LSTM(128, activation='tanh', name='LSTM2')(x)\n",
    "    \n",
    "    output1 = Dense(1, name='Dense1')(x)\n",
    "\n",
    "    model = keras.Model(inputs=inputs, outputs=output1)\n",
    "    \n",
    "    return model"
   ]
  },
  {
   "cell_type": "code",
   "execution_count": 6,
   "metadata": {},
   "outputs": [],
   "source": [
    "def plot_history(history):\n",
    "    hist = pd.DataFrame(history.history)\n",
    "    hist['epoch'] = history.epoch\n",
    "\n",
    "    plt.figure()\n",
    "    plt.xlabel('Epoch')\n",
    "    plt.ylabel('Mean Abs Error [MPG]')\n",
    "    plt.plot(hist['epoch'], hist['mae'],label='Train Error')\n",
    "    plt.plot(hist['epoch'], hist['val_mae'],label = 'Val Error')\n",
    "#     plt.ylim([0,5])\n",
    "    plt.legend()\n",
    "\n",
    "    plt.show()"
   ]
  },
  {
   "cell_type": "code",
   "execution_count": 7,
   "metadata": {},
   "outputs": [
    {
     "name": "stdout",
     "output_type": "stream",
     "text": [
      "x_train: (1589, 1000), x_test: (1589, 1), y_train:(177, 1000), y_test:(177, 1)\n"
     ]
    }
   ],
   "source": [
    "x_train, x_test, y_train, y_test = train_test_split(x, y, test_size=0.1, random_state=1337)\n",
    "print(\"x_train: {}, x_test: {}, y_train:{}, y_test:{}\".format(x_train.shape, y_train.shape, x_test.shape, y_test.shape))"
   ]
  },
  {
   "cell_type": "code",
   "execution_count": 8,
   "metadata": {},
   "outputs": [],
   "source": [
    "# expand to 3 dim\n",
    "x_train = x_train.reshape(*x_train.shape, 1)\n",
    "x_test = x_test.reshape(*x_test.shape, 1)"
   ]
  },
  {
   "cell_type": "code",
   "execution_count": 9,
   "metadata": {},
   "outputs": [
    {
     "name": "stdout",
     "output_type": "stream",
     "text": [
      "Model: \"model\"\n",
      "_________________________________________________________________\n",
      "Layer (type)                 Output Shape              Param #   \n",
      "=================================================================\n",
      "input_1 (InputLayer)         [(None, 1000, 1)]         0         \n",
      "_________________________________________________________________\n",
      "CNN1 (Conv1D)                (None, 961, 32)           1312      \n",
      "_________________________________________________________________\n",
      "batch_normalization (BatchNo (None, 961, 32)           128       \n",
      "_________________________________________________________________\n",
      "activation (Activation)      (None, 961, 32)           0         \n",
      "_________________________________________________________________\n",
      "max_pooling1d (MaxPooling1D) (None, 240, 32)           0         \n",
      "_________________________________________________________________\n",
      "dropout (Dropout)            (None, 240, 32)           0         \n",
      "_________________________________________________________________\n",
      "CNN2 (Conv1D)                (None, 201, 32)           40992     \n",
      "_________________________________________________________________\n",
      "batch_normalization_1 (Batch (None, 201, 32)           128       \n",
      "_________________________________________________________________\n",
      "activation_1 (Activation)    (None, 201, 32)           0         \n",
      "_________________________________________________________________\n",
      "max_pooling1d_1 (MaxPooling1 (None, 50, 32)            0         \n",
      "_________________________________________________________________\n",
      "dropout_1 (Dropout)          (None, 50, 32)            0         \n",
      "_________________________________________________________________\n",
      "LSTM1 (LSTM)                 (None, 50, 128)           82432     \n",
      "_________________________________________________________________\n",
      "LSTM2 (LSTM)                 (None, 128)               131584    \n",
      "_________________________________________________________________\n",
      "Dense1 (Dense)               (None, 1)                 129       \n",
      "=================================================================\n",
      "Total params: 256,705\n",
      "Trainable params: 256,577\n",
      "Non-trainable params: 128\n",
      "_________________________________________________________________\n",
      "None\n"
     ]
    }
   ],
   "source": [
    "model = cornet_model(x_train[0].shape)\n",
    "print(model.summary())"
   ]
  },
  {
   "cell_type": "code",
   "execution_count": 10,
   "metadata": {},
   "outputs": [
    {
     "name": "stdout",
     "output_type": "stream",
     "text": [
      "Train on 1271 samples, validate on 318 samples\n",
      "Epoch 1/50\n",
      "WARNING:tensorflow:Entity <function Function._initialize_uninitialized_variables.<locals>.initialize_variables at 0x000001C7F6B9AC18> could not be transformed and will be executed as-is. Please report this to the AutoGraph team. When filing the bug, set the verbosity to 10 (on Linux, `export AUTOGRAPH_VERBOSITY=10`) and attach the full output. Cause: module 'gast' has no attribute 'Num'\n",
      "WARNING: Entity <function Function._initialize_uninitialized_variables.<locals>.initialize_variables at 0x000001C7F6B9AC18> could not be transformed and will be executed as-is. Please report this to the AutoGraph team. When filing the bug, set the verbosity to 10 (on Linux, `export AUTOGRAPH_VERBOSITY=10`) and attach the full output. Cause: module 'gast' has no attribute 'Num'\n",
      "1271/1271 [==============================] - 9s 7ms/sample - loss: 118.7921 - mae: 118.7921 - val_loss: 115.4281 - val_mae: 115.4281\n",
      "Epoch 2/50\n",
      "1271/1271 [==============================] - 1s 849us/sample - loss: 110.7121 - mae: 110.7121 - val_loss: 108.8662 - val_mae: 108.8662\n",
      "Epoch 3/50\n",
      "1271/1271 [==============================] - 1s 846us/sample - loss: 104.1651 - mae: 104.1651 - val_loss: 102.2927 - val_mae: 102.2926\n",
      "Epoch 4/50\n",
      "1271/1271 [==============================] - 1s 846us/sample - loss: 97.5743 - mae: 97.5743 - val_loss: 95.7113 - val_mae: 95.7113\n",
      "Epoch 5/50\n",
      "1271/1271 [==============================] - 1s 851us/sample - loss: 90.9948 - mae: 90.9948 - val_loss: 89.1323 - val_mae: 89.1323\n",
      "Epoch 6/50\n",
      "1271/1271 [==============================] - 1s 855us/sample - loss: 84.4158 - mae: 84.4158 - val_loss: 82.5534 - val_mae: 82.5534\n",
      "Epoch 7/50\n",
      "1271/1271 [==============================] - 1s 850us/sample - loss: 77.8369 - mae: 77.8369 - val_loss: 75.9744 - val_mae: 75.9744\n",
      "Epoch 8/50\n",
      "1271/1271 [==============================] - 1s 874us/sample - loss: 71.2580 - mae: 71.2580 - val_loss: 69.3955 - val_mae: 69.3955\n",
      "Epoch 9/50\n",
      "1271/1271 [==============================] - 1s 860us/sample - loss: 64.7110 - mae: 64.7110 - val_loss: 62.9089 - val_mae: 62.9089\n",
      "Epoch 10/50\n",
      "1271/1271 [==============================] - 1s 853us/sample - loss: 58.3966 - mae: 58.3966 - val_loss: 56.6432 - val_mae: 56.6432\n",
      "Epoch 11/50\n",
      "1271/1271 [==============================] - 1s 853us/sample - loss: 52.3964 - mae: 52.3964 - val_loss: 50.7270 - val_mae: 50.7270\n",
      "Epoch 12/50\n",
      "1271/1271 [==============================] - 1s 865us/sample - loss: 46.6275 - mae: 46.6275 - val_loss: 45.0226 - val_mae: 45.0226\n",
      "Epoch 13/50\n",
      "1271/1271 [==============================] - 1s 850us/sample - loss: 41.1049 - mae: 41.1049 - val_loss: 39.6210 - val_mae: 39.6210\n",
      "Epoch 14/50\n",
      "1271/1271 [==============================] - 1s 854us/sample - loss: 36.0004 - mae: 36.0004 - val_loss: 34.5309 - val_mae: 34.5309\n",
      "Epoch 15/50\n",
      "1271/1271 [==============================] - 1s 852us/sample - loss: 31.4563 - mae: 31.4563 - val_loss: 29.8396 - val_mae: 29.8396\n",
      "Epoch 16/50\n",
      "1271/1271 [==============================] - 1s 898us/sample - loss: 27.4787 - mae: 27.4787 - val_loss: 25.9155 - val_mae: 25.9155\n",
      "Epoch 17/50\n",
      "1271/1271 [==============================] - 1s 918us/sample - loss: 24.3135 - mae: 24.3135 - val_loss: 22.9014 - val_mae: 22.9014\n",
      "Epoch 18/50\n",
      "1271/1271 [==============================] - 1s 936us/sample - loss: 21.9418 - mae: 21.9418 - val_loss: 20.7730 - val_mae: 20.7730\n",
      "Epoch 19/50\n",
      "1271/1271 [==============================] - 1s 891us/sample - loss: 20.3588 - mae: 20.3588 - val_loss: 19.4542 - val_mae: 19.4542\n",
      "Epoch 20/50\n",
      "1271/1271 [==============================] - 1s 866us/sample - loss: 19.4888 - mae: 19.4888 - val_loss: 18.8252 - val_mae: 18.8252\n",
      "Epoch 21/50\n",
      "1271/1271 [==============================] - 1s 867us/sample - loss: 19.1549 - mae: 19.1549 - val_loss: 18.6022 - val_mae: 18.6022\n",
      "Epoch 22/50\n",
      "1271/1271 [==============================] - 1s 888us/sample - loss: 19.0769 - mae: 19.0769 - val_loss: 18.5367 - val_mae: 18.5367\n",
      "Epoch 23/50\n",
      "1271/1271 [==============================] - 1s 865us/sample - loss: 19.0665 - mae: 19.0665 - val_loss: 18.5228 - val_mae: 18.5228\n",
      "Epoch 24/50\n",
      "1271/1271 [==============================] - 1s 883us/sample - loss: 19.0653 - mae: 19.0653 - val_loss: 18.5200 - val_mae: 18.5200\n",
      "Epoch 25/50\n",
      "1271/1271 [==============================] - 1s 873us/sample - loss: 19.0650 - mae: 19.0650 - val_loss: 18.5171 - val_mae: 18.5171\n",
      "Epoch 26/50\n",
      "1271/1271 [==============================] - 1s 908us/sample - loss: 19.0647 - mae: 19.0647 - val_loss: 18.5143 - val_mae: 18.5143\n",
      "Epoch 27/50\n",
      "1271/1271 [==============================] - 1s 869us/sample - loss: 19.3296 - mae: 19.3296 - val_loss: 19.3876 - val_mae: 19.3876\n",
      "Epoch 28/50\n",
      "1271/1271 [==============================] - 1s 866us/sample - loss: 16.0004 - mae: 16.0004 - val_loss: 15.9796 - val_mae: 15.9796\n",
      "Epoch 29/50\n",
      "1271/1271 [==============================] - 1s 856us/sample - loss: 13.7228 - mae: 13.7228 - val_loss: 16.3300 - val_mae: 16.3300\n",
      "Epoch 30/50\n",
      "1271/1271 [==============================] - 1s 866us/sample - loss: 12.7202 - mae: 12.7202 - val_loss: 13.7570 - val_mae: 13.7570\n",
      "Epoch 31/50\n",
      "1271/1271 [==============================] - 1s 870us/sample - loss: 11.8844 - mae: 11.8844 - val_loss: 13.1527 - val_mae: 13.1527\n",
      "Epoch 32/50\n",
      "1271/1271 [==============================] - 1s 857us/sample - loss: 10.8376 - mae: 10.8376 - val_loss: 10.3446 - val_mae: 10.3446\n",
      "Epoch 33/50\n",
      "1271/1271 [==============================] - 1s 858us/sample - loss: 10.0776 - mae: 10.0776 - val_loss: 10.6684 - val_mae: 10.6684\n",
      "Epoch 34/50\n",
      "1271/1271 [==============================] - 1s 855us/sample - loss: 9.1955 - mae: 9.1955 - val_loss: 10.2190 - val_mae: 10.2190\n",
      "Epoch 35/50\n",
      "1271/1271 [==============================] - 1s 855us/sample - loss: 9.9948 - mae: 9.9948 - val_loss: 9.9880 - val_mae: 9.9880\n",
      "Epoch 36/50\n",
      "1271/1271 [==============================] - 1s 854us/sample - loss: 8.9869 - mae: 8.9869 - val_loss: 8.4511 - val_mae: 8.4511\n",
      "Epoch 37/50\n",
      "1271/1271 [==============================] - 1s 859us/sample - loss: 8.2208 - mae: 8.2208 - val_loss: 11.3305 - val_mae: 11.3305\n",
      "Epoch 38/50\n",
      "1271/1271 [==============================] - 1s 854us/sample - loss: 9.3416 - mae: 9.3416 - val_loss: 7.6663 - val_mae: 7.6663\n",
      "Epoch 39/50\n",
      "1271/1271 [==============================] - 1s 856us/sample - loss: 7.3833 - mae: 7.3833 - val_loss: 8.4993 - val_mae: 8.4993\n",
      "Epoch 40/50\n",
      "1271/1271 [==============================] - 1s 861us/sample - loss: 7.6229 - mae: 7.6229 - val_loss: 7.9172 - val_mae: 7.9172\n",
      "Epoch 41/50\n",
      "1271/1271 [==============================] - 1s 851us/sample - loss: 7.4444 - mae: 7.4444 - val_loss: 9.8086 - val_mae: 9.8086\n",
      "Epoch 42/50\n",
      "1271/1271 [==============================] - 1s 858us/sample - loss: 6.4123 - mae: 6.4123 - val_loss: 7.1522 - val_mae: 7.1522\n",
      "Epoch 43/50\n",
      "1271/1271 [==============================] - 1s 855us/sample - loss: 6.0279 - mae: 6.0279 - val_loss: 7.2110 - val_mae: 7.2110\n",
      "Epoch 44/50\n",
      "1271/1271 [==============================] - 1s 855us/sample - loss: 5.7811 - mae: 5.7811 - val_loss: 11.9608 - val_mae: 11.9608\n",
      "Epoch 45/50\n",
      "1271/1271 [==============================] - 1s 885us/sample - loss: 5.6286 - mae: 5.6286 - val_loss: 6.3254 - val_mae: 6.3254\n",
      "Epoch 46/50\n",
      "1271/1271 [==============================] - 1s 849us/sample - loss: 5.4311 - mae: 5.4311 - val_loss: 7.5565 - val_mae: 7.5565\n",
      "Epoch 47/50\n",
      "1271/1271 [==============================] - 1s 882us/sample - loss: 5.2218 - mae: 5.2218 - val_loss: 6.6682 - val_mae: 6.6682\n",
      "Epoch 48/50\n",
      "1271/1271 [==============================] - 1s 893us/sample - loss: 4.7112 - mae: 4.7112 - val_loss: 5.6523 - val_mae: 5.6523\n",
      "Epoch 49/50\n",
      "1271/1271 [==============================] - 1s 902us/sample - loss: 5.2307 - mae: 5.2307 - val_loss: 6.8304 - val_mae: 6.8304\n",
      "Epoch 50/50\n",
      "1271/1271 [==============================] - 1s 848us/sample - loss: 4.6298 - mae: 4.6298 - val_loss: 4.9562 - val_mae: 4.9562\n"
     ]
    }
   ],
   "source": [
    "model.compile(loss='mae', optimizer=keras.optimizers.RMSprop(), metrics=['mae'])\n",
    "history = model.fit(x_train, y_train, batch_size=25, epochs=50, validation_split=0.2, shuffle=False)"
   ]
  },
  {
   "cell_type": "code",
   "execution_count": 11,
   "metadata": {},
   "outputs": [
    {
     "data": {
      "image/png": "[encoded data removed]",
      "text/plain": [
       "<Figure size 432x288 with 1 Axes>"
      ]
     },
     "metadata": {
      "needs_background": "light"
     },
     "output_type": "display_data"
    }
   ],
   "source": [
    "plot_history(history)"
   ]
  },
  {
   "cell_type": "code",
   "execution_count": 12,
   "metadata": {},
   "outputs": [
    {
     "name": "stdout",
     "output_type": "stream",
     "text": [
      "\r",
      "177/1 [==============================================================================================================================================================================================================================================================================================================================================================================================================================================================================================================================================================================================================================================================================================================================================================================================================================================================================================================================================================================================================================================================================================================================================================================================================================================================================================================================================================================================================================================================================================================================================================================================================================================================================================================================================================================================================================================================================================================================================================================================================================================================================================================================================================================================================================================================================================================================================================================================================================================================================================================================================================================================================================================================================================================================================================================================================================================================================================================================================================================================================================================================================================================================================================================================================================================================================================================================================================================================================================================================================================================================================================================================================================================================================================================================================================================================================================================================================================================================================================================================================================================================================================================================================================================================================================================================================================================================================================================================================================================================================================================================================================================================================================================================================================================================================================================================================================================================================================================================================================================================================================================================================================================================================================================================================================================================================================================================================================================================================================================================================================================================] - 0s 2ms/sample - loss: 6.3409 - mae: 5.1847\n"
     ]
    },
    {
     "data": {
      "text/plain": [
       "[5.184732337455965, 5.1847324]"
      ]
     },
     "execution_count": 12,
     "metadata": {},
     "output_type": "execute_result"
    }
   ],
   "source": [
    "model.evaluate(x_test, y_test)"
   ]
  },
  {
   "cell_type": "code",
   "execution_count": null,
   "metadata": {},
   "outputs": [],
   "source": []
  }
 ],
 "metadata": {
  "kernelspec": {
   "display_name": "Python 3",
   "language": "python",
   "name": "python3"
  },
  "language_info": {
   "codemirror_mode": {
    "name": "ipython",
    "version": 3
   },
   "file_extension": ".py",
   "mimetype": "text/x-python",
   "name": "python",
   "nbconvert_exporter": "python",
   "pygments_lexer": "ipython3",
   "version": "3.7.4"
  }
 },
 "nbformat": 4,
 "nbformat_minor": 2
}
