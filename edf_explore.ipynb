{
 "cells": [
  {
   "cell_type": "code",
   "execution_count": 1,
   "metadata": {},
   "outputs": [],
   "source": [
    "import urllib.request\n",
    "import numpy as np\n",
    "import pyedflib\n",
    "import pandas as pd"
   ]
  },
  {
   "cell_type": "code",
   "execution_count": 2,
   "metadata": {},
   "outputs": [],
   "source": [
    "timeArray = np.array([round(x,5) for x in np.arange(0,124.5,.00625)])\n",
    "timeArray = timeArray.reshape(19920,1)\n",
    "reader = pyedflib.EdfReader('subjects/S001/S001R05.edf')\n",
    "annotations = reader.readAnnotations()"
   ]
  },
  {
   "cell_type": "code",
   "execution_count": 9,
   "metadata": {},
   "outputs": [],
   "source": [
    "intervals = np.append(annotations[0],[124.5])\n",
    "codes = annotations[2]\n",
    "codeArray = []"
   ]
  },
  {
   "cell_type": "code",
   "execution_count": 4,
   "metadata": {},
   "outputs": [
    {
     "data": {
      "text/plain": [
       "array([  0. ,   4.2,   8.3,  12.5,  16.6,  20.8,  24.9,  29.1,  33.2,\n",
       "        37.4,  41.5,  45.7,  49.8,  54. ,  58.1,  62.3,  66.4,  70.6,\n",
       "        74.7,  78.9,  83. ,  87.2,  91.3,  95.5,  99.6, 103.8, 107.9,\n",
       "       112.1, 116.2, 120.4, 124.5])"
      ]
     },
     "execution_count": 4,
     "metadata": {},
     "output_type": "execute_result"
    }
   ],
   "source": [
    "intervals"
   ]
  },
  {
   "cell_type": "code",
   "execution_count": 14,
   "metadata": {},
   "outputs": [],
   "source": [
    "counter = 1\n",
    "for timeVal in timeArray:\n",
    "    if timeVal == 124.5:\n",
    "        break\n",
    "    elif timeVal / intervals[counter] == 1.0:\n",
    "        counter += 1\n",
    "    codeArray.append(codes[counter - 1])"
   ]
  },
  {
   "cell_type": "code",
   "execution_count": 13,
   "metadata": {},
   "outputs": [
    {
     "data": {
      "text/plain": [
       "(array([  0. ,   4.2,   8.3,  12.5,  16.6,  20.8,  24.9,  29.1,  33.2,\n",
       "         37.4,  41.5,  45.7,  49.8,  54. ,  58.1,  62.3,  66.4,  70.6,\n",
       "         74.7,  78.9,  83. ,  87.2,  91.3,  95.5,  99.6, 103.8, 107.9,\n",
       "        112.1, 116.2, 120.4]),\n",
       " array([4.2, 4.1, 4.2, 4.1, 4.2, 4.1, 4.2, 4.1, 4.2, 4.1, 4.2, 4.1, 4.2,\n",
       "        4.1, 4.2, 4.1, 4.2, 4.1, 4.2, 4.1, 4.2, 4.1, 4.2, 4.1, 4.2, 4.1,\n",
       "        4.2, 4.1, 4.2, 4.1]),\n",
       " array(['T0', 'T2', 'T0', 'T1', 'T0', 'T2', 'T0', 'T1', 'T0', 'T2', 'T0',\n",
       "        'T1', 'T0', 'T1', 'T0', 'T2', 'T0', 'T2', 'T0', 'T1', 'T0', 'T2',\n",
       "        'T0', 'T1', 'T0', 'T1', 'T0', 'T2', 'T0', 'T1'], dtype='<U2'))"
      ]
     },
     "execution_count": 13,
     "metadata": {},
     "output_type": "execute_result"
    }
   ],
   "source": [
    "annotations"
   ]
  },
  {
   "cell_type": "code",
   "execution_count": 17,
   "metadata": {},
   "outputs": [
    {
     "data": {
      "text/plain": [
       "19920"
      ]
     },
     "execution_count": 17,
     "metadata": {},
     "output_type": "execute_result"
    }
   ],
   "source": [
    "len(codeArray)"
   ]
  },
  {
   "cell_type": "code",
   "execution_count": 24,
   "metadata": {},
   "outputs": [
    {
     "data": {
      "text/plain": [
       "['T0',\n",
       " 'T0',\n",
       " 'T0',\n",
       " 'T0',\n",
       " 'T0',\n",
       " 'T0',\n",
       " 'T0',\n",
       " 'T2',\n",
       " 'T2',\n",
       " 'T2',\n",
       " 'T2',\n",
       " 'T2',\n",
       " 'T2',\n",
       " 'T2',\n",
       " 'T0',\n",
       " 'T0',\n",
       " 'T0',\n",
       " 'T0',\n",
       " 'T0',\n",
       " 'T0',\n",
       " 'T1',\n",
       " 'T1',\n",
       " 'T1',\n",
       " 'T1',\n",
       " 'T1',\n",
       " 'T1',\n",
       " 'T1',\n",
       " 'T0',\n",
       " 'T0',\n",
       " 'T0',\n",
       " 'T0',\n",
       " 'T0',\n",
       " 'T0',\n",
       " 'T0',\n",
       " 'T2',\n",
       " 'T2',\n",
       " 'T2',\n",
       " 'T2',\n",
       " 'T2',\n",
       " 'T2',\n",
       " 'T0',\n",
       " 'T0',\n",
       " 'T0',\n",
       " 'T0',\n",
       " 'T0',\n",
       " 'T0',\n",
       " 'T0',\n",
       " 'T1',\n",
       " 'T1',\n",
       " 'T1']"
      ]
     },
     "execution_count": 24,
     "metadata": {},
     "output_type": "execute_result"
    }
   ],
   "source": [
    "codeArray[:5000:100]"
   ]
  },
  {
   "cell_type": "code",
   "execution_count": 25,
   "metadata": {},
   "outputs": [],
   "source": [
    "newCodeArray = np.array(codeArray).reshape(19920,1)"
   ]
  },
  {
   "cell_type": "code",
   "execution_count": 26,
   "metadata": {},
   "outputs": [
    {
     "data": {
      "text/plain": [
       "array([['T0'],\n",
       "       ['T0'],\n",
       "       ['T0'],\n",
       "       ['T0'],\n",
       "       ['T0'],\n",
       "       ['T0'],\n",
       "       ['T0'],\n",
       "       ['T2'],\n",
       "       ['T2'],\n",
       "       ['T2'],\n",
       "       ['T2'],\n",
       "       ['T2'],\n",
       "       ['T2'],\n",
       "       ['T2'],\n",
       "       ['T0'],\n",
       "       ['T0'],\n",
       "       ['T0'],\n",
       "       ['T0'],\n",
       "       ['T0'],\n",
       "       ['T0'],\n",
       "       ['T1'],\n",
       "       ['T1'],\n",
       "       ['T1'],\n",
       "       ['T1'],\n",
       "       ['T1'],\n",
       "       ['T1'],\n",
       "       ['T1'],\n",
       "       ['T0'],\n",
       "       ['T0'],\n",
       "       ['T0'],\n",
       "       ['T0'],\n",
       "       ['T0'],\n",
       "       ['T0'],\n",
       "       ['T0'],\n",
       "       ['T2'],\n",
       "       ['T2'],\n",
       "       ['T2'],\n",
       "       ['T2'],\n",
       "       ['T2'],\n",
       "       ['T2'],\n",
       "       ['T0'],\n",
       "       ['T0'],\n",
       "       ['T0'],\n",
       "       ['T0'],\n",
       "       ['T0'],\n",
       "       ['T0'],\n",
       "       ['T0'],\n",
       "       ['T1'],\n",
       "       ['T1'],\n",
       "       ['T1']], dtype='<U2')"
      ]
     },
     "execution_count": 26,
     "metadata": {},
     "output_type": "execute_result"
    }
   ],
   "source": [
    "newCodeArray[:5000:100]"
   ]
  },
  {
   "cell_type": "code",
   "execution_count": 28,
   "metadata": {},
   "outputs": [],
   "source": [
    "numSignals = reader.signals_in_file\n",
    "signal_labels = reader.getSignalLabels()\n",
    "dataset = np.zeros((numSignals,reader.getNSamples()[0]))"
   ]
  },
  {
   "cell_type": "code",
   "execution_count": 29,
   "metadata": {},
   "outputs": [
    {
     "data": {
      "text/plain": [
       "64"
      ]
     },
     "execution_count": 29,
     "metadata": {},
     "output_type": "execute_result"
    }
   ],
   "source": [
    "numSignals"
   ]
  },
  {
   "cell_type": "code",
   "execution_count": 30,
   "metadata": {},
   "outputs": [
    {
     "data": {
      "text/plain": [
       "['Fc5.',\n",
       " 'Fc3.',\n",
       " 'Fc1.',\n",
       " 'Fcz.',\n",
       " 'Fc2.',\n",
       " 'Fc4.',\n",
       " 'Fc6.',\n",
       " 'C5..',\n",
       " 'C3..',\n",
       " 'C1..',\n",
       " 'Cz..',\n",
       " 'C2..',\n",
       " 'C4..',\n",
       " 'C6..',\n",
       " 'Cp5.',\n",
       " 'Cp3.',\n",
       " 'Cp1.',\n",
       " 'Cpz.',\n",
       " 'Cp2.',\n",
       " 'Cp4.',\n",
       " 'Cp6.',\n",
       " 'Fp1.',\n",
       " 'Fpz.',\n",
       " 'Fp2.',\n",
       " 'Af7.',\n",
       " 'Af3.',\n",
       " 'Afz.',\n",
       " 'Af4.',\n",
       " 'Af8.',\n",
       " 'F7..',\n",
       " 'F5..',\n",
       " 'F3..',\n",
       " 'F1..',\n",
       " 'Fz..',\n",
       " 'F2..',\n",
       " 'F4..',\n",
       " 'F6..',\n",
       " 'F8..',\n",
       " 'Ft7.',\n",
       " 'Ft8.',\n",
       " 'T7..',\n",
       " 'T8..',\n",
       " 'T9..',\n",
       " 'T10.',\n",
       " 'Tp7.',\n",
       " 'Tp8.',\n",
       " 'P7..',\n",
       " 'P5..',\n",
       " 'P3..',\n",
       " 'P1..',\n",
       " 'Pz..',\n",
       " 'P2..',\n",
       " 'P4..',\n",
       " 'P6..',\n",
       " 'P8..',\n",
       " 'Po7.',\n",
       " 'Po3.',\n",
       " 'Poz.',\n",
       " 'Po4.',\n",
       " 'Po8.',\n",
       " 'O1..',\n",
       " 'Oz..',\n",
       " 'O2..',\n",
       " 'Iz..']"
      ]
     },
     "execution_count": 30,
     "metadata": {},
     "output_type": "execute_result"
    }
   ],
   "source": [
    "signal_labels"
   ]
  },
  {
   "cell_type": "code",
   "execution_count": 31,
   "metadata": {},
   "outputs": [
    {
     "data": {
      "text/plain": [
       "(64, 20000)"
      ]
     },
     "execution_count": 31,
     "metadata": {},
     "output_type": "execute_result"
    }
   ],
   "source": [
    "dataset.shape"
   ]
  },
  {
   "cell_type": "code",
   "execution_count": 34,
   "metadata": {},
   "outputs": [
    {
     "data": {
      "text/plain": [
       "(64,)"
      ]
     },
     "execution_count": 34,
     "metadata": {},
     "output_type": "execute_result"
    }
   ],
   "source": [
    "reader.getNSamples().shape"
   ]
  },
  {
   "cell_type": "code",
   "execution_count": 35,
   "metadata": {},
   "outputs": [],
   "source": [
    "for signal in np.arange(numSignals):\n",
    "    dataset[signal,:] = reader.readSignal(signal)"
   ]
  },
  {
   "cell_type": "code",
   "execution_count": 36,
   "metadata": {},
   "outputs": [
    {
     "data": {
      "text/plain": [
       "array([-10.,  10.,  17., ...,   0.,   0.,   0.])"
      ]
     },
     "execution_count": 36,
     "metadata": {},
     "output_type": "execute_result"
    }
   ],
   "source": [
    "dataset[0]"
   ]
  },
  {
   "cell_type": "code",
   "execution_count": 37,
   "metadata": {},
   "outputs": [
    {
     "data": {
      "text/plain": [
       "(20000,)"
      ]
     },
     "execution_count": 37,
     "metadata": {},
     "output_type": "execute_result"
    }
   ],
   "source": [
    "dataset[0].shape"
   ]
  },
  {
   "cell_type": "code",
   "execution_count": 38,
   "metadata": {},
   "outputs": [
    {
     "data": {
      "text/plain": [
       "array([-10.,  65., -24., -29.,  27.,   0.,  54., -29.,  10.,  -2.,  -9.,\n",
       "       -70.,  79.,  46., -90., -33., -88., -34.,  12., -49.])"
      ]
     },
     "execution_count": 38,
     "metadata": {},
     "output_type": "execute_result"
    }
   ],
   "source": [
    "dataset[0][::1000]"
   ]
  },
  {
   "cell_type": "code",
   "execution_count": 39,
   "metadata": {},
   "outputs": [
    {
     "data": {
      "text/plain": [
       "array([-10.,  10.,  17., ..., -29., -24., -32.])"
      ]
     },
     "execution_count": 39,
     "metadata": {},
     "output_type": "execute_result"
    }
   ],
   "source": [
    "dataset[0,:-80]"
   ]
  },
  {
   "cell_type": "code",
   "execution_count": 40,
   "metadata": {},
   "outputs": [],
   "source": [
    "dataset = dataset[:,:-80].transpose()"
   ]
  },
  {
   "cell_type": "code",
   "execution_count": 41,
   "metadata": {},
   "outputs": [
    {
     "data": {
      "text/plain": [
       "array([], dtype=float64)"
      ]
     },
     "execution_count": 41,
     "metadata": {},
     "output_type": "execute_result"
    }
   ],
   "source": [
    "dataset[0,:-80]"
   ]
  },
  {
   "cell_type": "code",
   "execution_count": 42,
   "metadata": {},
   "outputs": [
    {
     "data": {
      "text/plain": [
       "array([-10.,  20.,   7., -18.,   0.,   4.,  60.,   4.,  12.,   6., -10.,\n",
       "       -13.,   6.,  26.,  39.,  15.,  14.,  15.,   6.,  12.,  -8., -86.,\n",
       "       -62., -94., -48., -50.,  -3., -23., -62.,  32.,  19.,  18.,  11.,\n",
       "        15.,   1.,   0., -41., -25.,  18.,  83.,  -7.,  17., -21.,   4.,\n",
       "        13.,  33.,  28.,  35.,  28.,  17.,  21.,  11.,  12.,   1.,  -6.,\n",
       "        30.,  25.,  22.,  13.,  -9.,  20.,  24.,  89.,  68.])"
      ]
     },
     "execution_count": 42,
     "metadata": {},
     "output_type": "execute_result"
    }
   ],
   "source": [
    "dataset[0]"
   ]
  },
  {
   "cell_type": "code",
   "execution_count": 43,
   "metadata": {},
   "outputs": [
    {
     "data": {
      "text/plain": [
       "(19920, 64)"
      ]
     },
     "execution_count": 43,
     "metadata": {},
     "output_type": "execute_result"
    }
   ],
   "source": [
    "dataset.shape"
   ]
  },
  {
   "cell_type": "code",
   "execution_count": 44,
   "metadata": {},
   "outputs": [],
   "source": [
    "newDataset = np.concatenate((timeArray,newCodeArray,dataset),axis=1)"
   ]
  },
  {
   "cell_type": "code",
   "execution_count": 45,
   "metadata": {},
   "outputs": [
    {
     "data": {
      "text/plain": [
       "(19920, 66)"
      ]
     },
     "execution_count": 45,
     "metadata": {},
     "output_type": "execute_result"
    }
   ],
   "source": [
    "newDataset.shape"
   ]
  },
  {
   "cell_type": "code",
   "execution_count": 46,
   "metadata": {},
   "outputs": [
    {
     "data": {
      "text/plain": [
       "array([['0.0', 'T0', '-10.0', ..., '24.0', '89.0', '68.0'],\n",
       "       ['0.00625', 'T0', '10.0', ..., '25.0', '83.0', '65.0'],\n",
       "       ['0.0125', 'T0', '17.0', ..., '34.0', '92.0', '78.0'],\n",
       "       ...,\n",
       "       ['124.48125', 'T1', '-29.0', ..., '36.0', '37.0', '26.0'],\n",
       "       ['124.4875', 'T1', '-24.0', ..., '16.0', '26.0', '2.0'],\n",
       "       ['124.49375', 'T1', '-32.0', ..., '2.0', '11.0', '-15.0']],\n",
       "      dtype='<U32')"
      ]
     },
     "execution_count": 46,
     "metadata": {},
     "output_type": "execute_result"
    }
   ],
   "source": [
    "newDataset"
   ]
  },
  {
   "cell_type": "code",
   "execution_count": 48,
   "metadata": {},
   "outputs": [],
   "source": [
    "col = np.concatenate(([\"Time\"],[\"Code\"],signal_labels))"
   ]
  },
  {
   "cell_type": "code",
   "execution_count": 49,
   "metadata": {},
   "outputs": [
    {
     "data": {
      "text/plain": [
       "(66,)"
      ]
     },
     "execution_count": 49,
     "metadata": {},
     "output_type": "execute_result"
    }
   ],
   "source": [
    "col.shape"
   ]
  },
  {
   "cell_type": "code",
   "execution_count": 50,
   "metadata": {},
   "outputs": [
    {
     "data": {
      "text/plain": [
       "array(['Time', 'Code', 'Fc5.', 'Fc3.', 'Fc1.', 'Fcz.', 'Fc2.', 'Fc4.',\n",
       "       'Fc6.', 'C5..', 'C3..', 'C1..', 'Cz..', 'C2..', 'C4..', 'C6..',\n",
       "       'Cp5.', 'Cp3.', 'Cp1.', 'Cpz.', 'Cp2.', 'Cp4.', 'Cp6.', 'Fp1.',\n",
       "       'Fpz.', 'Fp2.', 'Af7.', 'Af3.', 'Afz.', 'Af4.', 'Af8.', 'F7..',\n",
       "       'F5..', 'F3..', 'F1..', 'Fz..', 'F2..', 'F4..', 'F6..', 'F8..',\n",
       "       'Ft7.', 'Ft8.', 'T7..', 'T8..', 'T9..', 'T10.', 'Tp7.', 'Tp8.',\n",
       "       'P7..', 'P5..', 'P3..', 'P1..', 'Pz..', 'P2..', 'P4..', 'P6..',\n",
       "       'P8..', 'Po7.', 'Po3.', 'Poz.', 'Po4.', 'Po8.', 'O1..', 'Oz..',\n",
       "       'O2..', 'Iz..'], dtype='<U4')"
      ]
     },
     "execution_count": 50,
     "metadata": {},
     "output_type": "execute_result"
    }
   ],
   "source": [
    "col"
   ]
  },
  {
   "cell_type": "code",
   "execution_count": 62,
   "metadata": {},
   "outputs": [],
   "source": [
    "final_data = pd.DataFrame(newDataset,columns=col)"
   ]
  },
  {
   "cell_type": "code",
   "execution_count": 54,
   "metadata": {},
   "outputs": [
    {
     "name": "stdout",
     "output_type": "stream",
     "text": [
      "<class 'pandas.core.frame.DataFrame'>\n",
      "RangeIndex: 19920 entries, 0 to 19919\n",
      "Data columns (total 66 columns):\n",
      "Time    19920 non-null object\n",
      "Code    19920 non-null object\n",
      "Fc5.    19920 non-null object\n",
      "Fc3.    19920 non-null object\n",
      "Fc1.    19920 non-null object\n",
      "Fcz.    19920 non-null object\n",
      "Fc2.    19920 non-null object\n",
      "Fc4.    19920 non-null object\n",
      "Fc6.    19920 non-null object\n",
      "C5..    19920 non-null object\n",
      "C3..    19920 non-null object\n",
      "C1..    19920 non-null object\n",
      "Cz..    19920 non-null object\n",
      "C2..    19920 non-null object\n",
      "C4..    19920 non-null object\n",
      "C6..    19920 non-null object\n",
      "Cp5.    19920 non-null object\n",
      "Cp3.    19920 non-null object\n",
      "Cp1.    19920 non-null object\n",
      "Cpz.    19920 non-null object\n",
      "Cp2.    19920 non-null object\n",
      "Cp4.    19920 non-null object\n",
      "Cp6.    19920 non-null object\n",
      "Fp1.    19920 non-null object\n",
      "Fpz.    19920 non-null object\n",
      "Fp2.    19920 non-null object\n",
      "Af7.    19920 non-null object\n",
      "Af3.    19920 non-null object\n",
      "Afz.    19920 non-null object\n",
      "Af4.    19920 non-null object\n",
      "Af8.    19920 non-null object\n",
      "F7..    19920 non-null object\n",
      "F5..    19920 non-null object\n",
      "F3..    19920 non-null object\n",
      "F1..    19920 non-null object\n",
      "Fz..    19920 non-null object\n",
      "F2..    19920 non-null object\n",
      "F4..    19920 non-null object\n",
      "F6..    19920 non-null object\n",
      "F8..    19920 non-null object\n",
      "Ft7.    19920 non-null object\n",
      "Ft8.    19920 non-null object\n",
      "T7..    19920 non-null object\n",
      "T8..    19920 non-null object\n",
      "T9..    19920 non-null object\n",
      "T10.    19920 non-null object\n",
      "Tp7.    19920 non-null object\n",
      "Tp8.    19920 non-null object\n",
      "P7..    19920 non-null object\n",
      "P5..    19920 non-null object\n",
      "P3..    19920 non-null object\n",
      "P1..    19920 non-null object\n",
      "Pz..    19920 non-null object\n",
      "P2..    19920 non-null object\n",
      "P4..    19920 non-null object\n",
      "P6..    19920 non-null object\n",
      "P8..    19920 non-null object\n",
      "Po7.    19920 non-null object\n",
      "Po3.    19920 non-null object\n",
      "Poz.    19920 non-null object\n",
      "Po4.    19920 non-null object\n",
      "Po8.    19920 non-null object\n",
      "O1..    19920 non-null object\n",
      "Oz..    19920 non-null object\n",
      "O2..    19920 non-null object\n",
      "Iz..    19920 non-null object\n",
      "dtypes: object(66)\n",
      "memory usage: 10.0+ MB\n"
     ]
    }
   ],
   "source": [
    "final_data.head()\n",
    "final_data.info()"
   ]
  },
  {
   "cell_type": "code",
   "execution_count": 56,
   "metadata": {},
   "outputs": [
    {
     "data": {
      "text/html": [
       "<div>\n",
       "<style scoped>\n",
       "    .dataframe tbody tr th:only-of-type {\n",
       "        vertical-align: middle;\n",
       "    }\n",
       "\n",
       "    .dataframe tbody tr th {\n",
       "        vertical-align: top;\n",
       "    }\n",
       "\n",
       "    .dataframe thead th {\n",
       "        text-align: right;\n",
       "    }\n",
       "</style>\n",
       "<table border=\"1\" class=\"dataframe\">\n",
       "  <thead>\n",
       "    <tr style=\"text-align: right;\">\n",
       "      <th></th>\n",
       "      <th>Time</th>\n",
       "      <th>Code</th>\n",
       "      <th>Fc5.</th>\n",
       "      <th>Fc3.</th>\n",
       "      <th>Fc1.</th>\n",
       "      <th>Fcz.</th>\n",
       "      <th>Fc2.</th>\n",
       "      <th>Fc4.</th>\n",
       "      <th>Fc6.</th>\n",
       "      <th>C5..</th>\n",
       "      <th>...</th>\n",
       "      <th>P8..</th>\n",
       "      <th>Po7.</th>\n",
       "      <th>Po3.</th>\n",
       "      <th>Poz.</th>\n",
       "      <th>Po4.</th>\n",
       "      <th>Po8.</th>\n",
       "      <th>O1..</th>\n",
       "      <th>Oz..</th>\n",
       "      <th>O2..</th>\n",
       "      <th>Iz..</th>\n",
       "    </tr>\n",
       "  </thead>\n",
       "  <tbody>\n",
       "    <tr>\n",
       "      <th>0</th>\n",
       "      <td>0.0</td>\n",
       "      <td>T0</td>\n",
       "      <td>-10.0</td>\n",
       "      <td>20.0</td>\n",
       "      <td>7.0</td>\n",
       "      <td>-18.0</td>\n",
       "      <td>0.0</td>\n",
       "      <td>4.0</td>\n",
       "      <td>60.0</td>\n",
       "      <td>4.0</td>\n",
       "      <td>...</td>\n",
       "      <td>-6.0</td>\n",
       "      <td>30.0</td>\n",
       "      <td>25.0</td>\n",
       "      <td>22.0</td>\n",
       "      <td>13.0</td>\n",
       "      <td>-9.0</td>\n",
       "      <td>20.0</td>\n",
       "      <td>24.0</td>\n",
       "      <td>89.0</td>\n",
       "      <td>68.0</td>\n",
       "    </tr>\n",
       "    <tr>\n",
       "      <th>1</th>\n",
       "      <td>0.00625</td>\n",
       "      <td>T0</td>\n",
       "      <td>10.0</td>\n",
       "      <td>50.0</td>\n",
       "      <td>49.0</td>\n",
       "      <td>22.0</td>\n",
       "      <td>38.0</td>\n",
       "      <td>31.0</td>\n",
       "      <td>84.0</td>\n",
       "      <td>25.0</td>\n",
       "      <td>...</td>\n",
       "      <td>1.0</td>\n",
       "      <td>44.0</td>\n",
       "      <td>31.0</td>\n",
       "      <td>27.0</td>\n",
       "      <td>25.0</td>\n",
       "      <td>12.0</td>\n",
       "      <td>30.0</td>\n",
       "      <td>25.0</td>\n",
       "      <td>83.0</td>\n",
       "      <td>65.0</td>\n",
       "    </tr>\n",
       "    <tr>\n",
       "      <th>2</th>\n",
       "      <td>0.0125</td>\n",
       "      <td>T0</td>\n",
       "      <td>17.0</td>\n",
       "      <td>55.0</td>\n",
       "      <td>59.0</td>\n",
       "      <td>30.0</td>\n",
       "      <td>37.0</td>\n",
       "      <td>25.0</td>\n",
       "      <td>79.0</td>\n",
       "      <td>30.0</td>\n",
       "      <td>...</td>\n",
       "      <td>6.0</td>\n",
       "      <td>48.0</td>\n",
       "      <td>36.0</td>\n",
       "      <td>33.0</td>\n",
       "      <td>34.0</td>\n",
       "      <td>34.0</td>\n",
       "      <td>41.0</td>\n",
       "      <td>34.0</td>\n",
       "      <td>92.0</td>\n",
       "      <td>78.0</td>\n",
       "    </tr>\n",
       "    <tr>\n",
       "      <th>3</th>\n",
       "      <td>0.01875</td>\n",
       "      <td>T0</td>\n",
       "      <td>21.0</td>\n",
       "      <td>63.0</td>\n",
       "      <td>66.0</td>\n",
       "      <td>35.0</td>\n",
       "      <td>40.0</td>\n",
       "      <td>29.0</td>\n",
       "      <td>76.0</td>\n",
       "      <td>35.0</td>\n",
       "      <td>...</td>\n",
       "      <td>29.0</td>\n",
       "      <td>48.0</td>\n",
       "      <td>41.0</td>\n",
       "      <td>50.0</td>\n",
       "      <td>59.0</td>\n",
       "      <td>63.0</td>\n",
       "      <td>45.0</td>\n",
       "      <td>47.0</td>\n",
       "      <td>121.0</td>\n",
       "      <td>86.0</td>\n",
       "    </tr>\n",
       "    <tr>\n",
       "      <th>4</th>\n",
       "      <td>0.025</td>\n",
       "      <td>T0</td>\n",
       "      <td>27.0</td>\n",
       "      <td>72.0</td>\n",
       "      <td>79.0</td>\n",
       "      <td>48.0</td>\n",
       "      <td>52.0</td>\n",
       "      <td>42.0</td>\n",
       "      <td>91.0</td>\n",
       "      <td>43.0</td>\n",
       "      <td>...</td>\n",
       "      <td>35.0</td>\n",
       "      <td>29.0</td>\n",
       "      <td>22.0</td>\n",
       "      <td>42.0</td>\n",
       "      <td>62.0</td>\n",
       "      <td>71.0</td>\n",
       "      <td>37.0</td>\n",
       "      <td>51.0</td>\n",
       "      <td>143.0</td>\n",
       "      <td>90.0</td>\n",
       "    </tr>\n",
       "  </tbody>\n",
       "</table>\n",
       "<p>5 rows × 66 columns</p>\n",
       "</div>"
      ],
      "text/plain": [
       "      Time Code   Fc5.  Fc3.  Fc1.   Fcz.  Fc2.  Fc4.  Fc6.  C5..  ...   P8..  \\\n",
       "0      0.0   T0  -10.0  20.0   7.0  -18.0   0.0   4.0  60.0   4.0  ...   -6.0   \n",
       "1  0.00625   T0   10.0  50.0  49.0   22.0  38.0  31.0  84.0  25.0  ...    1.0   \n",
       "2   0.0125   T0   17.0  55.0  59.0   30.0  37.0  25.0  79.0  30.0  ...    6.0   \n",
       "3  0.01875   T0   21.0  63.0  66.0   35.0  40.0  29.0  76.0  35.0  ...   29.0   \n",
       "4    0.025   T0   27.0  72.0  79.0   48.0  52.0  42.0  91.0  43.0  ...   35.0   \n",
       "\n",
       "   Po7.  Po3.  Poz.  Po4.  Po8.  O1..  Oz..   O2..  Iz..  \n",
       "0  30.0  25.0  22.0  13.0  -9.0  20.0  24.0   89.0  68.0  \n",
       "1  44.0  31.0  27.0  25.0  12.0  30.0  25.0   83.0  65.0  \n",
       "2  48.0  36.0  33.0  34.0  34.0  41.0  34.0   92.0  78.0  \n",
       "3  48.0  41.0  50.0  59.0  63.0  45.0  47.0  121.0  86.0  \n",
       "4  29.0  22.0  42.0  62.0  71.0  37.0  51.0  143.0  90.0  \n",
       "\n",
       "[5 rows x 66 columns]"
      ]
     },
     "execution_count": 56,
     "metadata": {},
     "output_type": "execute_result"
    }
   ],
   "source": [
    "final_data.head()"
   ]
  },
  {
   "cell_type": "code",
   "execution_count": 60,
   "metadata": {},
   "outputs": [
    {
     "data": {
      "text/plain": [
       "Time    object\n",
       "Code    object\n",
       "Fc5.    object\n",
       "Fc3.    object\n",
       "Fc1.    object\n",
       "Fcz.    object\n",
       "Fc2.    object\n",
       "Fc4.    object\n",
       "Fc6.    object\n",
       "C5..    object\n",
       "C3..    object\n",
       "C1..    object\n",
       "Cz..    object\n",
       "C2..    object\n",
       "C4..    object\n",
       "C6..    object\n",
       "Cp5.    object\n",
       "Cp3.    object\n",
       "Cp1.    object\n",
       "Cpz.    object\n",
       "Cp2.    object\n",
       "Cp4.    object\n",
       "Cp6.    object\n",
       "Fp1.    object\n",
       "Fpz.    object\n",
       "Fp2.    object\n",
       "Af7.    object\n",
       "Af3.    object\n",
       "Afz.    object\n",
       "Af4.    object\n",
       "         ...  \n",
       "F2..    object\n",
       "F4..    object\n",
       "F6..    object\n",
       "F8..    object\n",
       "Ft7.    object\n",
       "Ft8.    object\n",
       "T7..    object\n",
       "T8..    object\n",
       "T9..    object\n",
       "T10.    object\n",
       "Tp7.    object\n",
       "Tp8.    object\n",
       "P7..    object\n",
       "P5..    object\n",
       "P3..    object\n",
       "P1..    object\n",
       "Pz..    object\n",
       "P2..    object\n",
       "P4..    object\n",
       "P6..    object\n",
       "P8..    object\n",
       "Po7.    object\n",
       "Po3.    object\n",
       "Poz.    object\n",
       "Po4.    object\n",
       "Po8.    object\n",
       "O1..    object\n",
       "Oz..    object\n",
       "O2..    object\n",
       "Iz..    object\n",
       "Length: 66, dtype: object"
      ]
     },
     "execution_count": 60,
     "metadata": {},
     "output_type": "execute_result"
    }
   ],
   "source": [
    "final_data.dtypes"
   ]
  },
  {
   "cell_type": "code",
   "execution_count": 66,
   "metadata": {},
   "outputs": [],
   "source": [
    "t1 = pd.DataFrame(dataset,dtype=np.float64)"
   ]
  },
  {
   "cell_type": "code",
   "execution_count": 67,
   "metadata": {},
   "outputs": [
    {
     "name": "stdout",
     "output_type": "stream",
     "text": [
      "<class 'pandas.core.frame.DataFrame'>\n",
      "RangeIndex: 19920 entries, 0 to 19919\n",
      "Data columns (total 64 columns):\n",
      "0     19920 non-null float64\n",
      "1     19920 non-null float64\n",
      "2     19920 non-null float64\n",
      "3     19920 non-null float64\n",
      "4     19920 non-null float64\n",
      "5     19920 non-null float64\n",
      "6     19920 non-null float64\n",
      "7     19920 non-null float64\n",
      "8     19920 non-null float64\n",
      "9     19920 non-null float64\n",
      "10    19920 non-null float64\n",
      "11    19920 non-null float64\n",
      "12    19920 non-null float64\n",
      "13    19920 non-null float64\n",
      "14    19920 non-null float64\n",
      "15    19920 non-null float64\n",
      "16    19920 non-null float64\n",
      "17    19920 non-null float64\n",
      "18    19920 non-null float64\n",
      "19    19920 non-null float64\n",
      "20    19920 non-null float64\n",
      "21    19920 non-null float64\n",
      "22    19920 non-null float64\n",
      "23    19920 non-null float64\n",
      "24    19920 non-null float64\n",
      "25    19920 non-null float64\n",
      "26    19920 non-null float64\n",
      "27    19920 non-null float64\n",
      "28    19920 non-null float64\n",
      "29    19920 non-null float64\n",
      "30    19920 non-null float64\n",
      "31    19920 non-null float64\n",
      "32    19920 non-null float64\n",
      "33    19920 non-null float64\n",
      "34    19920 non-null float64\n",
      "35    19920 non-null float64\n",
      "36    19920 non-null float64\n",
      "37    19920 non-null float64\n",
      "38    19920 non-null float64\n",
      "39    19920 non-null float64\n",
      "40    19920 non-null float64\n",
      "41    19920 non-null float64\n",
      "42    19920 non-null float64\n",
      "43    19920 non-null float64\n",
      "44    19920 non-null float64\n",
      "45    19920 non-null float64\n",
      "46    19920 non-null float64\n",
      "47    19920 non-null float64\n",
      "48    19920 non-null float64\n",
      "49    19920 non-null float64\n",
      "50    19920 non-null float64\n",
      "51    19920 non-null float64\n",
      "52    19920 non-null float64\n",
      "53    19920 non-null float64\n",
      "54    19920 non-null float64\n",
      "55    19920 non-null float64\n",
      "56    19920 non-null float64\n",
      "57    19920 non-null float64\n",
      "58    19920 non-null float64\n",
      "59    19920 non-null float64\n",
      "60    19920 non-null float64\n",
      "61    19920 non-null float64\n",
      "62    19920 non-null float64\n",
      "63    19920 non-null float64\n",
      "dtypes: float64(64)\n",
      "memory usage: 9.7 MB\n"
     ]
    }
   ],
   "source": [
    "t1.info()"
   ]
  },
  {
   "cell_type": "code",
   "execution_count": 68,
   "metadata": {},
   "outputs": [],
   "source": [
    "newDataset = np.concatenate((timeArray,newCodeArray,dataset),axis=1)"
   ]
  },
  {
   "cell_type": "code",
   "execution_count": 72,
   "metadata": {},
   "outputs": [],
   "source": [
    "final_dataset = pd.DataFrame(newDataset,columns=col)"
   ]
  },
  {
   "cell_type": "code",
   "execution_count": 73,
   "metadata": {},
   "outputs": [
    {
     "data": {
      "text/html": [
       "<div>\n",
       "<style scoped>\n",
       "    .dataframe tbody tr th:only-of-type {\n",
       "        vertical-align: middle;\n",
       "    }\n",
       "\n",
       "    .dataframe tbody tr th {\n",
       "        vertical-align: top;\n",
       "    }\n",
       "\n",
       "    .dataframe thead th {\n",
       "        text-align: right;\n",
       "    }\n",
       "</style>\n",
       "<table border=\"1\" class=\"dataframe\">\n",
       "  <thead>\n",
       "    <tr style=\"text-align: right;\">\n",
       "      <th></th>\n",
       "      <th>Time</th>\n",
       "      <th>Code</th>\n",
       "      <th>Fc5.</th>\n",
       "      <th>Fc3.</th>\n",
       "      <th>Fc1.</th>\n",
       "      <th>Fcz.</th>\n",
       "      <th>Fc2.</th>\n",
       "      <th>Fc4.</th>\n",
       "      <th>Fc6.</th>\n",
       "      <th>C5..</th>\n",
       "      <th>...</th>\n",
       "      <th>P8..</th>\n",
       "      <th>Po7.</th>\n",
       "      <th>Po3.</th>\n",
       "      <th>Poz.</th>\n",
       "      <th>Po4.</th>\n",
       "      <th>Po8.</th>\n",
       "      <th>O1..</th>\n",
       "      <th>Oz..</th>\n",
       "      <th>O2..</th>\n",
       "      <th>Iz..</th>\n",
       "    </tr>\n",
       "  </thead>\n",
       "  <tbody>\n",
       "    <tr>\n",
       "      <th>0</th>\n",
       "      <td>0.0</td>\n",
       "      <td>T0</td>\n",
       "      <td>-10.0</td>\n",
       "      <td>20.0</td>\n",
       "      <td>7.0</td>\n",
       "      <td>-18.0</td>\n",
       "      <td>0.0</td>\n",
       "      <td>4.0</td>\n",
       "      <td>60.0</td>\n",
       "      <td>4.0</td>\n",
       "      <td>...</td>\n",
       "      <td>-6.0</td>\n",
       "      <td>30.0</td>\n",
       "      <td>25.0</td>\n",
       "      <td>22.0</td>\n",
       "      <td>13.0</td>\n",
       "      <td>-9.0</td>\n",
       "      <td>20.0</td>\n",
       "      <td>24.0</td>\n",
       "      <td>89.0</td>\n",
       "      <td>68.0</td>\n",
       "    </tr>\n",
       "    <tr>\n",
       "      <th>1</th>\n",
       "      <td>0.00625</td>\n",
       "      <td>T0</td>\n",
       "      <td>10.0</td>\n",
       "      <td>50.0</td>\n",
       "      <td>49.0</td>\n",
       "      <td>22.0</td>\n",
       "      <td>38.0</td>\n",
       "      <td>31.0</td>\n",
       "      <td>84.0</td>\n",
       "      <td>25.0</td>\n",
       "      <td>...</td>\n",
       "      <td>1.0</td>\n",
       "      <td>44.0</td>\n",
       "      <td>31.0</td>\n",
       "      <td>27.0</td>\n",
       "      <td>25.0</td>\n",
       "      <td>12.0</td>\n",
       "      <td>30.0</td>\n",
       "      <td>25.0</td>\n",
       "      <td>83.0</td>\n",
       "      <td>65.0</td>\n",
       "    </tr>\n",
       "    <tr>\n",
       "      <th>2</th>\n",
       "      <td>0.0125</td>\n",
       "      <td>T0</td>\n",
       "      <td>17.0</td>\n",
       "      <td>55.0</td>\n",
       "      <td>59.0</td>\n",
       "      <td>30.0</td>\n",
       "      <td>37.0</td>\n",
       "      <td>25.0</td>\n",
       "      <td>79.0</td>\n",
       "      <td>30.0</td>\n",
       "      <td>...</td>\n",
       "      <td>6.0</td>\n",
       "      <td>48.0</td>\n",
       "      <td>36.0</td>\n",
       "      <td>33.0</td>\n",
       "      <td>34.0</td>\n",
       "      <td>34.0</td>\n",
       "      <td>41.0</td>\n",
       "      <td>34.0</td>\n",
       "      <td>92.0</td>\n",
       "      <td>78.0</td>\n",
       "    </tr>\n",
       "    <tr>\n",
       "      <th>3</th>\n",
       "      <td>0.01875</td>\n",
       "      <td>T0</td>\n",
       "      <td>21.0</td>\n",
       "      <td>63.0</td>\n",
       "      <td>66.0</td>\n",
       "      <td>35.0</td>\n",
       "      <td>40.0</td>\n",
       "      <td>29.0</td>\n",
       "      <td>76.0</td>\n",
       "      <td>35.0</td>\n",
       "      <td>...</td>\n",
       "      <td>29.0</td>\n",
       "      <td>48.0</td>\n",
       "      <td>41.0</td>\n",
       "      <td>50.0</td>\n",
       "      <td>59.0</td>\n",
       "      <td>63.0</td>\n",
       "      <td>45.0</td>\n",
       "      <td>47.0</td>\n",
       "      <td>121.0</td>\n",
       "      <td>86.0</td>\n",
       "    </tr>\n",
       "    <tr>\n",
       "      <th>4</th>\n",
       "      <td>0.025</td>\n",
       "      <td>T0</td>\n",
       "      <td>27.0</td>\n",
       "      <td>72.0</td>\n",
       "      <td>79.0</td>\n",
       "      <td>48.0</td>\n",
       "      <td>52.0</td>\n",
       "      <td>42.0</td>\n",
       "      <td>91.0</td>\n",
       "      <td>43.0</td>\n",
       "      <td>...</td>\n",
       "      <td>35.0</td>\n",
       "      <td>29.0</td>\n",
       "      <td>22.0</td>\n",
       "      <td>42.0</td>\n",
       "      <td>62.0</td>\n",
       "      <td>71.0</td>\n",
       "      <td>37.0</td>\n",
       "      <td>51.0</td>\n",
       "      <td>143.0</td>\n",
       "      <td>90.0</td>\n",
       "    </tr>\n",
       "  </tbody>\n",
       "</table>\n",
       "<p>5 rows × 66 columns</p>\n",
       "</div>"
      ],
      "text/plain": [
       "      Time Code   Fc5.  Fc3.  Fc1.   Fcz.  Fc2.  Fc4.  Fc6.  C5..  ...   P8..  \\\n",
       "0      0.0   T0  -10.0  20.0   7.0  -18.0   0.0   4.0  60.0   4.0  ...   -6.0   \n",
       "1  0.00625   T0   10.0  50.0  49.0   22.0  38.0  31.0  84.0  25.0  ...    1.0   \n",
       "2   0.0125   T0   17.0  55.0  59.0   30.0  37.0  25.0  79.0  30.0  ...    6.0   \n",
       "3  0.01875   T0   21.0  63.0  66.0   35.0  40.0  29.0  76.0  35.0  ...   29.0   \n",
       "4    0.025   T0   27.0  72.0  79.0   48.0  52.0  42.0  91.0  43.0  ...   35.0   \n",
       "\n",
       "   Po7.  Po3.  Poz.  Po4.  Po8.  O1..  Oz..   O2..  Iz..  \n",
       "0  30.0  25.0  22.0  13.0  -9.0  20.0  24.0   89.0  68.0  \n",
       "1  44.0  31.0  27.0  25.0  12.0  30.0  25.0   83.0  65.0  \n",
       "2  48.0  36.0  33.0  34.0  34.0  41.0  34.0   92.0  78.0  \n",
       "3  48.0  41.0  50.0  59.0  63.0  45.0  47.0  121.0  86.0  \n",
       "4  29.0  22.0  42.0  62.0  71.0  37.0  51.0  143.0  90.0  \n",
       "\n",
       "[5 rows x 66 columns]"
      ]
     },
     "execution_count": 73,
     "metadata": {},
     "output_type": "execute_result"
    }
   ],
   "source": [
    "final_dataset.head()"
   ]
  },
  {
   "cell_type": "code",
   "execution_count": 74,
   "metadata": {},
   "outputs": [],
   "source": [
    "final_dataset.index += 1"
   ]
  },
  {
   "cell_type": "code",
   "execution_count": 75,
   "metadata": {},
   "outputs": [
    {
     "data": {
      "text/html": [
       "<div>\n",
       "<style scoped>\n",
       "    .dataframe tbody tr th:only-of-type {\n",
       "        vertical-align: middle;\n",
       "    }\n",
       "\n",
       "    .dataframe tbody tr th {\n",
       "        vertical-align: top;\n",
       "    }\n",
       "\n",
       "    .dataframe thead th {\n",
       "        text-align: right;\n",
       "    }\n",
       "</style>\n",
       "<table border=\"1\" class=\"dataframe\">\n",
       "  <thead>\n",
       "    <tr style=\"text-align: right;\">\n",
       "      <th></th>\n",
       "      <th>Time</th>\n",
       "      <th>Code</th>\n",
       "      <th>Fc5.</th>\n",
       "      <th>Fc3.</th>\n",
       "      <th>Fc1.</th>\n",
       "      <th>Fcz.</th>\n",
       "      <th>Fc2.</th>\n",
       "      <th>Fc4.</th>\n",
       "      <th>Fc6.</th>\n",
       "      <th>C5..</th>\n",
       "      <th>...</th>\n",
       "      <th>P8..</th>\n",
       "      <th>Po7.</th>\n",
       "      <th>Po3.</th>\n",
       "      <th>Poz.</th>\n",
       "      <th>Po4.</th>\n",
       "      <th>Po8.</th>\n",
       "      <th>O1..</th>\n",
       "      <th>Oz..</th>\n",
       "      <th>O2..</th>\n",
       "      <th>Iz..</th>\n",
       "    </tr>\n",
       "  </thead>\n",
       "  <tbody>\n",
       "    <tr>\n",
       "      <th>1</th>\n",
       "      <td>0.0</td>\n",
       "      <td>T0</td>\n",
       "      <td>-10.0</td>\n",
       "      <td>20.0</td>\n",
       "      <td>7.0</td>\n",
       "      <td>-18.0</td>\n",
       "      <td>0.0</td>\n",
       "      <td>4.0</td>\n",
       "      <td>60.0</td>\n",
       "      <td>4.0</td>\n",
       "      <td>...</td>\n",
       "      <td>-6.0</td>\n",
       "      <td>30.0</td>\n",
       "      <td>25.0</td>\n",
       "      <td>22.0</td>\n",
       "      <td>13.0</td>\n",
       "      <td>-9.0</td>\n",
       "      <td>20.0</td>\n",
       "      <td>24.0</td>\n",
       "      <td>89.0</td>\n",
       "      <td>68.0</td>\n",
       "    </tr>\n",
       "    <tr>\n",
       "      <th>2</th>\n",
       "      <td>0.00625</td>\n",
       "      <td>T0</td>\n",
       "      <td>10.0</td>\n",
       "      <td>50.0</td>\n",
       "      <td>49.0</td>\n",
       "      <td>22.0</td>\n",
       "      <td>38.0</td>\n",
       "      <td>31.0</td>\n",
       "      <td>84.0</td>\n",
       "      <td>25.0</td>\n",
       "      <td>...</td>\n",
       "      <td>1.0</td>\n",
       "      <td>44.0</td>\n",
       "      <td>31.0</td>\n",
       "      <td>27.0</td>\n",
       "      <td>25.0</td>\n",
       "      <td>12.0</td>\n",
       "      <td>30.0</td>\n",
       "      <td>25.0</td>\n",
       "      <td>83.0</td>\n",
       "      <td>65.0</td>\n",
       "    </tr>\n",
       "    <tr>\n",
       "      <th>3</th>\n",
       "      <td>0.0125</td>\n",
       "      <td>T0</td>\n",
       "      <td>17.0</td>\n",
       "      <td>55.0</td>\n",
       "      <td>59.0</td>\n",
       "      <td>30.0</td>\n",
       "      <td>37.0</td>\n",
       "      <td>25.0</td>\n",
       "      <td>79.0</td>\n",
       "      <td>30.0</td>\n",
       "      <td>...</td>\n",
       "      <td>6.0</td>\n",
       "      <td>48.0</td>\n",
       "      <td>36.0</td>\n",
       "      <td>33.0</td>\n",
       "      <td>34.0</td>\n",
       "      <td>34.0</td>\n",
       "      <td>41.0</td>\n",
       "      <td>34.0</td>\n",
       "      <td>92.0</td>\n",
       "      <td>78.0</td>\n",
       "    </tr>\n",
       "    <tr>\n",
       "      <th>4</th>\n",
       "      <td>0.01875</td>\n",
       "      <td>T0</td>\n",
       "      <td>21.0</td>\n",
       "      <td>63.0</td>\n",
       "      <td>66.0</td>\n",
       "      <td>35.0</td>\n",
       "      <td>40.0</td>\n",
       "      <td>29.0</td>\n",
       "      <td>76.0</td>\n",
       "      <td>35.0</td>\n",
       "      <td>...</td>\n",
       "      <td>29.0</td>\n",
       "      <td>48.0</td>\n",
       "      <td>41.0</td>\n",
       "      <td>50.0</td>\n",
       "      <td>59.0</td>\n",
       "      <td>63.0</td>\n",
       "      <td>45.0</td>\n",
       "      <td>47.0</td>\n",
       "      <td>121.0</td>\n",
       "      <td>86.0</td>\n",
       "    </tr>\n",
       "    <tr>\n",
       "      <th>5</th>\n",
       "      <td>0.025</td>\n",
       "      <td>T0</td>\n",
       "      <td>27.0</td>\n",
       "      <td>72.0</td>\n",
       "      <td>79.0</td>\n",
       "      <td>48.0</td>\n",
       "      <td>52.0</td>\n",
       "      <td>42.0</td>\n",
       "      <td>91.0</td>\n",
       "      <td>43.0</td>\n",
       "      <td>...</td>\n",
       "      <td>35.0</td>\n",
       "      <td>29.0</td>\n",
       "      <td>22.0</td>\n",
       "      <td>42.0</td>\n",
       "      <td>62.0</td>\n",
       "      <td>71.0</td>\n",
       "      <td>37.0</td>\n",
       "      <td>51.0</td>\n",
       "      <td>143.0</td>\n",
       "      <td>90.0</td>\n",
       "    </tr>\n",
       "  </tbody>\n",
       "</table>\n",
       "<p>5 rows × 66 columns</p>\n",
       "</div>"
      ],
      "text/plain": [
       "      Time Code   Fc5.  Fc3.  Fc1.   Fcz.  Fc2.  Fc4.  Fc6.  C5..  ...   P8..  \\\n",
       "1      0.0   T0  -10.0  20.0   7.0  -18.0   0.0   4.0  60.0   4.0  ...   -6.0   \n",
       "2  0.00625   T0   10.0  50.0  49.0   22.0  38.0  31.0  84.0  25.0  ...    1.0   \n",
       "3   0.0125   T0   17.0  55.0  59.0   30.0  37.0  25.0  79.0  30.0  ...    6.0   \n",
       "4  0.01875   T0   21.0  63.0  66.0   35.0  40.0  29.0  76.0  35.0  ...   29.0   \n",
       "5    0.025   T0   27.0  72.0  79.0   48.0  52.0  42.0  91.0  43.0  ...   35.0   \n",
       "\n",
       "   Po7.  Po3.  Poz.  Po4.  Po8.  O1..  Oz..   O2..  Iz..  \n",
       "1  30.0  25.0  22.0  13.0  -9.0  20.0  24.0   89.0  68.0  \n",
       "2  44.0  31.0  27.0  25.0  12.0  30.0  25.0   83.0  65.0  \n",
       "3  48.0  36.0  33.0  34.0  34.0  41.0  34.0   92.0  78.0  \n",
       "4  48.0  41.0  50.0  59.0  63.0  45.0  47.0  121.0  86.0  \n",
       "5  29.0  22.0  42.0  62.0  71.0  37.0  51.0  143.0  90.0  \n",
       "\n",
       "[5 rows x 66 columns]"
      ]
     },
     "execution_count": 75,
     "metadata": {},
     "output_type": "execute_result"
    }
   ],
   "source": [
    "final_dataset.head()"
   ]
  },
  {
   "cell_type": "code",
   "execution_count": 76,
   "metadata": {
    "scrolled": true
   },
   "outputs": [
    {
     "name": "stdout",
     "output_type": "stream",
     "text": [
      "<class 'pandas.core.frame.DataFrame'>\n",
      "RangeIndex: 19920 entries, 1 to 19920\n",
      "Data columns (total 66 columns):\n",
      "Time    19920 non-null object\n",
      "Code    19920 non-null object\n",
      "Fc5.    19920 non-null object\n",
      "Fc3.    19920 non-null object\n",
      "Fc1.    19920 non-null object\n",
      "Fcz.    19920 non-null object\n",
      "Fc2.    19920 non-null object\n",
      "Fc4.    19920 non-null object\n",
      "Fc6.    19920 non-null object\n",
      "C5..    19920 non-null object\n",
      "C3..    19920 non-null object\n",
      "C1..    19920 non-null object\n",
      "Cz..    19920 non-null object\n",
      "C2..    19920 non-null object\n",
      "C4..    19920 non-null object\n",
      "C6..    19920 non-null object\n",
      "Cp5.    19920 non-null object\n",
      "Cp3.    19920 non-null object\n",
      "Cp1.    19920 non-null object\n",
      "Cpz.    19920 non-null object\n",
      "Cp2.    19920 non-null object\n",
      "Cp4.    19920 non-null object\n",
      "Cp6.    19920 non-null object\n",
      "Fp1.    19920 non-null object\n",
      "Fpz.    19920 non-null object\n",
      "Fp2.    19920 non-null object\n",
      "Af7.    19920 non-null object\n",
      "Af3.    19920 non-null object\n",
      "Afz.    19920 non-null object\n",
      "Af4.    19920 non-null object\n",
      "Af8.    19920 non-null object\n",
      "F7..    19920 non-null object\n",
      "F5..    19920 non-null object\n",
      "F3..    19920 non-null object\n",
      "F1..    19920 non-null object\n",
      "Fz..    19920 non-null object\n",
      "F2..    19920 non-null object\n",
      "F4..    19920 non-null object\n",
      "F6..    19920 non-null object\n",
      "F8..    19920 non-null object\n",
      "Ft7.    19920 non-null object\n",
      "Ft8.    19920 non-null object\n",
      "T7..    19920 non-null object\n",
      "T8..    19920 non-null object\n",
      "T9..    19920 non-null object\n",
      "T10.    19920 non-null object\n",
      "Tp7.    19920 non-null object\n",
      "Tp8.    19920 non-null object\n",
      "P7..    19920 non-null object\n",
      "P5..    19920 non-null object\n",
      "P3..    19920 non-null object\n",
      "P1..    19920 non-null object\n",
      "Pz..    19920 non-null object\n",
      "P2..    19920 non-null object\n",
      "P4..    19920 non-null object\n",
      "P6..    19920 non-null object\n",
      "P8..    19920 non-null object\n",
      "Po7.    19920 non-null object\n",
      "Po3.    19920 non-null object\n",
      "Poz.    19920 non-null object\n",
      "Po4.    19920 non-null object\n",
      "Po8.    19920 non-null object\n",
      "O1..    19920 non-null object\n",
      "Oz..    19920 non-null object\n",
      "O2..    19920 non-null object\n",
      "Iz..    19920 non-null object\n",
      "dtypes: object(66)\n",
      "memory usage: 10.0+ MB\n"
     ]
    }
   ],
   "source": [
    "final_dataset.info()"
   ]
  },
  {
   "cell_type": "code",
   "execution_count": 77,
   "metadata": {},
   "outputs": [
    {
     "data": {
      "text/html": [
       "<div>\n",
       "<style scoped>\n",
       "    .dataframe tbody tr th:only-of-type {\n",
       "        vertical-align: middle;\n",
       "    }\n",
       "\n",
       "    .dataframe tbody tr th {\n",
       "        vertical-align: top;\n",
       "    }\n",
       "\n",
       "    .dataframe thead th {\n",
       "        text-align: right;\n",
       "    }\n",
       "</style>\n",
       "<table border=\"1\" class=\"dataframe\">\n",
       "  <thead>\n",
       "    <tr style=\"text-align: right;\">\n",
       "      <th></th>\n",
       "      <th>Time</th>\n",
       "      <th>Code</th>\n",
       "      <th>Fc5.</th>\n",
       "      <th>Fc3.</th>\n",
       "      <th>Fc1.</th>\n",
       "      <th>Fcz.</th>\n",
       "      <th>Fc2.</th>\n",
       "      <th>Fc4.</th>\n",
       "      <th>Fc6.</th>\n",
       "      <th>C5..</th>\n",
       "      <th>...</th>\n",
       "      <th>P8..</th>\n",
       "      <th>Po7.</th>\n",
       "      <th>Po3.</th>\n",
       "      <th>Poz.</th>\n",
       "      <th>Po4.</th>\n",
       "      <th>Po8.</th>\n",
       "      <th>O1..</th>\n",
       "      <th>Oz..</th>\n",
       "      <th>O2..</th>\n",
       "      <th>Iz..</th>\n",
       "    </tr>\n",
       "  </thead>\n",
       "  <tbody>\n",
       "    <tr>\n",
       "      <th>1</th>\n",
       "      <td>0.0</td>\n",
       "      <td>T0</td>\n",
       "      <td>-10.0</td>\n",
       "      <td>20.0</td>\n",
       "      <td>7.0</td>\n",
       "      <td>-18.0</td>\n",
       "      <td>0.0</td>\n",
       "      <td>4.0</td>\n",
       "      <td>60.0</td>\n",
       "      <td>4.0</td>\n",
       "      <td>...</td>\n",
       "      <td>-6.0</td>\n",
       "      <td>30.0</td>\n",
       "      <td>25.0</td>\n",
       "      <td>22.0</td>\n",
       "      <td>13.0</td>\n",
       "      <td>-9.0</td>\n",
       "      <td>20.0</td>\n",
       "      <td>24.0</td>\n",
       "      <td>89.0</td>\n",
       "      <td>68.0</td>\n",
       "    </tr>\n",
       "    <tr>\n",
       "      <th>2</th>\n",
       "      <td>0.00625</td>\n",
       "      <td>T0</td>\n",
       "      <td>10.0</td>\n",
       "      <td>50.0</td>\n",
       "      <td>49.0</td>\n",
       "      <td>22.0</td>\n",
       "      <td>38.0</td>\n",
       "      <td>31.0</td>\n",
       "      <td>84.0</td>\n",
       "      <td>25.0</td>\n",
       "      <td>...</td>\n",
       "      <td>1.0</td>\n",
       "      <td>44.0</td>\n",
       "      <td>31.0</td>\n",
       "      <td>27.0</td>\n",
       "      <td>25.0</td>\n",
       "      <td>12.0</td>\n",
       "      <td>30.0</td>\n",
       "      <td>25.0</td>\n",
       "      <td>83.0</td>\n",
       "      <td>65.0</td>\n",
       "    </tr>\n",
       "    <tr>\n",
       "      <th>3</th>\n",
       "      <td>0.0125</td>\n",
       "      <td>T0</td>\n",
       "      <td>17.0</td>\n",
       "      <td>55.0</td>\n",
       "      <td>59.0</td>\n",
       "      <td>30.0</td>\n",
       "      <td>37.0</td>\n",
       "      <td>25.0</td>\n",
       "      <td>79.0</td>\n",
       "      <td>30.0</td>\n",
       "      <td>...</td>\n",
       "      <td>6.0</td>\n",
       "      <td>48.0</td>\n",
       "      <td>36.0</td>\n",
       "      <td>33.0</td>\n",
       "      <td>34.0</td>\n",
       "      <td>34.0</td>\n",
       "      <td>41.0</td>\n",
       "      <td>34.0</td>\n",
       "      <td>92.0</td>\n",
       "      <td>78.0</td>\n",
       "    </tr>\n",
       "    <tr>\n",
       "      <th>4</th>\n",
       "      <td>0.01875</td>\n",
       "      <td>T0</td>\n",
       "      <td>21.0</td>\n",
       "      <td>63.0</td>\n",
       "      <td>66.0</td>\n",
       "      <td>35.0</td>\n",
       "      <td>40.0</td>\n",
       "      <td>29.0</td>\n",
       "      <td>76.0</td>\n",
       "      <td>35.0</td>\n",
       "      <td>...</td>\n",
       "      <td>29.0</td>\n",
       "      <td>48.0</td>\n",
       "      <td>41.0</td>\n",
       "      <td>50.0</td>\n",
       "      <td>59.0</td>\n",
       "      <td>63.0</td>\n",
       "      <td>45.0</td>\n",
       "      <td>47.0</td>\n",
       "      <td>121.0</td>\n",
       "      <td>86.0</td>\n",
       "    </tr>\n",
       "    <tr>\n",
       "      <th>5</th>\n",
       "      <td>0.025</td>\n",
       "      <td>T0</td>\n",
       "      <td>27.0</td>\n",
       "      <td>72.0</td>\n",
       "      <td>79.0</td>\n",
       "      <td>48.0</td>\n",
       "      <td>52.0</td>\n",
       "      <td>42.0</td>\n",
       "      <td>91.0</td>\n",
       "      <td>43.0</td>\n",
       "      <td>...</td>\n",
       "      <td>35.0</td>\n",
       "      <td>29.0</td>\n",
       "      <td>22.0</td>\n",
       "      <td>42.0</td>\n",
       "      <td>62.0</td>\n",
       "      <td>71.0</td>\n",
       "      <td>37.0</td>\n",
       "      <td>51.0</td>\n",
       "      <td>143.0</td>\n",
       "      <td>90.0</td>\n",
       "    </tr>\n",
       "    <tr>\n",
       "      <th>6</th>\n",
       "      <td>0.03125</td>\n",
       "      <td>T0</td>\n",
       "      <td>2.0</td>\n",
       "      <td>38.0</td>\n",
       "      <td>40.0</td>\n",
       "      <td>12.0</td>\n",
       "      <td>23.0</td>\n",
       "      <td>20.0</td>\n",
       "      <td>65.0</td>\n",
       "      <td>11.0</td>\n",
       "      <td>...</td>\n",
       "      <td>48.0</td>\n",
       "      <td>27.0</td>\n",
       "      <td>19.0</td>\n",
       "      <td>34.0</td>\n",
       "      <td>67.0</td>\n",
       "      <td>83.0</td>\n",
       "      <td>23.0</td>\n",
       "      <td>43.0</td>\n",
       "      <td>148.0</td>\n",
       "      <td>89.0</td>\n",
       "    </tr>\n",
       "    <tr>\n",
       "      <th>7</th>\n",
       "      <td>0.0375</td>\n",
       "      <td>T0</td>\n",
       "      <td>-5.0</td>\n",
       "      <td>39.0</td>\n",
       "      <td>49.0</td>\n",
       "      <td>24.0</td>\n",
       "      <td>38.0</td>\n",
       "      <td>41.0</td>\n",
       "      <td>86.0</td>\n",
       "      <td>16.0</td>\n",
       "      <td>...</td>\n",
       "      <td>36.0</td>\n",
       "      <td>23.0</td>\n",
       "      <td>18.0</td>\n",
       "      <td>34.0</td>\n",
       "      <td>70.0</td>\n",
       "      <td>89.0</td>\n",
       "      <td>14.0</td>\n",
       "      <td>35.0</td>\n",
       "      <td>146.0</td>\n",
       "      <td>87.0</td>\n",
       "    </tr>\n",
       "    <tr>\n",
       "      <th>8</th>\n",
       "      <td>0.04375</td>\n",
       "      <td>T0</td>\n",
       "      <td>-4.0</td>\n",
       "      <td>49.0</td>\n",
       "      <td>73.0</td>\n",
       "      <td>56.0</td>\n",
       "      <td>60.0</td>\n",
       "      <td>43.0</td>\n",
       "      <td>72.0</td>\n",
       "      <td>14.0</td>\n",
       "      <td>...</td>\n",
       "      <td>26.0</td>\n",
       "      <td>32.0</td>\n",
       "      <td>26.0</td>\n",
       "      <td>36.0</td>\n",
       "      <td>63.0</td>\n",
       "      <td>79.0</td>\n",
       "      <td>17.0</td>\n",
       "      <td>33.0</td>\n",
       "      <td>147.0</td>\n",
       "      <td>90.0</td>\n",
       "    </tr>\n",
       "    <tr>\n",
       "      <th>9</th>\n",
       "      <td>0.05</td>\n",
       "      <td>T0</td>\n",
       "      <td>13.0</td>\n",
       "      <td>53.0</td>\n",
       "      <td>67.0</td>\n",
       "      <td>44.0</td>\n",
       "      <td>52.0</td>\n",
       "      <td>38.0</td>\n",
       "      <td>68.0</td>\n",
       "      <td>41.0</td>\n",
       "      <td>...</td>\n",
       "      <td>9.0</td>\n",
       "      <td>72.0</td>\n",
       "      <td>59.0</td>\n",
       "      <td>41.0</td>\n",
       "      <td>42.0</td>\n",
       "      <td>46.0</td>\n",
       "      <td>43.0</td>\n",
       "      <td>40.0</td>\n",
       "      <td>142.0</td>\n",
       "      <td>109.0</td>\n",
       "    </tr>\n",
       "    <tr>\n",
       "      <th>10</th>\n",
       "      <td>0.05625</td>\n",
       "      <td>T0</td>\n",
       "      <td>25.0</td>\n",
       "      <td>71.0</td>\n",
       "      <td>73.0</td>\n",
       "      <td>42.0</td>\n",
       "      <td>42.0</td>\n",
       "      <td>24.0</td>\n",
       "      <td>48.0</td>\n",
       "      <td>43.0</td>\n",
       "      <td>...</td>\n",
       "      <td>-11.0</td>\n",
       "      <td>53.0</td>\n",
       "      <td>43.0</td>\n",
       "      <td>24.0</td>\n",
       "      <td>21.0</td>\n",
       "      <td>20.0</td>\n",
       "      <td>54.0</td>\n",
       "      <td>33.0</td>\n",
       "      <td>124.0</td>\n",
       "      <td>106.0</td>\n",
       "    </tr>\n",
       "    <tr>\n",
       "      <th>11</th>\n",
       "      <td>0.0625</td>\n",
       "      <td>T0</td>\n",
       "      <td>17.0</td>\n",
       "      <td>59.0</td>\n",
       "      <td>59.0</td>\n",
       "      <td>27.0</td>\n",
       "      <td>21.0</td>\n",
       "      <td>2.0</td>\n",
       "      <td>31.0</td>\n",
       "      <td>27.0</td>\n",
       "      <td>...</td>\n",
       "      <td>-5.0</td>\n",
       "      <td>37.0</td>\n",
       "      <td>37.0</td>\n",
       "      <td>27.0</td>\n",
       "      <td>27.0</td>\n",
       "      <td>22.0</td>\n",
       "      <td>30.0</td>\n",
       "      <td>7.0</td>\n",
       "      <td>103.0</td>\n",
       "      <td>59.0</td>\n",
       "    </tr>\n",
       "    <tr>\n",
       "      <th>12</th>\n",
       "      <td>0.06875</td>\n",
       "      <td>T0</td>\n",
       "      <td>18.0</td>\n",
       "      <td>59.0</td>\n",
       "      <td>48.0</td>\n",
       "      <td>9.0</td>\n",
       "      <td>10.0</td>\n",
       "      <td>-3.0</td>\n",
       "      <td>23.0</td>\n",
       "      <td>52.0</td>\n",
       "      <td>...</td>\n",
       "      <td>4.0</td>\n",
       "      <td>70.0</td>\n",
       "      <td>62.0</td>\n",
       "      <td>56.0</td>\n",
       "      <td>52.0</td>\n",
       "      <td>49.0</td>\n",
       "      <td>26.0</td>\n",
       "      <td>14.0</td>\n",
       "      <td>107.0</td>\n",
       "      <td>49.0</td>\n",
       "    </tr>\n",
       "    <tr>\n",
       "      <th>13</th>\n",
       "      <td>0.075</td>\n",
       "      <td>T0</td>\n",
       "      <td>49.0</td>\n",
       "      <td>76.0</td>\n",
       "      <td>68.0</td>\n",
       "      <td>29.0</td>\n",
       "      <td>31.0</td>\n",
       "      <td>21.0</td>\n",
       "      <td>51.0</td>\n",
       "      <td>60.0</td>\n",
       "      <td>...</td>\n",
       "      <td>58.0</td>\n",
       "      <td>113.0</td>\n",
       "      <td>115.0</td>\n",
       "      <td>110.0</td>\n",
       "      <td>100.0</td>\n",
       "      <td>96.0</td>\n",
       "      <td>64.0</td>\n",
       "      <td>65.0</td>\n",
       "      <td>143.0</td>\n",
       "      <td>98.0</td>\n",
       "    </tr>\n",
       "    <tr>\n",
       "      <th>14</th>\n",
       "      <td>0.08125</td>\n",
       "      <td>T0</td>\n",
       "      <td>99.0</td>\n",
       "      <td>128.0</td>\n",
       "      <td>118.0</td>\n",
       "      <td>77.0</td>\n",
       "      <td>77.0</td>\n",
       "      <td>63.0</td>\n",
       "      <td>91.0</td>\n",
       "      <td>124.0</td>\n",
       "      <td>...</td>\n",
       "      <td>67.0</td>\n",
       "      <td>145.0</td>\n",
       "      <td>147.0</td>\n",
       "      <td>137.0</td>\n",
       "      <td>116.0</td>\n",
       "      <td>104.0</td>\n",
       "      <td>119.0</td>\n",
       "      <td>117.0</td>\n",
       "      <td>181.0</td>\n",
       "      <td>158.0</td>\n",
       "    </tr>\n",
       "    <tr>\n",
       "      <th>15</th>\n",
       "      <td>0.0875</td>\n",
       "      <td>T0</td>\n",
       "      <td>131.0</td>\n",
       "      <td>162.0</td>\n",
       "      <td>148.0</td>\n",
       "      <td>108.0</td>\n",
       "      <td>110.0</td>\n",
       "      <td>99.0</td>\n",
       "      <td>120.0</td>\n",
       "      <td>166.0</td>\n",
       "      <td>...</td>\n",
       "      <td>66.0</td>\n",
       "      <td>195.0</td>\n",
       "      <td>187.0</td>\n",
       "      <td>167.0</td>\n",
       "      <td>131.0</td>\n",
       "      <td>114.0</td>\n",
       "      <td>168.0</td>\n",
       "      <td>153.0</td>\n",
       "      <td>204.0</td>\n",
       "      <td>199.0</td>\n",
       "    </tr>\n",
       "    <tr>\n",
       "      <th>16</th>\n",
       "      <td>0.09375</td>\n",
       "      <td>T0</td>\n",
       "      <td>156.0</td>\n",
       "      <td>182.0</td>\n",
       "      <td>167.0</td>\n",
       "      <td>125.0</td>\n",
       "      <td>122.0</td>\n",
       "      <td>109.0</td>\n",
       "      <td>120.0</td>\n",
       "      <td>188.0</td>\n",
       "      <td>...</td>\n",
       "      <td>88.0</td>\n",
       "      <td>233.0</td>\n",
       "      <td>220.0</td>\n",
       "      <td>195.0</td>\n",
       "      <td>158.0</td>\n",
       "      <td>148.0</td>\n",
       "      <td>210.0</td>\n",
       "      <td>182.0</td>\n",
       "      <td>223.0</td>\n",
       "      <td>235.0</td>\n",
       "    </tr>\n",
       "    <tr>\n",
       "      <th>17</th>\n",
       "      <td>0.1</td>\n",
       "      <td>T0</td>\n",
       "      <td>162.0</td>\n",
       "      <td>185.0</td>\n",
       "      <td>178.0</td>\n",
       "      <td>133.0</td>\n",
       "      <td>132.0</td>\n",
       "      <td>112.0</td>\n",
       "      <td>121.0</td>\n",
       "      <td>202.0</td>\n",
       "      <td>...</td>\n",
       "      <td>106.0</td>\n",
       "      <td>220.0</td>\n",
       "      <td>204.0</td>\n",
       "      <td>191.0</td>\n",
       "      <td>171.0</td>\n",
       "      <td>161.0</td>\n",
       "      <td>221.0</td>\n",
       "      <td>198.0</td>\n",
       "      <td>241.0</td>\n",
       "      <td>249.0</td>\n",
       "    </tr>\n",
       "    <tr>\n",
       "      <th>18</th>\n",
       "      <td>0.10625</td>\n",
       "      <td>T0</td>\n",
       "      <td>129.0</td>\n",
       "      <td>150.0</td>\n",
       "      <td>153.0</td>\n",
       "      <td>118.0</td>\n",
       "      <td>120.0</td>\n",
       "      <td>106.0</td>\n",
       "      <td>116.0</td>\n",
       "      <td>153.0</td>\n",
       "      <td>...</td>\n",
       "      <td>64.0</td>\n",
       "      <td>151.0</td>\n",
       "      <td>144.0</td>\n",
       "      <td>144.0</td>\n",
       "      <td>131.0</td>\n",
       "      <td>121.0</td>\n",
       "      <td>178.0</td>\n",
       "      <td>171.0</td>\n",
       "      <td>232.0</td>\n",
       "      <td>218.0</td>\n",
       "    </tr>\n",
       "    <tr>\n",
       "      <th>19</th>\n",
       "      <td>0.1125</td>\n",
       "      <td>T0</td>\n",
       "      <td>64.0</td>\n",
       "      <td>87.0</td>\n",
       "      <td>87.0</td>\n",
       "      <td>59.0</td>\n",
       "      <td>61.0</td>\n",
       "      <td>52.0</td>\n",
       "      <td>68.0</td>\n",
       "      <td>96.0</td>\n",
       "      <td>...</td>\n",
       "      <td>35.0</td>\n",
       "      <td>127.0</td>\n",
       "      <td>122.0</td>\n",
       "      <td>119.0</td>\n",
       "      <td>101.0</td>\n",
       "      <td>94.0</td>\n",
       "      <td>125.0</td>\n",
       "      <td>123.0</td>\n",
       "      <td>202.0</td>\n",
       "      <td>161.0</td>\n",
       "    </tr>\n",
       "    <tr>\n",
       "      <th>20</th>\n",
       "      <td>0.11875</td>\n",
       "      <td>T0</td>\n",
       "      <td>62.0</td>\n",
       "      <td>96.0</td>\n",
       "      <td>92.0</td>\n",
       "      <td>56.0</td>\n",
       "      <td>54.0</td>\n",
       "      <td>42.0</td>\n",
       "      <td>64.0</td>\n",
       "      <td>102.0</td>\n",
       "      <td>...</td>\n",
       "      <td>34.0</td>\n",
       "      <td>117.0</td>\n",
       "      <td>115.0</td>\n",
       "      <td>112.0</td>\n",
       "      <td>94.0</td>\n",
       "      <td>89.0</td>\n",
       "      <td>92.0</td>\n",
       "      <td>87.0</td>\n",
       "      <td>170.0</td>\n",
       "      <td>107.0</td>\n",
       "    </tr>\n",
       "    <tr>\n",
       "      <th>21</th>\n",
       "      <td>0.125</td>\n",
       "      <td>T0</td>\n",
       "      <td>91.0</td>\n",
       "      <td>124.0</td>\n",
       "      <td>120.0</td>\n",
       "      <td>75.0</td>\n",
       "      <td>78.0</td>\n",
       "      <td>61.0</td>\n",
       "      <td>77.0</td>\n",
       "      <td>107.0</td>\n",
       "      <td>...</td>\n",
       "      <td>61.0</td>\n",
       "      <td>134.0</td>\n",
       "      <td>131.0</td>\n",
       "      <td>133.0</td>\n",
       "      <td>110.0</td>\n",
       "      <td>103.0</td>\n",
       "      <td>101.0</td>\n",
       "      <td>97.0</td>\n",
       "      <td>172.0</td>\n",
       "      <td>111.0</td>\n",
       "    </tr>\n",
       "    <tr>\n",
       "      <th>22</th>\n",
       "      <td>0.13125</td>\n",
       "      <td>T0</td>\n",
       "      <td>88.0</td>\n",
       "      <td>122.0</td>\n",
       "      <td>121.0</td>\n",
       "      <td>82.0</td>\n",
       "      <td>81.0</td>\n",
       "      <td>69.0</td>\n",
       "      <td>90.0</td>\n",
       "      <td>116.0</td>\n",
       "      <td>...</td>\n",
       "      <td>24.0</td>\n",
       "      <td>119.0</td>\n",
       "      <td>115.0</td>\n",
       "      <td>104.0</td>\n",
       "      <td>70.0</td>\n",
       "      <td>58.0</td>\n",
       "      <td>119.0</td>\n",
       "      <td>111.0</td>\n",
       "      <td>173.0</td>\n",
       "      <td>135.0</td>\n",
       "    </tr>\n",
       "    <tr>\n",
       "      <th>23</th>\n",
       "      <td>0.1375</td>\n",
       "      <td>T0</td>\n",
       "      <td>49.0</td>\n",
       "      <td>74.0</td>\n",
       "      <td>76.0</td>\n",
       "      <td>37.0</td>\n",
       "      <td>31.0</td>\n",
       "      <td>24.0</td>\n",
       "      <td>56.0</td>\n",
       "      <td>71.0</td>\n",
       "      <td>...</td>\n",
       "      <td>-13.0</td>\n",
       "      <td>85.0</td>\n",
       "      <td>78.0</td>\n",
       "      <td>62.0</td>\n",
       "      <td>34.0</td>\n",
       "      <td>35.0</td>\n",
       "      <td>106.0</td>\n",
       "      <td>87.0</td>\n",
       "      <td>140.0</td>\n",
       "      <td>119.0</td>\n",
       "    </tr>\n",
       "    <tr>\n",
       "      <th>24</th>\n",
       "      <td>0.14375</td>\n",
       "      <td>T0</td>\n",
       "      <td>15.0</td>\n",
       "      <td>41.0</td>\n",
       "      <td>47.0</td>\n",
       "      <td>21.0</td>\n",
       "      <td>24.0</td>\n",
       "      <td>17.0</td>\n",
       "      <td>53.0</td>\n",
       "      <td>31.0</td>\n",
       "      <td>...</td>\n",
       "      <td>15.0</td>\n",
       "      <td>83.0</td>\n",
       "      <td>77.0</td>\n",
       "      <td>62.0</td>\n",
       "      <td>47.0</td>\n",
       "      <td>49.0</td>\n",
       "      <td>82.0</td>\n",
       "      <td>52.0</td>\n",
       "      <td>107.0</td>\n",
       "      <td>80.0</td>\n",
       "    </tr>\n",
       "    <tr>\n",
       "      <th>25</th>\n",
       "      <td>0.15</td>\n",
       "      <td>T0</td>\n",
       "      <td>10.0</td>\n",
       "      <td>47.0</td>\n",
       "      <td>59.0</td>\n",
       "      <td>46.0</td>\n",
       "      <td>52.0</td>\n",
       "      <td>52.0</td>\n",
       "      <td>91.0</td>\n",
       "      <td>32.0</td>\n",
       "      <td>...</td>\n",
       "      <td>5.0</td>\n",
       "      <td>55.0</td>\n",
       "      <td>48.0</td>\n",
       "      <td>40.0</td>\n",
       "      <td>34.0</td>\n",
       "      <td>34.0</td>\n",
       "      <td>51.0</td>\n",
       "      <td>26.0</td>\n",
       "      <td>90.0</td>\n",
       "      <td>59.0</td>\n",
       "    </tr>\n",
       "    <tr>\n",
       "      <th>26</th>\n",
       "      <td>0.15625</td>\n",
       "      <td>T0</td>\n",
       "      <td>10.0</td>\n",
       "      <td>49.0</td>\n",
       "      <td>55.0</td>\n",
       "      <td>44.0</td>\n",
       "      <td>46.0</td>\n",
       "      <td>43.0</td>\n",
       "      <td>78.0</td>\n",
       "      <td>43.0</td>\n",
       "      <td>...</td>\n",
       "      <td>3.0</td>\n",
       "      <td>60.0</td>\n",
       "      <td>43.0</td>\n",
       "      <td>37.0</td>\n",
       "      <td>35.0</td>\n",
       "      <td>41.0</td>\n",
       "      <td>40.0</td>\n",
       "      <td>24.0</td>\n",
       "      <td>94.0</td>\n",
       "      <td>69.0</td>\n",
       "    </tr>\n",
       "    <tr>\n",
       "      <th>27</th>\n",
       "      <td>0.1625</td>\n",
       "      <td>T0</td>\n",
       "      <td>13.0</td>\n",
       "      <td>39.0</td>\n",
       "      <td>41.0</td>\n",
       "      <td>23.0</td>\n",
       "      <td>25.0</td>\n",
       "      <td>14.0</td>\n",
       "      <td>45.0</td>\n",
       "      <td>36.0</td>\n",
       "      <td>...</td>\n",
       "      <td>33.0</td>\n",
       "      <td>36.0</td>\n",
       "      <td>30.0</td>\n",
       "      <td>37.0</td>\n",
       "      <td>51.0</td>\n",
       "      <td>69.0</td>\n",
       "      <td>26.0</td>\n",
       "      <td>25.0</td>\n",
       "      <td>102.0</td>\n",
       "      <td>63.0</td>\n",
       "    </tr>\n",
       "    <tr>\n",
       "      <th>28</th>\n",
       "      <td>0.16875</td>\n",
       "      <td>T0</td>\n",
       "      <td>-11.0</td>\n",
       "      <td>20.0</td>\n",
       "      <td>26.0</td>\n",
       "      <td>3.0</td>\n",
       "      <td>8.0</td>\n",
       "      <td>-5.0</td>\n",
       "      <td>35.0</td>\n",
       "      <td>1.0</td>\n",
       "      <td>...</td>\n",
       "      <td>33.0</td>\n",
       "      <td>49.0</td>\n",
       "      <td>43.0</td>\n",
       "      <td>53.0</td>\n",
       "      <td>63.0</td>\n",
       "      <td>72.0</td>\n",
       "      <td>30.0</td>\n",
       "      <td>34.0</td>\n",
       "      <td>107.0</td>\n",
       "      <td>59.0</td>\n",
       "    </tr>\n",
       "    <tr>\n",
       "      <th>29</th>\n",
       "      <td>0.175</td>\n",
       "      <td>T0</td>\n",
       "      <td>-37.0</td>\n",
       "      <td>4.0</td>\n",
       "      <td>12.0</td>\n",
       "      <td>-9.0</td>\n",
       "      <td>-7.0</td>\n",
       "      <td>-16.0</td>\n",
       "      <td>26.0</td>\n",
       "      <td>-10.0</td>\n",
       "      <td>...</td>\n",
       "      <td>53.0</td>\n",
       "      <td>54.0</td>\n",
       "      <td>50.0</td>\n",
       "      <td>68.0</td>\n",
       "      <td>87.0</td>\n",
       "      <td>95.0</td>\n",
       "      <td>42.0</td>\n",
       "      <td>51.0</td>\n",
       "      <td>119.0</td>\n",
       "      <td>65.0</td>\n",
       "    </tr>\n",
       "    <tr>\n",
       "      <th>30</th>\n",
       "      <td>0.18125</td>\n",
       "      <td>T0</td>\n",
       "      <td>-10.0</td>\n",
       "      <td>35.0</td>\n",
       "      <td>39.0</td>\n",
       "      <td>16.0</td>\n",
       "      <td>22.0</td>\n",
       "      <td>20.0</td>\n",
       "      <td>60.0</td>\n",
       "      <td>27.0</td>\n",
       "      <td>...</td>\n",
       "      <td>51.0</td>\n",
       "      <td>52.0</td>\n",
       "      <td>48.0</td>\n",
       "      <td>63.0</td>\n",
       "      <td>80.0</td>\n",
       "      <td>87.0</td>\n",
       "      <td>53.0</td>\n",
       "      <td>67.0</td>\n",
       "      <td>139.0</td>\n",
       "      <td>84.0</td>\n",
       "    </tr>\n",
       "    <tr>\n",
       "      <th>...</th>\n",
       "      <td>...</td>\n",
       "      <td>...</td>\n",
       "      <td>...</td>\n",
       "      <td>...</td>\n",
       "      <td>...</td>\n",
       "      <td>...</td>\n",
       "      <td>...</td>\n",
       "      <td>...</td>\n",
       "      <td>...</td>\n",
       "      <td>...</td>\n",
       "      <td>...</td>\n",
       "      <td>...</td>\n",
       "      <td>...</td>\n",
       "      <td>...</td>\n",
       "      <td>...</td>\n",
       "      <td>...</td>\n",
       "      <td>...</td>\n",
       "      <td>...</td>\n",
       "      <td>...</td>\n",
       "      <td>...</td>\n",
       "      <td>...</td>\n",
       "    </tr>\n",
       "    <tr>\n",
       "      <th>19891</th>\n",
       "      <td>124.3125</td>\n",
       "      <td>T1</td>\n",
       "      <td>-32.0</td>\n",
       "      <td>-17.0</td>\n",
       "      <td>-32.0</td>\n",
       "      <td>-24.0</td>\n",
       "      <td>-22.0</td>\n",
       "      <td>-22.0</td>\n",
       "      <td>-38.0</td>\n",
       "      <td>-29.0</td>\n",
       "      <td>...</td>\n",
       "      <td>-8.0</td>\n",
       "      <td>-46.0</td>\n",
       "      <td>-48.0</td>\n",
       "      <td>-21.0</td>\n",
       "      <td>0.0</td>\n",
       "      <td>27.0</td>\n",
       "      <td>-30.0</td>\n",
       "      <td>2.0</td>\n",
       "      <td>0.0</td>\n",
       "      <td>-8.0</td>\n",
       "    </tr>\n",
       "    <tr>\n",
       "      <th>19892</th>\n",
       "      <td>124.31875</td>\n",
       "      <td>T1</td>\n",
       "      <td>-39.0</td>\n",
       "      <td>-21.0</td>\n",
       "      <td>-31.0</td>\n",
       "      <td>-25.0</td>\n",
       "      <td>-14.0</td>\n",
       "      <td>-7.0</td>\n",
       "      <td>-16.0</td>\n",
       "      <td>-18.0</td>\n",
       "      <td>...</td>\n",
       "      <td>-2.0</td>\n",
       "      <td>-34.0</td>\n",
       "      <td>-34.0</td>\n",
       "      <td>2.0</td>\n",
       "      <td>19.0</td>\n",
       "      <td>34.0</td>\n",
       "      <td>-34.0</td>\n",
       "      <td>11.0</td>\n",
       "      <td>21.0</td>\n",
       "      <td>-10.0</td>\n",
       "    </tr>\n",
       "    <tr>\n",
       "      <th>19893</th>\n",
       "      <td>124.325</td>\n",
       "      <td>T1</td>\n",
       "      <td>-47.0</td>\n",
       "      <td>-37.0</td>\n",
       "      <td>-53.0</td>\n",
       "      <td>-37.0</td>\n",
       "      <td>-21.0</td>\n",
       "      <td>-8.0</td>\n",
       "      <td>-11.0</td>\n",
       "      <td>-33.0</td>\n",
       "      <td>...</td>\n",
       "      <td>12.0</td>\n",
       "      <td>5.0</td>\n",
       "      <td>8.0</td>\n",
       "      <td>45.0</td>\n",
       "      <td>47.0</td>\n",
       "      <td>49.0</td>\n",
       "      <td>-3.0</td>\n",
       "      <td>41.0</td>\n",
       "      <td>42.0</td>\n",
       "      <td>28.0</td>\n",
       "    </tr>\n",
       "    <tr>\n",
       "      <th>19894</th>\n",
       "      <td>124.33125</td>\n",
       "      <td>T1</td>\n",
       "      <td>-41.0</td>\n",
       "      <td>-34.0</td>\n",
       "      <td>-49.0</td>\n",
       "      <td>-32.0</td>\n",
       "      <td>-17.0</td>\n",
       "      <td>-6.0</td>\n",
       "      <td>-8.0</td>\n",
       "      <td>-13.0</td>\n",
       "      <td>...</td>\n",
       "      <td>9.0</td>\n",
       "      <td>-1.0</td>\n",
       "      <td>13.0</td>\n",
       "      <td>44.0</td>\n",
       "      <td>40.0</td>\n",
       "      <td>33.0</td>\n",
       "      <td>26.0</td>\n",
       "      <td>59.0</td>\n",
       "      <td>46.0</td>\n",
       "      <td>49.0</td>\n",
       "    </tr>\n",
       "    <tr>\n",
       "      <th>19895</th>\n",
       "      <td>124.3375</td>\n",
       "      <td>T1</td>\n",
       "      <td>-25.0</td>\n",
       "      <td>-21.0</td>\n",
       "      <td>-38.0</td>\n",
       "      <td>-25.0</td>\n",
       "      <td>-15.0</td>\n",
       "      <td>-13.0</td>\n",
       "      <td>-20.0</td>\n",
       "      <td>12.0</td>\n",
       "      <td>...</td>\n",
       "      <td>25.0</td>\n",
       "      <td>14.0</td>\n",
       "      <td>37.0</td>\n",
       "      <td>62.0</td>\n",
       "      <td>54.0</td>\n",
       "      <td>52.0</td>\n",
       "      <td>32.0</td>\n",
       "      <td>64.0</td>\n",
       "      <td>49.0</td>\n",
       "      <td>48.0</td>\n",
       "    </tr>\n",
       "    <tr>\n",
       "      <th>19896</th>\n",
       "      <td>124.34375</td>\n",
       "      <td>T1</td>\n",
       "      <td>-4.0</td>\n",
       "      <td>13.0</td>\n",
       "      <td>-3.0</td>\n",
       "      <td>10.0</td>\n",
       "      <td>12.0</td>\n",
       "      <td>12.0</td>\n",
       "      <td>-7.0</td>\n",
       "      <td>25.0</td>\n",
       "      <td>...</td>\n",
       "      <td>39.0</td>\n",
       "      <td>87.0</td>\n",
       "      <td>97.0</td>\n",
       "      <td>102.0</td>\n",
       "      <td>81.0</td>\n",
       "      <td>74.0</td>\n",
       "      <td>62.0</td>\n",
       "      <td>93.0</td>\n",
       "      <td>74.0</td>\n",
       "      <td>83.0</td>\n",
       "    </tr>\n",
       "    <tr>\n",
       "      <th>19897</th>\n",
       "      <td>124.35</td>\n",
       "      <td>T1</td>\n",
       "      <td>4.0</td>\n",
       "      <td>34.0</td>\n",
       "      <td>17.0</td>\n",
       "      <td>22.0</td>\n",
       "      <td>25.0</td>\n",
       "      <td>24.0</td>\n",
       "      <td>11.0</td>\n",
       "      <td>41.0</td>\n",
       "      <td>...</td>\n",
       "      <td>26.0</td>\n",
       "      <td>88.0</td>\n",
       "      <td>92.0</td>\n",
       "      <td>82.0</td>\n",
       "      <td>67.0</td>\n",
       "      <td>59.0</td>\n",
       "      <td>91.0</td>\n",
       "      <td>110.0</td>\n",
       "      <td>84.0</td>\n",
       "      <td>101.0</td>\n",
       "    </tr>\n",
       "    <tr>\n",
       "      <th>19898</th>\n",
       "      <td>124.35625</td>\n",
       "      <td>T1</td>\n",
       "      <td>12.0</td>\n",
       "      <td>39.0</td>\n",
       "      <td>15.0</td>\n",
       "      <td>13.0</td>\n",
       "      <td>14.0</td>\n",
       "      <td>11.0</td>\n",
       "      <td>-1.0</td>\n",
       "      <td>47.0</td>\n",
       "      <td>...</td>\n",
       "      <td>-8.0</td>\n",
       "      <td>36.0</td>\n",
       "      <td>44.0</td>\n",
       "      <td>20.0</td>\n",
       "      <td>21.0</td>\n",
       "      <td>17.0</td>\n",
       "      <td>56.0</td>\n",
       "      <td>63.0</td>\n",
       "      <td>40.0</td>\n",
       "      <td>40.0</td>\n",
       "    </tr>\n",
       "    <tr>\n",
       "      <th>19899</th>\n",
       "      <td>124.3625</td>\n",
       "      <td>T1</td>\n",
       "      <td>6.0</td>\n",
       "      <td>15.0</td>\n",
       "      <td>-10.0</td>\n",
       "      <td>-12.0</td>\n",
       "      <td>-10.0</td>\n",
       "      <td>-14.0</td>\n",
       "      <td>-27.0</td>\n",
       "      <td>37.0</td>\n",
       "      <td>...</td>\n",
       "      <td>20.0</td>\n",
       "      <td>47.0</td>\n",
       "      <td>53.0</td>\n",
       "      <td>27.0</td>\n",
       "      <td>30.0</td>\n",
       "      <td>35.0</td>\n",
       "      <td>13.0</td>\n",
       "      <td>13.0</td>\n",
       "      <td>-3.0</td>\n",
       "      <td>-20.0</td>\n",
       "    </tr>\n",
       "    <tr>\n",
       "      <th>19900</th>\n",
       "      <td>124.36875</td>\n",
       "      <td>T1</td>\n",
       "      <td>22.0</td>\n",
       "      <td>18.0</td>\n",
       "      <td>-11.0</td>\n",
       "      <td>-10.0</td>\n",
       "      <td>-6.0</td>\n",
       "      <td>-11.0</td>\n",
       "      <td>-8.0</td>\n",
       "      <td>32.0</td>\n",
       "      <td>...</td>\n",
       "      <td>8.0</td>\n",
       "      <td>33.0</td>\n",
       "      <td>35.0</td>\n",
       "      <td>25.0</td>\n",
       "      <td>23.0</td>\n",
       "      <td>37.0</td>\n",
       "      <td>3.0</td>\n",
       "      <td>10.0</td>\n",
       "      <td>-1.0</td>\n",
       "      <td>-13.0</td>\n",
       "    </tr>\n",
       "    <tr>\n",
       "      <th>19901</th>\n",
       "      <td>124.375</td>\n",
       "      <td>T1</td>\n",
       "      <td>-14.0</td>\n",
       "      <td>-22.0</td>\n",
       "      <td>-55.0</td>\n",
       "      <td>-51.0</td>\n",
       "      <td>-43.0</td>\n",
       "      <td>-37.0</td>\n",
       "      <td>-27.0</td>\n",
       "      <td>1.0</td>\n",
       "      <td>...</td>\n",
       "      <td>0.0</td>\n",
       "      <td>7.0</td>\n",
       "      <td>11.0</td>\n",
       "      <td>10.0</td>\n",
       "      <td>11.0</td>\n",
       "      <td>29.0</td>\n",
       "      <td>5.0</td>\n",
       "      <td>22.0</td>\n",
       "      <td>16.0</td>\n",
       "      <td>3.0</td>\n",
       "    </tr>\n",
       "    <tr>\n",
       "      <th>19902</th>\n",
       "      <td>124.38125</td>\n",
       "      <td>T1</td>\n",
       "      <td>-49.0</td>\n",
       "      <td>-65.0</td>\n",
       "      <td>-95.0</td>\n",
       "      <td>-83.0</td>\n",
       "      <td>-73.0</td>\n",
       "      <td>-62.0</td>\n",
       "      <td>-51.0</td>\n",
       "      <td>-24.0</td>\n",
       "      <td>...</td>\n",
       "      <td>29.0</td>\n",
       "      <td>10.0</td>\n",
       "      <td>20.0</td>\n",
       "      <td>32.0</td>\n",
       "      <td>37.0</td>\n",
       "      <td>59.0</td>\n",
       "      <td>11.0</td>\n",
       "      <td>35.0</td>\n",
       "      <td>39.0</td>\n",
       "      <td>11.0</td>\n",
       "    </tr>\n",
       "    <tr>\n",
       "      <th>19903</th>\n",
       "      <td>124.3875</td>\n",
       "      <td>T1</td>\n",
       "      <td>-54.0</td>\n",
       "      <td>-60.0</td>\n",
       "      <td>-74.0</td>\n",
       "      <td>-46.0</td>\n",
       "      <td>-39.0</td>\n",
       "      <td>-33.0</td>\n",
       "      <td>-36.0</td>\n",
       "      <td>-15.0</td>\n",
       "      <td>...</td>\n",
       "      <td>18.0</td>\n",
       "      <td>10.0</td>\n",
       "      <td>21.0</td>\n",
       "      <td>37.0</td>\n",
       "      <td>39.0</td>\n",
       "      <td>43.0</td>\n",
       "      <td>18.0</td>\n",
       "      <td>44.0</td>\n",
       "      <td>46.0</td>\n",
       "      <td>14.0</td>\n",
       "    </tr>\n",
       "    <tr>\n",
       "      <th>19904</th>\n",
       "      <td>124.39375</td>\n",
       "      <td>T1</td>\n",
       "      <td>-78.0</td>\n",
       "      <td>-61.0</td>\n",
       "      <td>-59.0</td>\n",
       "      <td>-17.0</td>\n",
       "      <td>-5.0</td>\n",
       "      <td>-3.0</td>\n",
       "      <td>-8.0</td>\n",
       "      <td>-37.0</td>\n",
       "      <td>...</td>\n",
       "      <td>38.0</td>\n",
       "      <td>27.0</td>\n",
       "      <td>36.0</td>\n",
       "      <td>58.0</td>\n",
       "      <td>59.0</td>\n",
       "      <td>51.0</td>\n",
       "      <td>29.0</td>\n",
       "      <td>50.0</td>\n",
       "      <td>40.0</td>\n",
       "      <td>25.0</td>\n",
       "    </tr>\n",
       "    <tr>\n",
       "      <th>19905</th>\n",
       "      <td>124.4</td>\n",
       "      <td>T1</td>\n",
       "      <td>-37.0</td>\n",
       "      <td>-7.0</td>\n",
       "      <td>-3.0</td>\n",
       "      <td>33.0</td>\n",
       "      <td>39.0</td>\n",
       "      <td>33.0</td>\n",
       "      <td>20.0</td>\n",
       "      <td>11.0</td>\n",
       "      <td>...</td>\n",
       "      <td>29.0</td>\n",
       "      <td>17.0</td>\n",
       "      <td>24.0</td>\n",
       "      <td>54.0</td>\n",
       "      <td>55.0</td>\n",
       "      <td>35.0</td>\n",
       "      <td>34.0</td>\n",
       "      <td>54.0</td>\n",
       "      <td>37.0</td>\n",
       "      <td>49.0</td>\n",
       "    </tr>\n",
       "    <tr>\n",
       "      <th>19906</th>\n",
       "      <td>124.40625</td>\n",
       "      <td>T1</td>\n",
       "      <td>-14.0</td>\n",
       "      <td>22.0</td>\n",
       "      <td>24.0</td>\n",
       "      <td>49.0</td>\n",
       "      <td>50.0</td>\n",
       "      <td>35.0</td>\n",
       "      <td>15.0</td>\n",
       "      <td>17.0</td>\n",
       "      <td>...</td>\n",
       "      <td>9.0</td>\n",
       "      <td>-8.0</td>\n",
       "      <td>4.0</td>\n",
       "      <td>39.0</td>\n",
       "      <td>41.0</td>\n",
       "      <td>20.0</td>\n",
       "      <td>13.0</td>\n",
       "      <td>33.0</td>\n",
       "      <td>21.0</td>\n",
       "      <td>25.0</td>\n",
       "    </tr>\n",
       "    <tr>\n",
       "      <th>19907</th>\n",
       "      <td>124.4125</td>\n",
       "      <td>T1</td>\n",
       "      <td>20.0</td>\n",
       "      <td>72.0</td>\n",
       "      <td>74.0</td>\n",
       "      <td>91.0</td>\n",
       "      <td>78.0</td>\n",
       "      <td>53.0</td>\n",
       "      <td>24.0</td>\n",
       "      <td>48.0</td>\n",
       "      <td>...</td>\n",
       "      <td>46.0</td>\n",
       "      <td>-1.0</td>\n",
       "      <td>15.0</td>\n",
       "      <td>64.0</td>\n",
       "      <td>76.0</td>\n",
       "      <td>71.0</td>\n",
       "      <td>5.0</td>\n",
       "      <td>35.0</td>\n",
       "      <td>35.0</td>\n",
       "      <td>25.0</td>\n",
       "    </tr>\n",
       "    <tr>\n",
       "      <th>19908</th>\n",
       "      <td>124.41875</td>\n",
       "      <td>T1</td>\n",
       "      <td>34.0</td>\n",
       "      <td>90.0</td>\n",
       "      <td>101.0</td>\n",
       "      <td>114.0</td>\n",
       "      <td>93.0</td>\n",
       "      <td>66.0</td>\n",
       "      <td>34.0</td>\n",
       "      <td>39.0</td>\n",
       "      <td>...</td>\n",
       "      <td>45.0</td>\n",
       "      <td>-25.0</td>\n",
       "      <td>-13.0</td>\n",
       "      <td>40.0</td>\n",
       "      <td>64.0</td>\n",
       "      <td>61.0</td>\n",
       "      <td>-3.0</td>\n",
       "      <td>37.0</td>\n",
       "      <td>51.0</td>\n",
       "      <td>14.0</td>\n",
       "    </tr>\n",
       "    <tr>\n",
       "      <th>19909</th>\n",
       "      <td>124.425</td>\n",
       "      <td>T1</td>\n",
       "      <td>18.0</td>\n",
       "      <td>60.0</td>\n",
       "      <td>67.0</td>\n",
       "      <td>79.0</td>\n",
       "      <td>62.0</td>\n",
       "      <td>34.0</td>\n",
       "      <td>0.0</td>\n",
       "      <td>32.0</td>\n",
       "      <td>...</td>\n",
       "      <td>-1.0</td>\n",
       "      <td>-50.0</td>\n",
       "      <td>-31.0</td>\n",
       "      <td>10.0</td>\n",
       "      <td>27.0</td>\n",
       "      <td>18.0</td>\n",
       "      <td>-32.0</td>\n",
       "      <td>7.0</td>\n",
       "      <td>23.0</td>\n",
       "      <td>-35.0</td>\n",
       "    </tr>\n",
       "    <tr>\n",
       "      <th>19910</th>\n",
       "      <td>124.43125</td>\n",
       "      <td>T1</td>\n",
       "      <td>4.0</td>\n",
       "      <td>32.0</td>\n",
       "      <td>30.0</td>\n",
       "      <td>42.0</td>\n",
       "      <td>29.0</td>\n",
       "      <td>-8.0</td>\n",
       "      <td>-36.0</td>\n",
       "      <td>31.0</td>\n",
       "      <td>...</td>\n",
       "      <td>17.0</td>\n",
       "      <td>-1.0</td>\n",
       "      <td>17.0</td>\n",
       "      <td>37.0</td>\n",
       "      <td>48.0</td>\n",
       "      <td>48.0</td>\n",
       "      <td>-35.0</td>\n",
       "      <td>-3.0</td>\n",
       "      <td>5.0</td>\n",
       "      <td>-45.0</td>\n",
       "    </tr>\n",
       "    <tr>\n",
       "      <th>19911</th>\n",
       "      <td>124.4375</td>\n",
       "      <td>T1</td>\n",
       "      <td>-5.0</td>\n",
       "      <td>27.0</td>\n",
       "      <td>27.0</td>\n",
       "      <td>43.0</td>\n",
       "      <td>33.0</td>\n",
       "      <td>7.0</td>\n",
       "      <td>-12.0</td>\n",
       "      <td>15.0</td>\n",
       "      <td>...</td>\n",
       "      <td>24.0</td>\n",
       "      <td>39.0</td>\n",
       "      <td>47.0</td>\n",
       "      <td>47.0</td>\n",
       "      <td>50.0</td>\n",
       "      <td>44.0</td>\n",
       "      <td>-1.0</td>\n",
       "      <td>19.0</td>\n",
       "      <td>17.0</td>\n",
       "      <td>-9.0</td>\n",
       "    </tr>\n",
       "    <tr>\n",
       "      <th>19912</th>\n",
       "      <td>124.44375</td>\n",
       "      <td>T1</td>\n",
       "      <td>-1.0</td>\n",
       "      <td>25.0</td>\n",
       "      <td>22.0</td>\n",
       "      <td>41.0</td>\n",
       "      <td>29.0</td>\n",
       "      <td>4.0</td>\n",
       "      <td>-22.0</td>\n",
       "      <td>27.0</td>\n",
       "      <td>...</td>\n",
       "      <td>32.0</td>\n",
       "      <td>57.0</td>\n",
       "      <td>63.0</td>\n",
       "      <td>55.0</td>\n",
       "      <td>54.0</td>\n",
       "      <td>50.0</td>\n",
       "      <td>40.0</td>\n",
       "      <td>45.0</td>\n",
       "      <td>35.0</td>\n",
       "      <td>37.0</td>\n",
       "    </tr>\n",
       "    <tr>\n",
       "      <th>19913</th>\n",
       "      <td>124.45</td>\n",
       "      <td>T1</td>\n",
       "      <td>2.0</td>\n",
       "      <td>19.0</td>\n",
       "      <td>11.0</td>\n",
       "      <td>32.0</td>\n",
       "      <td>26.0</td>\n",
       "      <td>5.0</td>\n",
       "      <td>-20.0</td>\n",
       "      <td>34.0</td>\n",
       "      <td>...</td>\n",
       "      <td>25.0</td>\n",
       "      <td>60.0</td>\n",
       "      <td>68.0</td>\n",
       "      <td>52.0</td>\n",
       "      <td>41.0</td>\n",
       "      <td>42.0</td>\n",
       "      <td>55.0</td>\n",
       "      <td>54.0</td>\n",
       "      <td>35.0</td>\n",
       "      <td>60.0</td>\n",
       "    </tr>\n",
       "    <tr>\n",
       "      <th>19914</th>\n",
       "      <td>124.45625</td>\n",
       "      <td>T1</td>\n",
       "      <td>-6.0</td>\n",
       "      <td>15.0</td>\n",
       "      <td>13.0</td>\n",
       "      <td>37.0</td>\n",
       "      <td>33.0</td>\n",
       "      <td>13.0</td>\n",
       "      <td>-15.0</td>\n",
       "      <td>27.0</td>\n",
       "      <td>...</td>\n",
       "      <td>16.0</td>\n",
       "      <td>37.0</td>\n",
       "      <td>44.0</td>\n",
       "      <td>30.0</td>\n",
       "      <td>18.0</td>\n",
       "      <td>15.0</td>\n",
       "      <td>37.0</td>\n",
       "      <td>35.0</td>\n",
       "      <td>8.0</td>\n",
       "      <td>29.0</td>\n",
       "    </tr>\n",
       "    <tr>\n",
       "      <th>19915</th>\n",
       "      <td>124.4625</td>\n",
       "      <td>T1</td>\n",
       "      <td>-40.0</td>\n",
       "      <td>-20.0</td>\n",
       "      <td>-21.0</td>\n",
       "      <td>10.0</td>\n",
       "      <td>-6.0</td>\n",
       "      <td>-19.0</td>\n",
       "      <td>-42.0</td>\n",
       "      <td>-8.0</td>\n",
       "      <td>...</td>\n",
       "      <td>6.0</td>\n",
       "      <td>34.0</td>\n",
       "      <td>36.0</td>\n",
       "      <td>27.0</td>\n",
       "      <td>12.0</td>\n",
       "      <td>16.0</td>\n",
       "      <td>20.0</td>\n",
       "      <td>18.0</td>\n",
       "      <td>-10.0</td>\n",
       "      <td>12.0</td>\n",
       "    </tr>\n",
       "    <tr>\n",
       "      <th>19916</th>\n",
       "      <td>124.46875</td>\n",
       "      <td>T1</td>\n",
       "      <td>-68.0</td>\n",
       "      <td>-58.0</td>\n",
       "      <td>-64.0</td>\n",
       "      <td>-44.0</td>\n",
       "      <td>-52.0</td>\n",
       "      <td>-56.0</td>\n",
       "      <td>-67.0</td>\n",
       "      <td>-27.0</td>\n",
       "      <td>...</td>\n",
       "      <td>-6.0</td>\n",
       "      <td>29.0</td>\n",
       "      <td>29.0</td>\n",
       "      <td>22.0</td>\n",
       "      <td>6.0</td>\n",
       "      <td>10.0</td>\n",
       "      <td>16.0</td>\n",
       "      <td>18.0</td>\n",
       "      <td>-5.0</td>\n",
       "      <td>21.0</td>\n",
       "    </tr>\n",
       "    <tr>\n",
       "      <th>19917</th>\n",
       "      <td>124.475</td>\n",
       "      <td>T1</td>\n",
       "      <td>-57.0</td>\n",
       "      <td>-50.0</td>\n",
       "      <td>-66.0</td>\n",
       "      <td>-57.0</td>\n",
       "      <td>-63.0</td>\n",
       "      <td>-63.0</td>\n",
       "      <td>-64.0</td>\n",
       "      <td>-34.0</td>\n",
       "      <td>...</td>\n",
       "      <td>19.0</td>\n",
       "      <td>21.0</td>\n",
       "      <td>26.0</td>\n",
       "      <td>27.0</td>\n",
       "      <td>21.0</td>\n",
       "      <td>29.0</td>\n",
       "      <td>12.0</td>\n",
       "      <td>20.0</td>\n",
       "      <td>12.0</td>\n",
       "      <td>16.0</td>\n",
       "    </tr>\n",
       "    <tr>\n",
       "      <th>19918</th>\n",
       "      <td>124.48125</td>\n",
       "      <td>T1</td>\n",
       "      <td>-29.0</td>\n",
       "      <td>-12.0</td>\n",
       "      <td>-26.0</td>\n",
       "      <td>-29.0</td>\n",
       "      <td>-34.0</td>\n",
       "      <td>-39.0</td>\n",
       "      <td>-50.0</td>\n",
       "      <td>-7.0</td>\n",
       "      <td>...</td>\n",
       "      <td>40.0</td>\n",
       "      <td>35.0</td>\n",
       "      <td>41.0</td>\n",
       "      <td>46.0</td>\n",
       "      <td>47.0</td>\n",
       "      <td>56.0</td>\n",
       "      <td>25.0</td>\n",
       "      <td>36.0</td>\n",
       "      <td>37.0</td>\n",
       "      <td>26.0</td>\n",
       "    </tr>\n",
       "    <tr>\n",
       "      <th>19919</th>\n",
       "      <td>124.4875</td>\n",
       "      <td>T1</td>\n",
       "      <td>-24.0</td>\n",
       "      <td>-5.0</td>\n",
       "      <td>-20.0</td>\n",
       "      <td>-17.0</td>\n",
       "      <td>-21.0</td>\n",
       "      <td>-25.0</td>\n",
       "      <td>-39.0</td>\n",
       "      <td>1.0</td>\n",
       "      <td>...</td>\n",
       "      <td>14.0</td>\n",
       "      <td>-30.0</td>\n",
       "      <td>-15.0</td>\n",
       "      <td>1.0</td>\n",
       "      <td>19.0</td>\n",
       "      <td>33.0</td>\n",
       "      <td>1.0</td>\n",
       "      <td>16.0</td>\n",
       "      <td>26.0</td>\n",
       "      <td>2.0</td>\n",
       "    </tr>\n",
       "    <tr>\n",
       "      <th>19920</th>\n",
       "      <td>124.49375</td>\n",
       "      <td>T1</td>\n",
       "      <td>-32.0</td>\n",
       "      <td>-29.0</td>\n",
       "      <td>-40.0</td>\n",
       "      <td>-27.0</td>\n",
       "      <td>-30.0</td>\n",
       "      <td>-31.0</td>\n",
       "      <td>-49.0</td>\n",
       "      <td>-15.0</td>\n",
       "      <td>...</td>\n",
       "      <td>29.0</td>\n",
       "      <td>-4.0</td>\n",
       "      <td>8.0</td>\n",
       "      <td>18.0</td>\n",
       "      <td>35.0</td>\n",
       "      <td>48.0</td>\n",
       "      <td>-19.0</td>\n",
       "      <td>2.0</td>\n",
       "      <td>11.0</td>\n",
       "      <td>-15.0</td>\n",
       "    </tr>\n",
       "  </tbody>\n",
       "</table>\n",
       "<p>19920 rows × 66 columns</p>\n",
       "</div>"
      ],
      "text/plain": [
       "            Time Code   Fc5.   Fc3.   Fc1.   Fcz.   Fc2.   Fc4.   Fc6.   C5..  \\\n",
       "1            0.0   T0  -10.0   20.0    7.0  -18.0    0.0    4.0   60.0    4.0   \n",
       "2        0.00625   T0   10.0   50.0   49.0   22.0   38.0   31.0   84.0   25.0   \n",
       "3         0.0125   T0   17.0   55.0   59.0   30.0   37.0   25.0   79.0   30.0   \n",
       "4        0.01875   T0   21.0   63.0   66.0   35.0   40.0   29.0   76.0   35.0   \n",
       "5          0.025   T0   27.0   72.0   79.0   48.0   52.0   42.0   91.0   43.0   \n",
       "6        0.03125   T0    2.0   38.0   40.0   12.0   23.0   20.0   65.0   11.0   \n",
       "7         0.0375   T0   -5.0   39.0   49.0   24.0   38.0   41.0   86.0   16.0   \n",
       "8        0.04375   T0   -4.0   49.0   73.0   56.0   60.0   43.0   72.0   14.0   \n",
       "9           0.05   T0   13.0   53.0   67.0   44.0   52.0   38.0   68.0   41.0   \n",
       "10       0.05625   T0   25.0   71.0   73.0   42.0   42.0   24.0   48.0   43.0   \n",
       "11        0.0625   T0   17.0   59.0   59.0   27.0   21.0    2.0   31.0   27.0   \n",
       "12       0.06875   T0   18.0   59.0   48.0    9.0   10.0   -3.0   23.0   52.0   \n",
       "13         0.075   T0   49.0   76.0   68.0   29.0   31.0   21.0   51.0   60.0   \n",
       "14       0.08125   T0   99.0  128.0  118.0   77.0   77.0   63.0   91.0  124.0   \n",
       "15        0.0875   T0  131.0  162.0  148.0  108.0  110.0   99.0  120.0  166.0   \n",
       "16       0.09375   T0  156.0  182.0  167.0  125.0  122.0  109.0  120.0  188.0   \n",
       "17           0.1   T0  162.0  185.0  178.0  133.0  132.0  112.0  121.0  202.0   \n",
       "18       0.10625   T0  129.0  150.0  153.0  118.0  120.0  106.0  116.0  153.0   \n",
       "19        0.1125   T0   64.0   87.0   87.0   59.0   61.0   52.0   68.0   96.0   \n",
       "20       0.11875   T0   62.0   96.0   92.0   56.0   54.0   42.0   64.0  102.0   \n",
       "21         0.125   T0   91.0  124.0  120.0   75.0   78.0   61.0   77.0  107.0   \n",
       "22       0.13125   T0   88.0  122.0  121.0   82.0   81.0   69.0   90.0  116.0   \n",
       "23        0.1375   T0   49.0   74.0   76.0   37.0   31.0   24.0   56.0   71.0   \n",
       "24       0.14375   T0   15.0   41.0   47.0   21.0   24.0   17.0   53.0   31.0   \n",
       "25          0.15   T0   10.0   47.0   59.0   46.0   52.0   52.0   91.0   32.0   \n",
       "26       0.15625   T0   10.0   49.0   55.0   44.0   46.0   43.0   78.0   43.0   \n",
       "27        0.1625   T0   13.0   39.0   41.0   23.0   25.0   14.0   45.0   36.0   \n",
       "28       0.16875   T0  -11.0   20.0   26.0    3.0    8.0   -5.0   35.0    1.0   \n",
       "29         0.175   T0  -37.0    4.0   12.0   -9.0   -7.0  -16.0   26.0  -10.0   \n",
       "30       0.18125   T0  -10.0   35.0   39.0   16.0   22.0   20.0   60.0   27.0   \n",
       "...          ...  ...    ...    ...    ...    ...    ...    ...    ...    ...   \n",
       "19891   124.3125   T1  -32.0  -17.0  -32.0  -24.0  -22.0  -22.0  -38.0  -29.0   \n",
       "19892  124.31875   T1  -39.0  -21.0  -31.0  -25.0  -14.0   -7.0  -16.0  -18.0   \n",
       "19893    124.325   T1  -47.0  -37.0  -53.0  -37.0  -21.0   -8.0  -11.0  -33.0   \n",
       "19894  124.33125   T1  -41.0  -34.0  -49.0  -32.0  -17.0   -6.0   -8.0  -13.0   \n",
       "19895   124.3375   T1  -25.0  -21.0  -38.0  -25.0  -15.0  -13.0  -20.0   12.0   \n",
       "19896  124.34375   T1   -4.0   13.0   -3.0   10.0   12.0   12.0   -7.0   25.0   \n",
       "19897     124.35   T1    4.0   34.0   17.0   22.0   25.0   24.0   11.0   41.0   \n",
       "19898  124.35625   T1   12.0   39.0   15.0   13.0   14.0   11.0   -1.0   47.0   \n",
       "19899   124.3625   T1    6.0   15.0  -10.0  -12.0  -10.0  -14.0  -27.0   37.0   \n",
       "19900  124.36875   T1   22.0   18.0  -11.0  -10.0   -6.0  -11.0   -8.0   32.0   \n",
       "19901    124.375   T1  -14.0  -22.0  -55.0  -51.0  -43.0  -37.0  -27.0    1.0   \n",
       "19902  124.38125   T1  -49.0  -65.0  -95.0  -83.0  -73.0  -62.0  -51.0  -24.0   \n",
       "19903   124.3875   T1  -54.0  -60.0  -74.0  -46.0  -39.0  -33.0  -36.0  -15.0   \n",
       "19904  124.39375   T1  -78.0  -61.0  -59.0  -17.0   -5.0   -3.0   -8.0  -37.0   \n",
       "19905      124.4   T1  -37.0   -7.0   -3.0   33.0   39.0   33.0   20.0   11.0   \n",
       "19906  124.40625   T1  -14.0   22.0   24.0   49.0   50.0   35.0   15.0   17.0   \n",
       "19907   124.4125   T1   20.0   72.0   74.0   91.0   78.0   53.0   24.0   48.0   \n",
       "19908  124.41875   T1   34.0   90.0  101.0  114.0   93.0   66.0   34.0   39.0   \n",
       "19909    124.425   T1   18.0   60.0   67.0   79.0   62.0   34.0    0.0   32.0   \n",
       "19910  124.43125   T1    4.0   32.0   30.0   42.0   29.0   -8.0  -36.0   31.0   \n",
       "19911   124.4375   T1   -5.0   27.0   27.0   43.0   33.0    7.0  -12.0   15.0   \n",
       "19912  124.44375   T1   -1.0   25.0   22.0   41.0   29.0    4.0  -22.0   27.0   \n",
       "19913     124.45   T1    2.0   19.0   11.0   32.0   26.0    5.0  -20.0   34.0   \n",
       "19914  124.45625   T1   -6.0   15.0   13.0   37.0   33.0   13.0  -15.0   27.0   \n",
       "19915   124.4625   T1  -40.0  -20.0  -21.0   10.0   -6.0  -19.0  -42.0   -8.0   \n",
       "19916  124.46875   T1  -68.0  -58.0  -64.0  -44.0  -52.0  -56.0  -67.0  -27.0   \n",
       "19917    124.475   T1  -57.0  -50.0  -66.0  -57.0  -63.0  -63.0  -64.0  -34.0   \n",
       "19918  124.48125   T1  -29.0  -12.0  -26.0  -29.0  -34.0  -39.0  -50.0   -7.0   \n",
       "19919   124.4875   T1  -24.0   -5.0  -20.0  -17.0  -21.0  -25.0  -39.0    1.0   \n",
       "19920  124.49375   T1  -32.0  -29.0  -40.0  -27.0  -30.0  -31.0  -49.0  -15.0   \n",
       "\n",
       "       ...     P8..   Po7.   Po3.   Poz.   Po4.   Po8.   O1..   Oz..   O2..  \\\n",
       "1      ...     -6.0   30.0   25.0   22.0   13.0   -9.0   20.0   24.0   89.0   \n",
       "2      ...      1.0   44.0   31.0   27.0   25.0   12.0   30.0   25.0   83.0   \n",
       "3      ...      6.0   48.0   36.0   33.0   34.0   34.0   41.0   34.0   92.0   \n",
       "4      ...     29.0   48.0   41.0   50.0   59.0   63.0   45.0   47.0  121.0   \n",
       "5      ...     35.0   29.0   22.0   42.0   62.0   71.0   37.0   51.0  143.0   \n",
       "6      ...     48.0   27.0   19.0   34.0   67.0   83.0   23.0   43.0  148.0   \n",
       "7      ...     36.0   23.0   18.0   34.0   70.0   89.0   14.0   35.0  146.0   \n",
       "8      ...     26.0   32.0   26.0   36.0   63.0   79.0   17.0   33.0  147.0   \n",
       "9      ...      9.0   72.0   59.0   41.0   42.0   46.0   43.0   40.0  142.0   \n",
       "10     ...    -11.0   53.0   43.0   24.0   21.0   20.0   54.0   33.0  124.0   \n",
       "11     ...     -5.0   37.0   37.0   27.0   27.0   22.0   30.0    7.0  103.0   \n",
       "12     ...      4.0   70.0   62.0   56.0   52.0   49.0   26.0   14.0  107.0   \n",
       "13     ...     58.0  113.0  115.0  110.0  100.0   96.0   64.0   65.0  143.0   \n",
       "14     ...     67.0  145.0  147.0  137.0  116.0  104.0  119.0  117.0  181.0   \n",
       "15     ...     66.0  195.0  187.0  167.0  131.0  114.0  168.0  153.0  204.0   \n",
       "16     ...     88.0  233.0  220.0  195.0  158.0  148.0  210.0  182.0  223.0   \n",
       "17     ...    106.0  220.0  204.0  191.0  171.0  161.0  221.0  198.0  241.0   \n",
       "18     ...     64.0  151.0  144.0  144.0  131.0  121.0  178.0  171.0  232.0   \n",
       "19     ...     35.0  127.0  122.0  119.0  101.0   94.0  125.0  123.0  202.0   \n",
       "20     ...     34.0  117.0  115.0  112.0   94.0   89.0   92.0   87.0  170.0   \n",
       "21     ...     61.0  134.0  131.0  133.0  110.0  103.0  101.0   97.0  172.0   \n",
       "22     ...     24.0  119.0  115.0  104.0   70.0   58.0  119.0  111.0  173.0   \n",
       "23     ...    -13.0   85.0   78.0   62.0   34.0   35.0  106.0   87.0  140.0   \n",
       "24     ...     15.0   83.0   77.0   62.0   47.0   49.0   82.0   52.0  107.0   \n",
       "25     ...      5.0   55.0   48.0   40.0   34.0   34.0   51.0   26.0   90.0   \n",
       "26     ...      3.0   60.0   43.0   37.0   35.0   41.0   40.0   24.0   94.0   \n",
       "27     ...     33.0   36.0   30.0   37.0   51.0   69.0   26.0   25.0  102.0   \n",
       "28     ...     33.0   49.0   43.0   53.0   63.0   72.0   30.0   34.0  107.0   \n",
       "29     ...     53.0   54.0   50.0   68.0   87.0   95.0   42.0   51.0  119.0   \n",
       "30     ...     51.0   52.0   48.0   63.0   80.0   87.0   53.0   67.0  139.0   \n",
       "...    ...      ...    ...    ...    ...    ...    ...    ...    ...    ...   \n",
       "19891  ...     -8.0  -46.0  -48.0  -21.0    0.0   27.0  -30.0    2.0    0.0   \n",
       "19892  ...     -2.0  -34.0  -34.0    2.0   19.0   34.0  -34.0   11.0   21.0   \n",
       "19893  ...     12.0    5.0    8.0   45.0   47.0   49.0   -3.0   41.0   42.0   \n",
       "19894  ...      9.0   -1.0   13.0   44.0   40.0   33.0   26.0   59.0   46.0   \n",
       "19895  ...     25.0   14.0   37.0   62.0   54.0   52.0   32.0   64.0   49.0   \n",
       "19896  ...     39.0   87.0   97.0  102.0   81.0   74.0   62.0   93.0   74.0   \n",
       "19897  ...     26.0   88.0   92.0   82.0   67.0   59.0   91.0  110.0   84.0   \n",
       "19898  ...     -8.0   36.0   44.0   20.0   21.0   17.0   56.0   63.0   40.0   \n",
       "19899  ...     20.0   47.0   53.0   27.0   30.0   35.0   13.0   13.0   -3.0   \n",
       "19900  ...      8.0   33.0   35.0   25.0   23.0   37.0    3.0   10.0   -1.0   \n",
       "19901  ...      0.0    7.0   11.0   10.0   11.0   29.0    5.0   22.0   16.0   \n",
       "19902  ...     29.0   10.0   20.0   32.0   37.0   59.0   11.0   35.0   39.0   \n",
       "19903  ...     18.0   10.0   21.0   37.0   39.0   43.0   18.0   44.0   46.0   \n",
       "19904  ...     38.0   27.0   36.0   58.0   59.0   51.0   29.0   50.0   40.0   \n",
       "19905  ...     29.0   17.0   24.0   54.0   55.0   35.0   34.0   54.0   37.0   \n",
       "19906  ...      9.0   -8.0    4.0   39.0   41.0   20.0   13.0   33.0   21.0   \n",
       "19907  ...     46.0   -1.0   15.0   64.0   76.0   71.0    5.0   35.0   35.0   \n",
       "19908  ...     45.0  -25.0  -13.0   40.0   64.0   61.0   -3.0   37.0   51.0   \n",
       "19909  ...     -1.0  -50.0  -31.0   10.0   27.0   18.0  -32.0    7.0   23.0   \n",
       "19910  ...     17.0   -1.0   17.0   37.0   48.0   48.0  -35.0   -3.0    5.0   \n",
       "19911  ...     24.0   39.0   47.0   47.0   50.0   44.0   -1.0   19.0   17.0   \n",
       "19912  ...     32.0   57.0   63.0   55.0   54.0   50.0   40.0   45.0   35.0   \n",
       "19913  ...     25.0   60.0   68.0   52.0   41.0   42.0   55.0   54.0   35.0   \n",
       "19914  ...     16.0   37.0   44.0   30.0   18.0   15.0   37.0   35.0    8.0   \n",
       "19915  ...      6.0   34.0   36.0   27.0   12.0   16.0   20.0   18.0  -10.0   \n",
       "19916  ...     -6.0   29.0   29.0   22.0    6.0   10.0   16.0   18.0   -5.0   \n",
       "19917  ...     19.0   21.0   26.0   27.0   21.0   29.0   12.0   20.0   12.0   \n",
       "19918  ...     40.0   35.0   41.0   46.0   47.0   56.0   25.0   36.0   37.0   \n",
       "19919  ...     14.0  -30.0  -15.0    1.0   19.0   33.0    1.0   16.0   26.0   \n",
       "19920  ...     29.0   -4.0    8.0   18.0   35.0   48.0  -19.0    2.0   11.0   \n",
       "\n",
       "        Iz..  \n",
       "1       68.0  \n",
       "2       65.0  \n",
       "3       78.0  \n",
       "4       86.0  \n",
       "5       90.0  \n",
       "6       89.0  \n",
       "7       87.0  \n",
       "8       90.0  \n",
       "9      109.0  \n",
       "10     106.0  \n",
       "11      59.0  \n",
       "12      49.0  \n",
       "13      98.0  \n",
       "14     158.0  \n",
       "15     199.0  \n",
       "16     235.0  \n",
       "17     249.0  \n",
       "18     218.0  \n",
       "19     161.0  \n",
       "20     107.0  \n",
       "21     111.0  \n",
       "22     135.0  \n",
       "23     119.0  \n",
       "24      80.0  \n",
       "25      59.0  \n",
       "26      69.0  \n",
       "27      63.0  \n",
       "28      59.0  \n",
       "29      65.0  \n",
       "30      84.0  \n",
       "...      ...  \n",
       "19891   -8.0  \n",
       "19892  -10.0  \n",
       "19893   28.0  \n",
       "19894   49.0  \n",
       "19895   48.0  \n",
       "19896   83.0  \n",
       "19897  101.0  \n",
       "19898   40.0  \n",
       "19899  -20.0  \n",
       "19900  -13.0  \n",
       "19901    3.0  \n",
       "19902   11.0  \n",
       "19903   14.0  \n",
       "19904   25.0  \n",
       "19905   49.0  \n",
       "19906   25.0  \n",
       "19907   25.0  \n",
       "19908   14.0  \n",
       "19909  -35.0  \n",
       "19910  -45.0  \n",
       "19911   -9.0  \n",
       "19912   37.0  \n",
       "19913   60.0  \n",
       "19914   29.0  \n",
       "19915   12.0  \n",
       "19916   21.0  \n",
       "19917   16.0  \n",
       "19918   26.0  \n",
       "19919    2.0  \n",
       "19920  -15.0  \n",
       "\n",
       "[19920 rows x 66 columns]"
      ]
     },
     "execution_count": 77,
     "metadata": {},
     "output_type": "execute_result"
    }
   ],
   "source": [
    "final_dataset"
   ]
  },
  {
   "cell_type": "code",
   "execution_count": 78,
   "metadata": {},
   "outputs": [
    {
     "data": {
      "text/plain": [
       "array([['0.0', 'T0', '-10.0', ..., '24.0', '89.0', '68.0'],\n",
       "       ['0.00625', 'T0', '10.0', ..., '25.0', '83.0', '65.0'],\n",
       "       ['0.0125', 'T0', '17.0', ..., '34.0', '92.0', '78.0'],\n",
       "       ...,\n",
       "       ['124.48125', 'T1', '-29.0', ..., '36.0', '37.0', '26.0'],\n",
       "       ['124.4875', 'T1', '-24.0', ..., '16.0', '26.0', '2.0'],\n",
       "       ['124.49375', 'T1', '-32.0', ..., '2.0', '11.0', '-15.0']],\n",
       "      dtype='<U32')"
      ]
     },
     "execution_count": 78,
     "metadata": {},
     "output_type": "execute_result"
    }
   ],
   "source": [
    "newDataset"
   ]
  },
  {
   "cell_type": "code",
   "execution_count": 79,
   "metadata": {},
   "outputs": [
    {
     "data": {
      "text/plain": [
       "array([[-10.,  20.,   7., ...,  24.,  89.,  68.],\n",
       "       [ 10.,  50.,  49., ...,  25.,  83.,  65.],\n",
       "       [ 17.,  55.,  59., ...,  34.,  92.,  78.],\n",
       "       ...,\n",
       "       [-29., -12., -26., ...,  36.,  37.,  26.],\n",
       "       [-24.,  -5., -20., ...,  16.,  26.,   2.],\n",
       "       [-32., -29., -40., ...,   2.,  11., -15.]])"
      ]
     },
     "execution_count": 79,
     "metadata": {},
     "output_type": "execute_result"
    }
   ],
   "source": [
    "dataset"
   ]
  },
  {
   "cell_type": "code",
   "execution_count": 80,
   "metadata": {},
   "outputs": [
    {
     "data": {
      "text/html": [
       "<div>\n",
       "<style scoped>\n",
       "    .dataframe tbody tr th:only-of-type {\n",
       "        vertical-align: middle;\n",
       "    }\n",
       "\n",
       "    .dataframe tbody tr th {\n",
       "        vertical-align: top;\n",
       "    }\n",
       "\n",
       "    .dataframe thead th {\n",
       "        text-align: right;\n",
       "    }\n",
       "</style>\n",
       "<table border=\"1\" class=\"dataframe\">\n",
       "  <thead>\n",
       "    <tr style=\"text-align: right;\">\n",
       "      <th></th>\n",
       "      <th>Time</th>\n",
       "      <th>Code</th>\n",
       "      <th>Fc5.</th>\n",
       "      <th>Fc3.</th>\n",
       "      <th>Fc1.</th>\n",
       "      <th>Fcz.</th>\n",
       "      <th>Fc2.</th>\n",
       "      <th>Fc4.</th>\n",
       "      <th>Fc6.</th>\n",
       "      <th>C5..</th>\n",
       "      <th>...</th>\n",
       "      <th>P8..</th>\n",
       "      <th>Po7.</th>\n",
       "      <th>Po3.</th>\n",
       "      <th>Poz.</th>\n",
       "      <th>Po4.</th>\n",
       "      <th>Po8.</th>\n",
       "      <th>O1..</th>\n",
       "      <th>Oz..</th>\n",
       "      <th>O2..</th>\n",
       "      <th>Iz..</th>\n",
       "    </tr>\n",
       "  </thead>\n",
       "  <tbody>\n",
       "    <tr>\n",
       "      <th>count</th>\n",
       "      <td>19920</td>\n",
       "      <td>19920</td>\n",
       "      <td>19920</td>\n",
       "      <td>19920</td>\n",
       "      <td>19920</td>\n",
       "      <td>19920</td>\n",
       "      <td>19920</td>\n",
       "      <td>19920</td>\n",
       "      <td>19920</td>\n",
       "      <td>19920</td>\n",
       "      <td>...</td>\n",
       "      <td>19920</td>\n",
       "      <td>19920</td>\n",
       "      <td>19920</td>\n",
       "      <td>19920</td>\n",
       "      <td>19920</td>\n",
       "      <td>19920</td>\n",
       "      <td>19920</td>\n",
       "      <td>19920</td>\n",
       "      <td>19920</td>\n",
       "      <td>19920</td>\n",
       "    </tr>\n",
       "    <tr>\n",
       "      <th>unique</th>\n",
       "      <td>19920</td>\n",
       "      <td>3</td>\n",
       "      <td>429</td>\n",
       "      <td>427</td>\n",
       "      <td>429</td>\n",
       "      <td>415</td>\n",
       "      <td>407</td>\n",
       "      <td>386</td>\n",
       "      <td>359</td>\n",
       "      <td>402</td>\n",
       "      <td>...</td>\n",
       "      <td>277</td>\n",
       "      <td>369</td>\n",
       "      <td>391</td>\n",
       "      <td>376</td>\n",
       "      <td>348</td>\n",
       "      <td>330</td>\n",
       "      <td>377</td>\n",
       "      <td>372</td>\n",
       "      <td>400</td>\n",
       "      <td>364</td>\n",
       "    </tr>\n",
       "    <tr>\n",
       "      <th>top</th>\n",
       "      <td>34.775</td>\n",
       "      <td>T0</td>\n",
       "      <td>-29.0</td>\n",
       "      <td>-10.0</td>\n",
       "      <td>-8.0</td>\n",
       "      <td>-20.0</td>\n",
       "      <td>-5.0</td>\n",
       "      <td>-1.0</td>\n",
       "      <td>5.0</td>\n",
       "      <td>-1.0</td>\n",
       "      <td>...</td>\n",
       "      <td>1.0</td>\n",
       "      <td>1.0</td>\n",
       "      <td>-4.0</td>\n",
       "      <td>-1.0</td>\n",
       "      <td>-10.0</td>\n",
       "      <td>-1.0</td>\n",
       "      <td>-12.0</td>\n",
       "      <td>-3.0</td>\n",
       "      <td>1.0</td>\n",
       "      <td>5.0</td>\n",
       "    </tr>\n",
       "    <tr>\n",
       "      <th>freq</th>\n",
       "      <td>1</td>\n",
       "      <td>10080</td>\n",
       "      <td>204</td>\n",
       "      <td>220</td>\n",
       "      <td>190</td>\n",
       "      <td>177</td>\n",
       "      <td>198</td>\n",
       "      <td>216</td>\n",
       "      <td>228</td>\n",
       "      <td>190</td>\n",
       "      <td>...</td>\n",
       "      <td>278</td>\n",
       "      <td>192</td>\n",
       "      <td>180</td>\n",
       "      <td>173</td>\n",
       "      <td>196</td>\n",
       "      <td>205</td>\n",
       "      <td>192</td>\n",
       "      <td>190</td>\n",
       "      <td>188</td>\n",
       "      <td>192</td>\n",
       "    </tr>\n",
       "  </tbody>\n",
       "</table>\n",
       "<p>4 rows × 66 columns</p>\n",
       "</div>"
      ],
      "text/plain": [
       "          Time   Code   Fc5.   Fc3.   Fc1.   Fcz.   Fc2.   Fc4.   Fc6.   C5..  \\\n",
       "count    19920  19920  19920  19920  19920  19920  19920  19920  19920  19920   \n",
       "unique   19920      3    429    427    429    415    407    386    359    402   \n",
       "top     34.775     T0  -29.0  -10.0   -8.0  -20.0   -5.0   -1.0    5.0   -1.0   \n",
       "freq         1  10080    204    220    190    177    198    216    228    190   \n",
       "\n",
       "        ...     P8..   Po7.   Po3.   Poz.   Po4.   Po8.   O1..   Oz..   O2..  \\\n",
       "count   ...    19920  19920  19920  19920  19920  19920  19920  19920  19920   \n",
       "unique  ...      277    369    391    376    348    330    377    372    400   \n",
       "top     ...      1.0    1.0   -4.0   -1.0  -10.0   -1.0  -12.0   -3.0    1.0   \n",
       "freq    ...      278    192    180    173    196    205    192    190    188   \n",
       "\n",
       "         Iz..  \n",
       "count   19920  \n",
       "unique    364  \n",
       "top       5.0  \n",
       "freq      192  \n",
       "\n",
       "[4 rows x 66 columns]"
      ]
     },
     "execution_count": 80,
     "metadata": {},
     "output_type": "execute_result"
    }
   ],
   "source": [
    "final_dataset.describe()"
   ]
  },
  {
   "cell_type": "code",
   "execution_count": 81,
   "metadata": {},
   "outputs": [],
   "source": [
    "test_df = pd.DataFrame(dataset)"
   ]
  },
  {
   "cell_type": "code",
   "execution_count": 82,
   "metadata": {},
   "outputs": [
    {
     "data": {
      "text/html": [
       "<div>\n",
       "<style scoped>\n",
       "    .dataframe tbody tr th:only-of-type {\n",
       "        vertical-align: middle;\n",
       "    }\n",
       "\n",
       "    .dataframe tbody tr th {\n",
       "        vertical-align: top;\n",
       "    }\n",
       "\n",
       "    .dataframe thead th {\n",
       "        text-align: right;\n",
       "    }\n",
       "</style>\n",
       "<table border=\"1\" class=\"dataframe\">\n",
       "  <thead>\n",
       "    <tr style=\"text-align: right;\">\n",
       "      <th></th>\n",
       "      <th>0</th>\n",
       "      <th>1</th>\n",
       "      <th>2</th>\n",
       "      <th>3</th>\n",
       "      <th>4</th>\n",
       "      <th>5</th>\n",
       "      <th>6</th>\n",
       "      <th>7</th>\n",
       "      <th>8</th>\n",
       "      <th>9</th>\n",
       "      <th>...</th>\n",
       "      <th>54</th>\n",
       "      <th>55</th>\n",
       "      <th>56</th>\n",
       "      <th>57</th>\n",
       "      <th>58</th>\n",
       "      <th>59</th>\n",
       "      <th>60</th>\n",
       "      <th>61</th>\n",
       "      <th>62</th>\n",
       "      <th>63</th>\n",
       "    </tr>\n",
       "  </thead>\n",
       "  <tbody>\n",
       "    <tr>\n",
       "      <th>0</th>\n",
       "      <td>-10.0</td>\n",
       "      <td>20.0</td>\n",
       "      <td>7.0</td>\n",
       "      <td>-18.0</td>\n",
       "      <td>0.0</td>\n",
       "      <td>4.0</td>\n",
       "      <td>60.0</td>\n",
       "      <td>4.0</td>\n",
       "      <td>12.0</td>\n",
       "      <td>6.0</td>\n",
       "      <td>...</td>\n",
       "      <td>-6.0</td>\n",
       "      <td>30.0</td>\n",
       "      <td>25.0</td>\n",
       "      <td>22.0</td>\n",
       "      <td>13.0</td>\n",
       "      <td>-9.0</td>\n",
       "      <td>20.0</td>\n",
       "      <td>24.0</td>\n",
       "      <td>89.0</td>\n",
       "      <td>68.0</td>\n",
       "    </tr>\n",
       "    <tr>\n",
       "      <th>1</th>\n",
       "      <td>10.0</td>\n",
       "      <td>50.0</td>\n",
       "      <td>49.0</td>\n",
       "      <td>22.0</td>\n",
       "      <td>38.0</td>\n",
       "      <td>31.0</td>\n",
       "      <td>84.0</td>\n",
       "      <td>25.0</td>\n",
       "      <td>43.0</td>\n",
       "      <td>49.0</td>\n",
       "      <td>...</td>\n",
       "      <td>1.0</td>\n",
       "      <td>44.0</td>\n",
       "      <td>31.0</td>\n",
       "      <td>27.0</td>\n",
       "      <td>25.0</td>\n",
       "      <td>12.0</td>\n",
       "      <td>30.0</td>\n",
       "      <td>25.0</td>\n",
       "      <td>83.0</td>\n",
       "      <td>65.0</td>\n",
       "    </tr>\n",
       "    <tr>\n",
       "      <th>2</th>\n",
       "      <td>17.0</td>\n",
       "      <td>55.0</td>\n",
       "      <td>59.0</td>\n",
       "      <td>30.0</td>\n",
       "      <td>37.0</td>\n",
       "      <td>25.0</td>\n",
       "      <td>79.0</td>\n",
       "      <td>30.0</td>\n",
       "      <td>48.0</td>\n",
       "      <td>53.0</td>\n",
       "      <td>...</td>\n",
       "      <td>6.0</td>\n",
       "      <td>48.0</td>\n",
       "      <td>36.0</td>\n",
       "      <td>33.0</td>\n",
       "      <td>34.0</td>\n",
       "      <td>34.0</td>\n",
       "      <td>41.0</td>\n",
       "      <td>34.0</td>\n",
       "      <td>92.0</td>\n",
       "      <td>78.0</td>\n",
       "    </tr>\n",
       "    <tr>\n",
       "      <th>3</th>\n",
       "      <td>21.0</td>\n",
       "      <td>63.0</td>\n",
       "      <td>66.0</td>\n",
       "      <td>35.0</td>\n",
       "      <td>40.0</td>\n",
       "      <td>29.0</td>\n",
       "      <td>76.0</td>\n",
       "      <td>35.0</td>\n",
       "      <td>55.0</td>\n",
       "      <td>65.0</td>\n",
       "      <td>...</td>\n",
       "      <td>29.0</td>\n",
       "      <td>48.0</td>\n",
       "      <td>41.0</td>\n",
       "      <td>50.0</td>\n",
       "      <td>59.0</td>\n",
       "      <td>63.0</td>\n",
       "      <td>45.0</td>\n",
       "      <td>47.0</td>\n",
       "      <td>121.0</td>\n",
       "      <td>86.0</td>\n",
       "    </tr>\n",
       "    <tr>\n",
       "      <th>4</th>\n",
       "      <td>27.0</td>\n",
       "      <td>72.0</td>\n",
       "      <td>79.0</td>\n",
       "      <td>48.0</td>\n",
       "      <td>52.0</td>\n",
       "      <td>42.0</td>\n",
       "      <td>91.0</td>\n",
       "      <td>43.0</td>\n",
       "      <td>60.0</td>\n",
       "      <td>76.0</td>\n",
       "      <td>...</td>\n",
       "      <td>35.0</td>\n",
       "      <td>29.0</td>\n",
       "      <td>22.0</td>\n",
       "      <td>42.0</td>\n",
       "      <td>62.0</td>\n",
       "      <td>71.0</td>\n",
       "      <td>37.0</td>\n",
       "      <td>51.0</td>\n",
       "      <td>143.0</td>\n",
       "      <td>90.0</td>\n",
       "    </tr>\n",
       "  </tbody>\n",
       "</table>\n",
       "<p>5 rows × 64 columns</p>\n",
       "</div>"
      ],
      "text/plain": [
       "     0     1     2     3     4     5     6     7     8     9   ...     54  \\\n",
       "0 -10.0  20.0   7.0 -18.0   0.0   4.0  60.0   4.0  12.0   6.0  ...   -6.0   \n",
       "1  10.0  50.0  49.0  22.0  38.0  31.0  84.0  25.0  43.0  49.0  ...    1.0   \n",
       "2  17.0  55.0  59.0  30.0  37.0  25.0  79.0  30.0  48.0  53.0  ...    6.0   \n",
       "3  21.0  63.0  66.0  35.0  40.0  29.0  76.0  35.0  55.0  65.0  ...   29.0   \n",
       "4  27.0  72.0  79.0  48.0  52.0  42.0  91.0  43.0  60.0  76.0  ...   35.0   \n",
       "\n",
       "     55    56    57    58    59    60    61     62    63  \n",
       "0  30.0  25.0  22.0  13.0  -9.0  20.0  24.0   89.0  68.0  \n",
       "1  44.0  31.0  27.0  25.0  12.0  30.0  25.0   83.0  65.0  \n",
       "2  48.0  36.0  33.0  34.0  34.0  41.0  34.0   92.0  78.0  \n",
       "3  48.0  41.0  50.0  59.0  63.0  45.0  47.0  121.0  86.0  \n",
       "4  29.0  22.0  42.0  62.0  71.0  37.0  51.0  143.0  90.0  \n",
       "\n",
       "[5 rows x 64 columns]"
      ]
     },
     "execution_count": 82,
     "metadata": {},
     "output_type": "execute_result"
    }
   ],
   "source": [
    "test_df.head()"
   ]
  },
  {
   "cell_type": "code",
   "execution_count": 83,
   "metadata": {},
   "outputs": [],
   "source": [
    "test_df = pd.DataFrame(dataset,dtype=np.float64)"
   ]
  },
  {
   "cell_type": "code",
   "execution_count": 87,
   "metadata": {},
   "outputs": [
    {
     "data": {
      "text/html": [
       "<div>\n",
       "<style scoped>\n",
       "    .dataframe tbody tr th:only-of-type {\n",
       "        vertical-align: middle;\n",
       "    }\n",
       "\n",
       "    .dataframe tbody tr th {\n",
       "        vertical-align: top;\n",
       "    }\n",
       "\n",
       "    .dataframe thead th {\n",
       "        text-align: right;\n",
       "    }\n",
       "</style>\n",
       "<table border=\"1\" class=\"dataframe\">\n",
       "  <thead>\n",
       "    <tr style=\"text-align: right;\">\n",
       "      <th></th>\n",
       "      <th>0</th>\n",
       "      <th>1</th>\n",
       "      <th>2</th>\n",
       "      <th>3</th>\n",
       "      <th>4</th>\n",
       "      <th>5</th>\n",
       "      <th>6</th>\n",
       "      <th>7</th>\n",
       "      <th>8</th>\n",
       "      <th>9</th>\n",
       "      <th>...</th>\n",
       "      <th>54</th>\n",
       "      <th>55</th>\n",
       "      <th>56</th>\n",
       "      <th>57</th>\n",
       "      <th>58</th>\n",
       "      <th>59</th>\n",
       "      <th>60</th>\n",
       "      <th>61</th>\n",
       "      <th>62</th>\n",
       "      <th>63</th>\n",
       "    </tr>\n",
       "  </thead>\n",
       "  <tbody>\n",
       "    <tr>\n",
       "      <th>count</th>\n",
       "      <td>19920.000000</td>\n",
       "      <td>19920.000000</td>\n",
       "      <td>19920.000000</td>\n",
       "      <td>19920.000000</td>\n",
       "      <td>19920.000000</td>\n",
       "      <td>19920.000000</td>\n",
       "      <td>19920.000000</td>\n",
       "      <td>19920.000000</td>\n",
       "      <td>19920.000000</td>\n",
       "      <td>19920.000000</td>\n",
       "      <td>...</td>\n",
       "      <td>19920.000000</td>\n",
       "      <td>19920.000000</td>\n",
       "      <td>19920.000000</td>\n",
       "      <td>19920.000000</td>\n",
       "      <td>19920.000000</td>\n",
       "      <td>19920.000000</td>\n",
       "      <td>19920.000000</td>\n",
       "      <td>19920.000000</td>\n",
       "      <td>19920.000000</td>\n",
       "      <td>19920.000000</td>\n",
       "    </tr>\n",
       "    <tr>\n",
       "      <th>mean</th>\n",
       "      <td>-0.167520</td>\n",
       "      <td>1.803414</td>\n",
       "      <td>2.260894</td>\n",
       "      <td>2.723896</td>\n",
       "      <td>1.488052</td>\n",
       "      <td>1.770833</td>\n",
       "      <td>1.021787</td>\n",
       "      <td>-2.095984</td>\n",
       "      <td>1.931426</td>\n",
       "      <td>0.097942</td>\n",
       "      <td>...</td>\n",
       "      <td>-1.528363</td>\n",
       "      <td>0.892319</td>\n",
       "      <td>-2.569378</td>\n",
       "      <td>-0.533032</td>\n",
       "      <td>0.454116</td>\n",
       "      <td>0.524749</td>\n",
       "      <td>-0.870783</td>\n",
       "      <td>-0.440060</td>\n",
       "      <td>-0.387902</td>\n",
       "      <td>1.786596</td>\n",
       "    </tr>\n",
       "    <tr>\n",
       "      <th>std</th>\n",
       "      <td>53.709304</td>\n",
       "      <td>53.621419</td>\n",
       "      <td>55.272853</td>\n",
       "      <td>56.962745</td>\n",
       "      <td>54.670994</td>\n",
       "      <td>49.405910</td>\n",
       "      <td>45.872588</td>\n",
       "      <td>53.070399</td>\n",
       "      <td>50.503603</td>\n",
       "      <td>53.525992</td>\n",
       "      <td>...</td>\n",
       "      <td>38.343024</td>\n",
       "      <td>51.075128</td>\n",
       "      <td>54.401374</td>\n",
       "      <td>53.999920</td>\n",
       "      <td>49.474035</td>\n",
       "      <td>47.805631</td>\n",
       "      <td>51.942607</td>\n",
       "      <td>51.334349</td>\n",
       "      <td>56.546207</td>\n",
       "      <td>50.682020</td>\n",
       "    </tr>\n",
       "    <tr>\n",
       "      <th>min</th>\n",
       "      <td>-287.000000</td>\n",
       "      <td>-266.000000</td>\n",
       "      <td>-253.000000</td>\n",
       "      <td>-235.000000</td>\n",
       "      <td>-227.000000</td>\n",
       "      <td>-197.000000</td>\n",
       "      <td>-167.000000</td>\n",
       "      <td>-252.000000</td>\n",
       "      <td>-240.000000</td>\n",
       "      <td>-228.000000</td>\n",
       "      <td>...</td>\n",
       "      <td>-147.000000</td>\n",
       "      <td>-201.000000</td>\n",
       "      <td>-229.000000</td>\n",
       "      <td>-214.000000</td>\n",
       "      <td>-192.000000</td>\n",
       "      <td>-174.000000</td>\n",
       "      <td>-203.000000</td>\n",
       "      <td>-208.000000</td>\n",
       "      <td>-240.000000</td>\n",
       "      <td>-199.000000</td>\n",
       "    </tr>\n",
       "    <tr>\n",
       "      <th>25%</th>\n",
       "      <td>-35.000000</td>\n",
       "      <td>-32.000000</td>\n",
       "      <td>-33.000000</td>\n",
       "      <td>-34.000000</td>\n",
       "      <td>-34.000000</td>\n",
       "      <td>-30.000000</td>\n",
       "      <td>-29.000000</td>\n",
       "      <td>-38.000000</td>\n",
       "      <td>-31.000000</td>\n",
       "      <td>-35.000000</td>\n",
       "      <td>...</td>\n",
       "      <td>-27.000000</td>\n",
       "      <td>-33.000000</td>\n",
       "      <td>-39.000000</td>\n",
       "      <td>-37.000000</td>\n",
       "      <td>-32.000000</td>\n",
       "      <td>-31.000000</td>\n",
       "      <td>-35.000000</td>\n",
       "      <td>-35.000000</td>\n",
       "      <td>-39.000000</td>\n",
       "      <td>-33.000000</td>\n",
       "    </tr>\n",
       "    <tr>\n",
       "      <th>50%</th>\n",
       "      <td>-4.000000</td>\n",
       "      <td>-2.000000</td>\n",
       "      <td>0.000000</td>\n",
       "      <td>1.000000</td>\n",
       "      <td>-1.000000</td>\n",
       "      <td>-1.000000</td>\n",
       "      <td>-2.000000</td>\n",
       "      <td>-5.000000</td>\n",
       "      <td>0.000000</td>\n",
       "      <td>-2.000000</td>\n",
       "      <td>...</td>\n",
       "      <td>-2.000000</td>\n",
       "      <td>-1.000000</td>\n",
       "      <td>-4.000000</td>\n",
       "      <td>-2.000000</td>\n",
       "      <td>-1.000000</td>\n",
       "      <td>-1.000000</td>\n",
       "      <td>-3.000000</td>\n",
       "      <td>-1.000000</td>\n",
       "      <td>-2.000000</td>\n",
       "      <td>1.000000</td>\n",
       "    </tr>\n",
       "    <tr>\n",
       "      <th>75%</th>\n",
       "      <td>30.000000</td>\n",
       "      <td>34.000000</td>\n",
       "      <td>36.000000</td>\n",
       "      <td>38.000000</td>\n",
       "      <td>34.000000</td>\n",
       "      <td>30.000000</td>\n",
       "      <td>26.000000</td>\n",
       "      <td>31.000000</td>\n",
       "      <td>33.000000</td>\n",
       "      <td>33.000000</td>\n",
       "      <td>...</td>\n",
       "      <td>23.000000</td>\n",
       "      <td>34.000000</td>\n",
       "      <td>32.000000</td>\n",
       "      <td>34.000000</td>\n",
       "      <td>32.000000</td>\n",
       "      <td>31.000000</td>\n",
       "      <td>32.000000</td>\n",
       "      <td>32.000000</td>\n",
       "      <td>35.000000</td>\n",
       "      <td>34.000000</td>\n",
       "    </tr>\n",
       "    <tr>\n",
       "      <th>max</th>\n",
       "      <td>347.000000</td>\n",
       "      <td>308.000000</td>\n",
       "      <td>296.000000</td>\n",
       "      <td>280.000000</td>\n",
       "      <td>244.000000</td>\n",
       "      <td>242.000000</td>\n",
       "      <td>265.000000</td>\n",
       "      <td>287.000000</td>\n",
       "      <td>277.000000</td>\n",
       "      <td>291.000000</td>\n",
       "      <td>...</td>\n",
       "      <td>195.000000</td>\n",
       "      <td>233.000000</td>\n",
       "      <td>230.000000</td>\n",
       "      <td>237.000000</td>\n",
       "      <td>212.000000</td>\n",
       "      <td>211.000000</td>\n",
       "      <td>221.000000</td>\n",
       "      <td>227.000000</td>\n",
       "      <td>241.000000</td>\n",
       "      <td>249.000000</td>\n",
       "    </tr>\n",
       "  </tbody>\n",
       "</table>\n",
       "<p>8 rows × 64 columns</p>\n",
       "</div>"
      ],
      "text/plain": [
       "                 0             1             2             3             4   \\\n",
       "count  19920.000000  19920.000000  19920.000000  19920.000000  19920.000000   \n",
       "mean      -0.167520      1.803414      2.260894      2.723896      1.488052   \n",
       "std       53.709304     53.621419     55.272853     56.962745     54.670994   \n",
       "min     -287.000000   -266.000000   -253.000000   -235.000000   -227.000000   \n",
       "25%      -35.000000    -32.000000    -33.000000    -34.000000    -34.000000   \n",
       "50%       -4.000000     -2.000000      0.000000      1.000000     -1.000000   \n",
       "75%       30.000000     34.000000     36.000000     38.000000     34.000000   \n",
       "max      347.000000    308.000000    296.000000    280.000000    244.000000   \n",
       "\n",
       "                 5             6             7             8             9   \\\n",
       "count  19920.000000  19920.000000  19920.000000  19920.000000  19920.000000   \n",
       "mean       1.770833      1.021787     -2.095984      1.931426      0.097942   \n",
       "std       49.405910     45.872588     53.070399     50.503603     53.525992   \n",
       "min     -197.000000   -167.000000   -252.000000   -240.000000   -228.000000   \n",
       "25%      -30.000000    -29.000000    -38.000000    -31.000000    -35.000000   \n",
       "50%       -1.000000     -2.000000     -5.000000      0.000000     -2.000000   \n",
       "75%       30.000000     26.000000     31.000000     33.000000     33.000000   \n",
       "max      242.000000    265.000000    287.000000    277.000000    291.000000   \n",
       "\n",
       "           ...                 54            55            56            57  \\\n",
       "count      ...       19920.000000  19920.000000  19920.000000  19920.000000   \n",
       "mean       ...          -1.528363      0.892319     -2.569378     -0.533032   \n",
       "std        ...          38.343024     51.075128     54.401374     53.999920   \n",
       "min        ...        -147.000000   -201.000000   -229.000000   -214.000000   \n",
       "25%        ...         -27.000000    -33.000000    -39.000000    -37.000000   \n",
       "50%        ...          -2.000000     -1.000000     -4.000000     -2.000000   \n",
       "75%        ...          23.000000     34.000000     32.000000     34.000000   \n",
       "max        ...         195.000000    233.000000    230.000000    237.000000   \n",
       "\n",
       "                 58            59            60            61            62  \\\n",
       "count  19920.000000  19920.000000  19920.000000  19920.000000  19920.000000   \n",
       "mean       0.454116      0.524749     -0.870783     -0.440060     -0.387902   \n",
       "std       49.474035     47.805631     51.942607     51.334349     56.546207   \n",
       "min     -192.000000   -174.000000   -203.000000   -208.000000   -240.000000   \n",
       "25%      -32.000000    -31.000000    -35.000000    -35.000000    -39.000000   \n",
       "50%       -1.000000     -1.000000     -3.000000     -1.000000     -2.000000   \n",
       "75%       32.000000     31.000000     32.000000     32.000000     35.000000   \n",
       "max      212.000000    211.000000    221.000000    227.000000    241.000000   \n",
       "\n",
       "                 63  \n",
       "count  19920.000000  \n",
       "mean       1.786596  \n",
       "std       50.682020  \n",
       "min     -199.000000  \n",
       "25%      -33.000000  \n",
       "50%        1.000000  \n",
       "75%       34.000000  \n",
       "max      249.000000  \n",
       "\n",
       "[8 rows x 64 columns]"
      ]
     },
     "execution_count": 87,
     "metadata": {},
     "output_type": "execute_result"
    }
   ],
   "source": [
    "test_df.describe()"
   ]
  },
  {
   "cell_type": "code",
   "execution_count": 89,
   "metadata": {
    "scrolled": true
   },
   "outputs": [
    {
     "data": {
      "image/png": "[encoded data removed]",
      "text/plain": [
       "<Figure size 432x288 with 64 Axes>"
      ]
     },
     "metadata": {},
     "output_type": "display_data"
    }
   ],
   "source": [
    "%matplotlib inline\n",
    "import matplotlib.pyplot as plt\n",
    "test_df.hist()\n",
    "plt.show()"
   ]
  },
  {
   "cell_type": "code",
   "execution_count": 94,
   "metadata": {},
   "outputs": [
    {
     "name": "stdout",
     "output_type": "stream",
     "text": [
      "Fc5.\n"
     ]
    },
    {
     "data": {
      "image/png": "[encoded data removed]",
      "text/plain": [
       "<Figure size 432x288 with 1 Axes>"
      ]
     },
     "metadata": {},
     "output_type": "display_data"
    },
    {
     "name": "stdout",
     "output_type": "stream",
     "text": [
      "Fc3.\n"
     ]
    },
    {
     "data": {
      "image/png": "[encoded data removed]",
      "text/plain": [
       "<Figure size 432x288 with 1 Axes>"
      ]
     },
     "metadata": {},
     "output_type": "display_data"
    },
    {
     "name": "stdout",
     "output_type": "stream",
     "text": [
      "Fc1.\n"
     ]
    },
    {
     "data": {
      "image/png": "[encoded data removed]",
      "text/plain": [
       "<Figure size 432x288 with 1 Axes>"
      ]
     },
     "metadata": {},
     "output_type": "display_data"
    },
    {
     "name": "stdout",
     "output_type": "stream",
     "text": [
      "Fcz.\n"
     ]
    },
    {
     "data": {
      "image/png": "[encoded data removed]",
      "text/plain": [
       "<Figure size 432x288 with 1 Axes>"
      ]
     },
     "metadata": {},
     "output_type": "display_data"
    },
    {
     "name": "stdout",
     "output_type": "stream",
     "text": [
      "Fc2.\n"
     ]
    },
    {
     "data": {
      "image/png": "[encoded data removed]",
      "text/plain": [
       "<Figure size 432x288 with 1 Axes>"
      ]
     },
     "metadata": {},
     "output_type": "display_data"
    },
    {
     "name": "stdout",
     "output_type": "stream",
     "text": [
      "Fc4.\n"
     ]
    },
    {
     "data": {
      "image/png": "[encoded data removed]",
      "text/plain": [
       "<Figure size 432x288 with 1 Axes>"
      ]
     },
     "metadata": {},
     "output_type": "display_data"
    },
    {
     "name": "stdout",
     "output_type": "stream",
     "text": [
      "Fc6.\n"
     ]
    },
    {
     "data": {
      "image/png": "[encoded data removed]",
      "text/plain": [
       "<Figure size 432x288 with 1 Axes>"
      ]
     },
     "metadata": {},
     "output_type": "display_data"
    },
    {
     "name": "stdout",
     "output_type": "stream",
     "text": [
      "C5..\n"
     ]
    },
    {
     "data": {
      "image/png": "[encoded data removed]",
      "text/plain": [
       "<Figure size 432x288 with 1 Axes>"
      ]
     },
     "metadata": {},
     "output_type": "display_data"
    },
    {
     "name": "stdout",
     "output_type": "stream",
     "text": [
      "C3..\n"
     ]
    },
    {
     "data": {
      "image/png": "[encoded data removed]",
      "text/plain": [
       "<Figure size 432x288 with 1 Axes>"
      ]
     },
     "metadata": {},
     "output_type": "display_data"
    },
    {
     "name": "stdout",
     "output_type": "stream",
     "text": [
      "C1..\n"
     ]
    },
    {
     "data": {
      "image/png": "[encoded data removed]",
      "text/plain": [
       "<Figure size 432x288 with 1 Axes>"
      ]
     },
     "metadata": {},
     "output_type": "display_data"
    },
    {
     "name": "stdout",
     "output_type": "stream",
     "text": [
      "Cz..\n"
     ]
    },
    {
     "data": {
      "image/png": "[encoded data removed]",
      "text/plain": [
       "<Figure size 432x288 with 1 Axes>"
      ]
     },
     "metadata": {},
     "output_type": "display_data"
    },
    {
     "name": "stdout",
     "output_type": "stream",
     "text": [
      "C2..\n"
     ]
    },
    {
     "data": {
      "image/png": "[encoded data removed]",
      "text/plain": [
       "<Figure size 432x288 with 1 Axes>"
      ]
     },
     "metadata": {},
     "output_type": "display_data"
    },
    {
     "name": "stdout",
     "output_type": "stream",
     "text": [
      "C4..\n"
     ]
    },
    {
     "data": {
      "image/png": "[encoded data removed]",
      "text/plain": [
       "<Figure size 432x288 with 1 Axes>"
      ]
     },
     "metadata": {},
     "output_type": "display_data"
    },
    {
     "name": "stdout",
     "output_type": "stream",
     "text": [
      "C6..\n"
     ]
    },
    {
     "data": {
      "image/png": "[encoded data removed]",
      "text/plain": [
       "<Figure size 432x288 with 1 Axes>"
      ]
     },
     "metadata": {},
     "output_type": "display_data"
    },
    {
     "name": "stdout",
     "output_type": "stream",
     "text": [
      "Cp5.\n"
     ]
    },
    {
     "data": {
      "image/png": "[encoded data removed]",
      "text/plain": [
       "<Figure size 432x288 with 1 Axes>"
      ]
     },
     "metadata": {},
     "output_type": "display_data"
    },
    {
     "name": "stdout",
     "output_type": "stream",
     "text": [
      "Cp3.\n"
     ]
    },
    {
     "data": {
      "image/png": "[encoded data removed]",
      "text/plain": [
       "<Figure size 432x288 with 1 Axes>"
      ]
     },
     "metadata": {},
     "output_type": "display_data"
    },
    {
     "name": "stdout",
     "output_type": "stream",
     "text": [
      "Cp1.\n"
     ]
    },
    {
     "data": {
      "image/png": "[encoded data removed]",
      "text/plain": [
       "<Figure size 432x288 with 1 Axes>"
      ]
     },
     "metadata": {},
     "output_type": "display_data"
    },
    {
     "name": "stdout",
     "output_type": "stream",
     "text": [
      "Cpz.\n"
     ]
    },
    {
     "data": {
      "image/png": "[encoded data removed]",
      "text/plain": [
       "<Figure size 432x288 with 1 Axes>"
      ]
     },
     "metadata": {},
     "output_type": "display_data"
    },
    {
     "name": "stdout",
     "output_type": "stream",
     "text": [
      "Cp2.\n"
     ]
    },
    {
     "data": {
      "image/png": "[encoded data removed]",
      "text/plain": [
       "<Figure size 432x288 with 1 Axes>"
      ]
     },
     "metadata": {},
     "output_type": "display_data"
    },
    {
     "name": "stdout",
     "output_type": "stream",
     "text": [
      "Cp4.\n"
     ]
    },
    {
     "data": {
      "image/png": "[encoded data removed]",
      "text/plain": [
       "<Figure size 432x288 with 1 Axes>"
      ]
     },
     "metadata": {},
     "output_type": "display_data"
    },
    {
     "name": "stdout",
     "output_type": "stream",
     "text": [
      "Cp6.\n"
     ]
    },
    {
     "data": {
      "image/png": "[encoded data removed]",
      "text/plain": [
       "<Figure size 432x288 with 1 Axes>"
      ]
     },
     "metadata": {},
     "output_type": "display_data"
    },
    {
     "name": "stdout",
     "output_type": "stream",
     "text": [
      "Fp1.\n"
     ]
    },
    {
     "data": {
      "image/png": "[encoded data removed]",
      "text/plain": [
       "<Figure size 432x288 with 1 Axes>"
      ]
     },
     "metadata": {},
     "output_type": "display_data"
    },
    {
     "name": "stdout",
     "output_type": "stream",
     "text": [
      "Fpz.\n"
     ]
    },
    {
     "data": {
      "image/png": "[encoded data removed]",
      "text/plain": [
       "<Figure size 432x288 with 1 Axes>"
      ]
     },
     "metadata": {},
     "output_type": "display_data"
    },
    {
     "name": "stdout",
     "output_type": "stream",
     "text": [
      "Fp2.\n"
     ]
    },
    {
     "data": {
      "image/png": "[encoded data removed]",
      "text/plain": [
       "<Figure size 432x288 with 1 Axes>"
      ]
     },
     "metadata": {},
     "output_type": "display_data"
    },
    {
     "name": "stdout",
     "output_type": "stream",
     "text": [
      "Af7.\n"
     ]
    },
    {
     "data": {
      "image/png": "[encoded data removed]",
      "text/plain": [
       "<Figure size 432x288 with 1 Axes>"
      ]
     },
     "metadata": {},
     "output_type": "display_data"
    },
    {
     "name": "stdout",
     "output_type": "stream",
     "text": [
      "Af3.\n"
     ]
    },
    {
     "data": {
      "image/png": "[encoded data removed]",
      "text/plain": [
       "<Figure size 432x288 with 1 Axes>"
      ]
     },
     "metadata": {},
     "output_type": "display_data"
    },
    {
     "name": "stdout",
     "output_type": "stream",
     "text": [
      "Afz.\n"
     ]
    },
    {
     "data": {
      "image/png": "[encoded data removed]",
      "text/plain": [
       "<Figure size 432x288 with 1 Axes>"
      ]
     },
     "metadata": {},
     "output_type": "display_data"
    },
    {
     "name": "stdout",
     "output_type": "stream",
     "text": [
      "Af4.\n"
     ]
    },
    {
     "data": {
      "image/png": "[encoded data removed]",
      "text/plain": [
       "<Figure size 432x288 with 1 Axes>"
      ]
     },
     "metadata": {},
     "output_type": "display_data"
    },
    {
     "name": "stdout",
     "output_type": "stream",
     "text": [
      "Af8.\n"
     ]
    },
    {
     "data": {
      "image/png": "[encoded data removed]",
      "text/plain": [
       "<Figure size 432x288 with 1 Axes>"
      ]
     },
     "metadata": {},
     "output_type": "display_data"
    },
    {
     "name": "stdout",
     "output_type": "stream",
     "text": [
      "F7..\n"
     ]
    },
    {
     "data": {
      "image/png": "[encoded data removed]",
      "text/plain": [
       "<Figure size 432x288 with 1 Axes>"
      ]
     },
     "metadata": {},
     "output_type": "display_data"
    },
    {
     "name": "stdout",
     "output_type": "stream",
     "text": [
      "F5..\n"
     ]
    },
    {
     "data": {
      "image/png": "[encoded data removed]",
      "text/plain": [
       "<Figure size 432x288 with 1 Axes>"
      ]
     },
     "metadata": {},
     "output_type": "display_data"
    },
    {
     "name": "stdout",
     "output_type": "stream",
     "text": [
      "F3..\n"
     ]
    },
    {
     "data": {
      "image/png": "[encoded data removed]",
      "text/plain": [
       "<Figure size 432x288 with 1 Axes>"
      ]
     },
     "metadata": {},
     "output_type": "display_data"
    },
    {
     "name": "stdout",
     "output_type": "stream",
     "text": [
      "F1..\n"
     ]
    },
    {
     "data": {
      "image/png": "[encoded data removed]",
      "text/plain": [
       "<Figure size 432x288 with 1 Axes>"
      ]
     },
     "metadata": {},
     "output_type": "display_data"
    },
    {
     "name": "stdout",
     "output_type": "stream",
     "text": [
      "Fz..\n"
     ]
    },
    {
     "data": {
      "image/png": "[encoded data removed]",
      "text/plain": [
       "<Figure size 432x288 with 1 Axes>"
      ]
     },
     "metadata": {},
     "output_type": "display_data"
    },
    {
     "name": "stdout",
     "output_type": "stream",
     "text": [
      "F2..\n"
     ]
    },
    {
     "data": {
      "image/png": "[encoded data removed]",
      "text/plain": [
       "<Figure size 432x288 with 1 Axes>"
      ]
     },
     "metadata": {},
     "output_type": "display_data"
    },
    {
     "name": "stdout",
     "output_type": "stream",
     "text": [
      "F4..\n"
     ]
    },
    {
     "data": {
      "image/png": "[encoded data removed]",
      "text/plain": [
       "<Figure size 432x288 with 1 Axes>"
      ]
     },
     "metadata": {},
     "output_type": "display_data"
    },
    {
     "name": "stdout",
     "output_type": "stream",
     "text": [
      "F6..\n"
     ]
    },
    {
     "data": {
      "image/png": "[encoded data removed]",
      "text/plain": [
       "<Figure size 432x288 with 1 Axes>"
      ]
     },
     "metadata": {},
     "output_type": "display_data"
    },
    {
     "name": "stdout",
     "output_type": "stream",
     "text": [
      "F8..\n"
     ]
    },
    {
     "data": {
      "image/png": "[encoded data removed]",
      "text/plain": [
       "<Figure size 432x288 with 1 Axes>"
      ]
     },
     "metadata": {},
     "output_type": "display_data"
    },
    {
     "name": "stdout",
     "output_type": "stream",
     "text": [
      "Ft7.\n"
     ]
    },
    {
     "data": {
      "image/png": "[encoded data removed]",
      "text/plain": [
       "<Figure size 432x288 with 1 Axes>"
      ]
     },
     "metadata": {},
     "output_type": "display_data"
    },
    {
     "name": "stdout",
     "output_type": "stream",
     "text": [
      "Ft8.\n"
     ]
    },
    {
     "data": {
      "image/png": "[encoded data removed]",
      "text/plain": [
       "<Figure size 432x288 with 1 Axes>"
      ]
     },
     "metadata": {},
     "output_type": "display_data"
    },
    {
     "name": "stdout",
     "output_type": "stream",
     "text": [
      "T7..\n"
     ]
    },
    {
     "data": {
      "image/png": "[encoded data removed]",
      "text/plain": [
       "<Figure size 432x288 with 1 Axes>"
      ]
     },
     "metadata": {},
     "output_type": "display_data"
    },
    {
     "name": "stdout",
     "output_type": "stream",
     "text": [
      "T8..\n"
     ]
    },
    {
     "data": {
      "image/png": "[encoded data removed]",
      "text/plain": [
       "<Figure size 432x288 with 1 Axes>"
      ]
     },
     "metadata": {},
     "output_type": "display_data"
    },
    {
     "name": "stdout",
     "output_type": "stream",
     "text": [
      "T9..\n"
     ]
    },
    {
     "data": {
      "image/png": "[encoded data removed]",
      "text/plain": [
       "<Figure size 432x288 with 1 Axes>"
      ]
     },
     "metadata": {},
     "output_type": "display_data"
    },
    {
     "name": "stdout",
     "output_type": "stream",
     "text": [
      "T10.\n"
     ]
    },
    {
     "data": {
      "image/png": "[encoded data removed]",
      "text/plain": [
       "<Figure size 432x288 with 1 Axes>"
      ]
     },
     "metadata": {},
     "output_type": "display_data"
    },
    {
     "name": "stdout",
     "output_type": "stream",
     "text": [
      "Tp7.\n"
     ]
    },
    {
     "data": {
      "image/png": "[encoded data removed]",
      "text/plain": [
       "<Figure size 432x288 with 1 Axes>"
      ]
     },
     "metadata": {},
     "output_type": "display_data"
    },
    {
     "name": "stdout",
     "output_type": "stream",
     "text": [
      "Tp8.\n"
     ]
    },
    {
     "data": {
      "image/png": "[encoded data removed]",
      "text/plain": [
       "<Figure size 432x288 with 1 Axes>"
      ]
     },
     "metadata": {},
     "output_type": "display_data"
    },
    {
     "name": "stdout",
     "output_type": "stream",
     "text": [
      "P7..\n"
     ]
    },
    {
     "data": {
      "image/png": "[encoded data removed]",
      "text/plain": [
       "<Figure size 432x288 with 1 Axes>"
      ]
     },
     "metadata": {},
     "output_type": "display_data"
    },
    {
     "name": "stdout",
     "output_type": "stream",
     "text": [
      "P5..\n"
     ]
    },
    {
     "data": {
      "image/png": "[encoded data removed]",
      "text/plain": [
       "<Figure size 432x288 with 1 Axes>"
      ]
     },
     "metadata": {},
     "output_type": "display_data"
    },
    {
     "name": "stdout",
     "output_type": "stream",
     "text": [
      "P3..\n"
     ]
    },
    {
     "data": {
      "image/png": "[encoded data removed]",
      "text/plain": [
       "<Figure size 432x288 with 1 Axes>"
      ]
     },
     "metadata": {},
     "output_type": "display_data"
    },
    {
     "name": "stdout",
     "output_type": "stream",
     "text": [
      "P1..\n"
     ]
    },
    {
     "data": {
      "image/png": "[encoded data removed]",
      "text/plain": [
       "<Figure size 432x288 with 1 Axes>"
      ]
     },
     "metadata": {},
     "output_type": "display_data"
    },
    {
     "name": "stdout",
     "output_type": "stream",
     "text": [
      "Pz..\n"
     ]
    },
    {
     "data": {
      "image/png": "[encoded data removed]",
      "text/plain": [
       "<Figure size 432x288 with 1 Axes>"
      ]
     },
     "metadata": {},
     "output_type": "display_data"
    },
    {
     "name": "stdout",
     "output_type": "stream",
     "text": [
      "P2..\n"
     ]
    },
    {
     "data": {
      "image/png": "[encoded data removed]",
      "text/plain": [
       "<Figure size 432x288 with 1 Axes>"
      ]
     },
     "metadata": {},
     "output_type": "display_data"
    },
    {
     "name": "stdout",
     "output_type": "stream",
     "text": [
      "P4..\n"
     ]
    },
    {
     "data": {
      "image/png": "[encoded data removed]",
      "text/plain": [
       "<Figure size 432x288 with 1 Axes>"
      ]
     },
     "metadata": {},
     "output_type": "display_data"
    },
    {
     "name": "stdout",
     "output_type": "stream",
     "text": [
      "P6..\n"
     ]
    },
    {
     "data": {
      "image/png": "[encoded data removed]",
      "text/plain": [
       "<Figure size 432x288 with 1 Axes>"
      ]
     },
     "metadata": {},
     "output_type": "display_data"
    },
    {
     "name": "stdout",
     "output_type": "stream",
     "text": [
      "P8..\n"
     ]
    },
    {
     "data": {
      "image/png": "[encoded data removed]",
      "text/plain": [
       "<Figure size 432x288 with 1 Axes>"
      ]
     },
     "metadata": {},
     "output_type": "display_data"
    },
    {
     "name": "stdout",
     "output_type": "stream",
     "text": [
      "Po7.\n"
     ]
    },
    {
     "data": {
      "image/png": "[encoded data removed]",
      "text/plain": [
       "<Figure size 432x288 with 1 Axes>"
      ]
     },
     "metadata": {},
     "output_type": "display_data"
    },
    {
     "name": "stdout",
     "output_type": "stream",
     "text": [
      "Po3.\n"
     ]
    },
    {
     "data": {
      "image/png": "[encoded data removed]",
      "text/plain": [
       "<Figure size 432x288 with 1 Axes>"
      ]
     },
     "metadata": {},
     "output_type": "display_data"
    },
    {
     "name": "stdout",
     "output_type": "stream",
     "text": [
      "Poz.\n"
     ]
    },
    {
     "data": {
      "image/png": "[encoded data removed]",
      "text/plain": [
       "<Figure size 432x288 with 1 Axes>"
      ]
     },
     "metadata": {},
     "output_type": "display_data"
    },
    {
     "name": "stdout",
     "output_type": "stream",
     "text": [
      "Po4.\n"
     ]
    },
    {
     "data": {
      "image/png": "[encoded data removed]",
      "text/plain": [
       "<Figure size 432x288 with 1 Axes>"
      ]
     },
     "metadata": {},
     "output_type": "display_data"
    },
    {
     "name": "stdout",
     "output_type": "stream",
     "text": [
      "Po8.\n"
     ]
    },
    {
     "data": {
      "image/png": "[encoded data removed]",
      "text/plain": [
       "<Figure size 432x288 with 1 Axes>"
      ]
     },
     "metadata": {},
     "output_type": "display_data"
    },
    {
     "name": "stdout",
     "output_type": "stream",
     "text": [
      "O1..\n"
     ]
    },
    {
     "data": {
      "image/png": "[encoded data removed]",
      "text/plain": [
       "<Figure size 432x288 with 1 Axes>"
      ]
     },
     "metadata": {},
     "output_type": "display_data"
    },
    {
     "name": "stdout",
     "output_type": "stream",
     "text": [
      "Oz..\n"
     ]
    },
    {
     "data": {
      "image/png": "[encoded data removed]",
      "text/plain": [
       "<Figure size 432x288 with 1 Axes>"
      ]
     },
     "metadata": {},
     "output_type": "display_data"
    },
    {
     "name": "stdout",
     "output_type": "stream",
     "text": [
      "O2..\n"
     ]
    },
    {
     "data": {
      "image/png": "[encoded data removed]",
      "text/plain": [
       "<Figure size 432x288 with 1 Axes>"
      ]
     },
     "metadata": {},
     "output_type": "display_data"
    },
    {
     "name": "stdout",
     "output_type": "stream",
     "text": [
      "Iz..\n"
     ]
    },
    {
     "data": {
      "image/png": "[encoded data removed]",
      "text/plain": [
       "<Figure size 432x288 with 1 Axes>"
      ]
     },
     "metadata": {},
     "output_type": "display_data"
    },
    {
     "ename": "IndexError",
     "evalue": "list index out of range",
     "output_type": "error",
     "traceback": [
      "\u001b[1;31m---------------------------------------------------------------------------\u001b[0m",
      "\u001b[1;31mIndexError\u001b[0m                                Traceback (most recent call last)",
      "\u001b[1;32m<ipython-input-94-23c0d800badc>\u001b[0m in \u001b[0;36m<module>\u001b[1;34m()\u001b[0m\n\u001b[0;32m      1\u001b[0m \u001b[1;32mfor\u001b[0m \u001b[0mi\u001b[0m \u001b[1;32min\u001b[0m \u001b[0mrange\u001b[0m\u001b[1;33m(\u001b[0m\u001b[1;36m0\u001b[0m\u001b[1;33m,\u001b[0m\u001b[0mlen\u001b[0m\u001b[1;33m(\u001b[0m\u001b[0mtest_df\u001b[0m\u001b[1;33m)\u001b[0m\u001b[1;33m)\u001b[0m\u001b[1;33m:\u001b[0m\u001b[1;33m\u001b[0m\u001b[0m\n\u001b[1;32m----> 2\u001b[1;33m     \u001b[0mprint\u001b[0m\u001b[1;33m(\u001b[0m\u001b[0msignal_labels\u001b[0m\u001b[1;33m[\u001b[0m\u001b[0mi\u001b[0m\u001b[1;33m]\u001b[0m\u001b[1;33m)\u001b[0m\u001b[1;33m\u001b[0m\u001b[0m\n\u001b[0m\u001b[0;32m      3\u001b[0m     \u001b[0mtest_df\u001b[0m\u001b[1;33m[\u001b[0m\u001b[0mi\u001b[0m\u001b[1;33m]\u001b[0m\u001b[1;33m.\u001b[0m\u001b[0mhist\u001b[0m\u001b[1;33m(\u001b[0m\u001b[1;33m)\u001b[0m\u001b[1;33m\u001b[0m\u001b[0m\n\u001b[0;32m      4\u001b[0m     \u001b[0mplt\u001b[0m\u001b[1;33m.\u001b[0m\u001b[0mshow\u001b[0m\u001b[1;33m(\u001b[0m\u001b[1;33m)\u001b[0m\u001b[1;33m\u001b[0m\u001b[0m\n",
      "\u001b[1;31mIndexError\u001b[0m: list index out of range"
     ]
    }
   ],
   "source": [
    "for i in range(0,len(test_df)):\n",
    "    print(signal_labels[i])\n",
    "    test_df[i].hist()\n",
    "    plt.show()"
   ]
  },
  {
   "cell_type": "code",
   "execution_count": 102,
   "metadata": {},
   "outputs": [],
   "source": [
    "import scipy\n",
    "from sklearn.preprocessing import MinMaxScaler"
   ]
  },
  {
   "cell_type": "code",
   "execution_count": 103,
   "metadata": {},
   "outputs": [],
   "source": [
    "arr = test_df.values"
   ]
  },
  {
   "cell_type": "code",
   "execution_count": 104,
   "metadata": {},
   "outputs": [
    {
     "data": {
      "text/plain": [
       "array([[-10.,  20.,   7., ...,  24.,  89.,  68.],\n",
       "       [ 10.,  50.,  49., ...,  25.,  83.,  65.],\n",
       "       [ 17.,  55.,  59., ...,  34.,  92.,  78.],\n",
       "       ...,\n",
       "       [-29., -12., -26., ...,  36.,  37.,  26.],\n",
       "       [-24.,  -5., -20., ...,  16.,  26.,   2.],\n",
       "       [-32., -29., -40., ...,   2.,  11., -15.]])"
      ]
     },
     "execution_count": 104,
     "metadata": {},
     "output_type": "execute_result"
    }
   ],
   "source": [
    "arr"
   ]
  },
  {
   "cell_type": "code",
   "execution_count": 105,
   "metadata": {},
   "outputs": [
    {
     "data": {
      "text/plain": [
       "19920"
      ]
     },
     "execution_count": 105,
     "metadata": {},
     "output_type": "execute_result"
    }
   ],
   "source": [
    "len(arr)"
   ]
  },
  {
   "cell_type": "code",
   "execution_count": 106,
   "metadata": {},
   "outputs": [
    {
     "data": {
      "text/plain": [
       "(19920, 64)"
      ]
     },
     "execution_count": 106,
     "metadata": {},
     "output_type": "execute_result"
    }
   ],
   "source": [
    "arr.shape"
   ]
  },
  {
   "cell_type": "code",
   "execution_count": 107,
   "metadata": {},
   "outputs": [],
   "source": [
    "scaler = MinMaxScaler(feature_range=(0,1))\n",
    "re_arr = scaler.fit_transform(arr)"
   ]
  },
  {
   "cell_type": "code",
   "execution_count": 108,
   "metadata": {},
   "outputs": [
    {
     "data": {
      "text/plain": [
       "array([[0.43690852, 0.49825784, 0.47358834, ..., 0.53333333, 0.68399168,\n",
       "        0.59598214],\n",
       "       [0.46845426, 0.55052265, 0.55009107, ..., 0.53563218, 0.67151767,\n",
       "        0.58928571],\n",
       "       [0.47949527, 0.55923345, 0.56830601, ..., 0.55632184, 0.69022869,\n",
       "        0.61830357],\n",
       "       ...,\n",
       "       [0.40694006, 0.44250871, 0.41347905, ..., 0.56091954, 0.57588358,\n",
       "        0.50223214],\n",
       "       [0.4148265 , 0.45470383, 0.42440801, ..., 0.51494253, 0.55301455,\n",
       "        0.44866071],\n",
       "       [0.4022082 , 0.41289199, 0.38797814, ..., 0.48275862, 0.52182952,\n",
       "        0.41071429]])"
      ]
     },
     "execution_count": 108,
     "metadata": {},
     "output_type": "execute_result"
    }
   ],
   "source": [
    "re_arr"
   ]
  },
  {
   "cell_type": "code",
   "execution_count": 109,
   "metadata": {},
   "outputs": [],
   "source": [
    "re_arr_df = pd.DataFrame(re_arr)"
   ]
  },
  {
   "cell_type": "code",
   "execution_count": 110,
   "metadata": {},
   "outputs": [
    {
     "data": {
      "text/html": [
       "<div>\n",
       "<style scoped>\n",
       "    .dataframe tbody tr th:only-of-type {\n",
       "        vertical-align: middle;\n",
       "    }\n",
       "\n",
       "    .dataframe tbody tr th {\n",
       "        vertical-align: top;\n",
       "    }\n",
       "\n",
       "    .dataframe thead th {\n",
       "        text-align: right;\n",
       "    }\n",
       "</style>\n",
       "<table border=\"1\" class=\"dataframe\">\n",
       "  <thead>\n",
       "    <tr style=\"text-align: right;\">\n",
       "      <th></th>\n",
       "      <th>0</th>\n",
       "      <th>1</th>\n",
       "      <th>2</th>\n",
       "      <th>3</th>\n",
       "      <th>4</th>\n",
       "      <th>5</th>\n",
       "      <th>6</th>\n",
       "      <th>7</th>\n",
       "      <th>8</th>\n",
       "      <th>9</th>\n",
       "      <th>...</th>\n",
       "      <th>54</th>\n",
       "      <th>55</th>\n",
       "      <th>56</th>\n",
       "      <th>57</th>\n",
       "      <th>58</th>\n",
       "      <th>59</th>\n",
       "      <th>60</th>\n",
       "      <th>61</th>\n",
       "      <th>62</th>\n",
       "      <th>63</th>\n",
       "    </tr>\n",
       "  </thead>\n",
       "  <tbody>\n",
       "    <tr>\n",
       "      <th>0</th>\n",
       "      <td>0.436909</td>\n",
       "      <td>0.498258</td>\n",
       "      <td>0.473588</td>\n",
       "      <td>0.421359</td>\n",
       "      <td>0.481953</td>\n",
       "      <td>0.457859</td>\n",
       "      <td>0.525463</td>\n",
       "      <td>0.474954</td>\n",
       "      <td>0.487427</td>\n",
       "      <td>0.450867</td>\n",
       "      <td>...</td>\n",
       "      <td>0.412281</td>\n",
       "      <td>0.532258</td>\n",
       "      <td>0.553377</td>\n",
       "      <td>0.523282</td>\n",
       "      <td>0.507426</td>\n",
       "      <td>0.428571</td>\n",
       "      <td>0.525943</td>\n",
       "      <td>0.533333</td>\n",
       "      <td>0.683992</td>\n",
       "      <td>0.595982</td>\n",
       "    </tr>\n",
       "    <tr>\n",
       "      <th>1</th>\n",
       "      <td>0.468454</td>\n",
       "      <td>0.550523</td>\n",
       "      <td>0.550091</td>\n",
       "      <td>0.499029</td>\n",
       "      <td>0.562633</td>\n",
       "      <td>0.519362</td>\n",
       "      <td>0.581019</td>\n",
       "      <td>0.513915</td>\n",
       "      <td>0.547389</td>\n",
       "      <td>0.533719</td>\n",
       "      <td>...</td>\n",
       "      <td>0.432749</td>\n",
       "      <td>0.564516</td>\n",
       "      <td>0.566449</td>\n",
       "      <td>0.534368</td>\n",
       "      <td>0.537129</td>\n",
       "      <td>0.483117</td>\n",
       "      <td>0.549528</td>\n",
       "      <td>0.535632</td>\n",
       "      <td>0.671518</td>\n",
       "      <td>0.589286</td>\n",
       "    </tr>\n",
       "    <tr>\n",
       "      <th>2</th>\n",
       "      <td>0.479495</td>\n",
       "      <td>0.559233</td>\n",
       "      <td>0.568306</td>\n",
       "      <td>0.514563</td>\n",
       "      <td>0.560510</td>\n",
       "      <td>0.505695</td>\n",
       "      <td>0.569444</td>\n",
       "      <td>0.523191</td>\n",
       "      <td>0.557060</td>\n",
       "      <td>0.541426</td>\n",
       "      <td>...</td>\n",
       "      <td>0.447368</td>\n",
       "      <td>0.573733</td>\n",
       "      <td>0.577342</td>\n",
       "      <td>0.547672</td>\n",
       "      <td>0.559406</td>\n",
       "      <td>0.540260</td>\n",
       "      <td>0.575472</td>\n",
       "      <td>0.556322</td>\n",
       "      <td>0.690229</td>\n",
       "      <td>0.618304</td>\n",
       "    </tr>\n",
       "    <tr>\n",
       "      <th>3</th>\n",
       "      <td>0.485804</td>\n",
       "      <td>0.573171</td>\n",
       "      <td>0.581056</td>\n",
       "      <td>0.524272</td>\n",
       "      <td>0.566879</td>\n",
       "      <td>0.514806</td>\n",
       "      <td>0.562500</td>\n",
       "      <td>0.532468</td>\n",
       "      <td>0.570600</td>\n",
       "      <td>0.564547</td>\n",
       "      <td>...</td>\n",
       "      <td>0.514620</td>\n",
       "      <td>0.573733</td>\n",
       "      <td>0.588235</td>\n",
       "      <td>0.585366</td>\n",
       "      <td>0.621287</td>\n",
       "      <td>0.615584</td>\n",
       "      <td>0.584906</td>\n",
       "      <td>0.586207</td>\n",
       "      <td>0.750520</td>\n",
       "      <td>0.636161</td>\n",
       "    </tr>\n",
       "    <tr>\n",
       "      <th>4</th>\n",
       "      <td>0.495268</td>\n",
       "      <td>0.588850</td>\n",
       "      <td>0.604736</td>\n",
       "      <td>0.549515</td>\n",
       "      <td>0.592357</td>\n",
       "      <td>0.544419</td>\n",
       "      <td>0.597222</td>\n",
       "      <td>0.547310</td>\n",
       "      <td>0.580271</td>\n",
       "      <td>0.585742</td>\n",
       "      <td>...</td>\n",
       "      <td>0.532164</td>\n",
       "      <td>0.529954</td>\n",
       "      <td>0.546841</td>\n",
       "      <td>0.567627</td>\n",
       "      <td>0.628713</td>\n",
       "      <td>0.636364</td>\n",
       "      <td>0.566038</td>\n",
       "      <td>0.595402</td>\n",
       "      <td>0.796258</td>\n",
       "      <td>0.645089</td>\n",
       "    </tr>\n",
       "  </tbody>\n",
       "</table>\n",
       "<p>5 rows × 64 columns</p>\n",
       "</div>"
      ],
      "text/plain": [
       "         0         1         2         3         4         5         6   \\\n",
       "0  0.436909  0.498258  0.473588  0.421359  0.481953  0.457859  0.525463   \n",
       "1  0.468454  0.550523  0.550091  0.499029  0.562633  0.519362  0.581019   \n",
       "2  0.479495  0.559233  0.568306  0.514563  0.560510  0.505695  0.569444   \n",
       "3  0.485804  0.573171  0.581056  0.524272  0.566879  0.514806  0.562500   \n",
       "4  0.495268  0.588850  0.604736  0.549515  0.592357  0.544419  0.597222   \n",
       "\n",
       "         7         8         9     ...           54        55        56  \\\n",
       "0  0.474954  0.487427  0.450867    ...     0.412281  0.532258  0.553377   \n",
       "1  0.513915  0.547389  0.533719    ...     0.432749  0.564516  0.566449   \n",
       "2  0.523191  0.557060  0.541426    ...     0.447368  0.573733  0.577342   \n",
       "3  0.532468  0.570600  0.564547    ...     0.514620  0.573733  0.588235   \n",
       "4  0.547310  0.580271  0.585742    ...     0.532164  0.529954  0.546841   \n",
       "\n",
       "         57        58        59        60        61        62        63  \n",
       "0  0.523282  0.507426  0.428571  0.525943  0.533333  0.683992  0.595982  \n",
       "1  0.534368  0.537129  0.483117  0.549528  0.535632  0.671518  0.589286  \n",
       "2  0.547672  0.559406  0.540260  0.575472  0.556322  0.690229  0.618304  \n",
       "3  0.585366  0.621287  0.615584  0.584906  0.586207  0.750520  0.636161  \n",
       "4  0.567627  0.628713  0.636364  0.566038  0.595402  0.796258  0.645089  \n",
       "\n",
       "[5 rows x 64 columns]"
      ]
     },
     "execution_count": 110,
     "metadata": {},
     "output_type": "execute_result"
    }
   ],
   "source": [
    "re_arr_df.head()"
   ]
  },
  {
   "cell_type": "code",
   "execution_count": 111,
   "metadata": {},
   "outputs": [
    {
     "data": {
      "text/html": [
       "<div>\n",
       "<style scoped>\n",
       "    .dataframe tbody tr th:only-of-type {\n",
       "        vertical-align: middle;\n",
       "    }\n",
       "\n",
       "    .dataframe tbody tr th {\n",
       "        vertical-align: top;\n",
       "    }\n",
       "\n",
       "    .dataframe thead th {\n",
       "        text-align: right;\n",
       "    }\n",
       "</style>\n",
       "<table border=\"1\" class=\"dataframe\">\n",
       "  <thead>\n",
       "    <tr style=\"text-align: right;\">\n",
       "      <th></th>\n",
       "      <th>0</th>\n",
       "      <th>1</th>\n",
       "      <th>2</th>\n",
       "      <th>3</th>\n",
       "      <th>4</th>\n",
       "      <th>5</th>\n",
       "      <th>6</th>\n",
       "      <th>7</th>\n",
       "      <th>8</th>\n",
       "      <th>9</th>\n",
       "      <th>...</th>\n",
       "      <th>54</th>\n",
       "      <th>55</th>\n",
       "      <th>56</th>\n",
       "      <th>57</th>\n",
       "      <th>58</th>\n",
       "      <th>59</th>\n",
       "      <th>60</th>\n",
       "      <th>61</th>\n",
       "      <th>62</th>\n",
       "      <th>63</th>\n",
       "    </tr>\n",
       "  </thead>\n",
       "  <tbody>\n",
       "    <tr>\n",
       "      <th>count</th>\n",
       "      <td>19920.000000</td>\n",
       "      <td>19920.000000</td>\n",
       "      <td>19920.000000</td>\n",
       "      <td>19920.000000</td>\n",
       "      <td>19920.000000</td>\n",
       "      <td>19920.000000</td>\n",
       "      <td>19920.000000</td>\n",
       "      <td>19920.000000</td>\n",
       "      <td>19920.000000</td>\n",
       "      <td>19920.000000</td>\n",
       "      <td>...</td>\n",
       "      <td>19920.000000</td>\n",
       "      <td>19920.000000</td>\n",
       "      <td>19920.000000</td>\n",
       "      <td>19920.000000</td>\n",
       "      <td>19920.000000</td>\n",
       "      <td>19920.000000</td>\n",
       "      <td>19920.000000</td>\n",
       "      <td>19920.000000</td>\n",
       "      <td>19920.000000</td>\n",
       "      <td>19920.000000</td>\n",
       "    </tr>\n",
       "    <tr>\n",
       "      <th>mean</th>\n",
       "      <td>0.452417</td>\n",
       "      <td>0.466556</td>\n",
       "      <td>0.464956</td>\n",
       "      <td>0.461600</td>\n",
       "      <td>0.485113</td>\n",
       "      <td>0.452781</td>\n",
       "      <td>0.388939</td>\n",
       "      <td>0.463644</td>\n",
       "      <td>0.467952</td>\n",
       "      <td>0.439495</td>\n",
       "      <td>...</td>\n",
       "      <td>0.425356</td>\n",
       "      <td>0.465190</td>\n",
       "      <td>0.493313</td>\n",
       "      <td>0.473319</td>\n",
       "      <td>0.476372</td>\n",
       "      <td>0.453311</td>\n",
       "      <td>0.476720</td>\n",
       "      <td>0.477149</td>\n",
       "      <td>0.498154</td>\n",
       "      <td>0.448184</td>\n",
       "    </tr>\n",
       "    <tr>\n",
       "      <th>std</th>\n",
       "      <td>0.084715</td>\n",
       "      <td>0.093417</td>\n",
       "      <td>0.100679</td>\n",
       "      <td>0.110607</td>\n",
       "      <td>0.116074</td>\n",
       "      <td>0.112542</td>\n",
       "      <td>0.106187</td>\n",
       "      <td>0.098461</td>\n",
       "      <td>0.097686</td>\n",
       "      <td>0.103133</td>\n",
       "      <td>...</td>\n",
       "      <td>0.112114</td>\n",
       "      <td>0.117685</td>\n",
       "      <td>0.118522</td>\n",
       "      <td>0.119734</td>\n",
       "      <td>0.122460</td>\n",
       "      <td>0.124170</td>\n",
       "      <td>0.122506</td>\n",
       "      <td>0.118010</td>\n",
       "      <td>0.117560</td>\n",
       "      <td>0.113130</td>\n",
       "    </tr>\n",
       "    <tr>\n",
       "      <th>min</th>\n",
       "      <td>0.000000</td>\n",
       "      <td>0.000000</td>\n",
       "      <td>0.000000</td>\n",
       "      <td>0.000000</td>\n",
       "      <td>0.000000</td>\n",
       "      <td>0.000000</td>\n",
       "      <td>0.000000</td>\n",
       "      <td>0.000000</td>\n",
       "      <td>0.000000</td>\n",
       "      <td>0.000000</td>\n",
       "      <td>...</td>\n",
       "      <td>0.000000</td>\n",
       "      <td>0.000000</td>\n",
       "      <td>0.000000</td>\n",
       "      <td>0.000000</td>\n",
       "      <td>0.000000</td>\n",
       "      <td>0.000000</td>\n",
       "      <td>0.000000</td>\n",
       "      <td>0.000000</td>\n",
       "      <td>0.000000</td>\n",
       "      <td>0.000000</td>\n",
       "    </tr>\n",
       "    <tr>\n",
       "      <th>25%</th>\n",
       "      <td>0.397476</td>\n",
       "      <td>0.407666</td>\n",
       "      <td>0.400729</td>\n",
       "      <td>0.390291</td>\n",
       "      <td>0.409766</td>\n",
       "      <td>0.380410</td>\n",
       "      <td>0.319444</td>\n",
       "      <td>0.397032</td>\n",
       "      <td>0.404255</td>\n",
       "      <td>0.371869</td>\n",
       "      <td>...</td>\n",
       "      <td>0.350877</td>\n",
       "      <td>0.387097</td>\n",
       "      <td>0.413943</td>\n",
       "      <td>0.392461</td>\n",
       "      <td>0.396040</td>\n",
       "      <td>0.371429</td>\n",
       "      <td>0.396226</td>\n",
       "      <td>0.397701</td>\n",
       "      <td>0.417879</td>\n",
       "      <td>0.370536</td>\n",
       "    </tr>\n",
       "    <tr>\n",
       "      <th>50%</th>\n",
       "      <td>0.446372</td>\n",
       "      <td>0.459930</td>\n",
       "      <td>0.460838</td>\n",
       "      <td>0.458252</td>\n",
       "      <td>0.479830</td>\n",
       "      <td>0.446469</td>\n",
       "      <td>0.381944</td>\n",
       "      <td>0.458256</td>\n",
       "      <td>0.464217</td>\n",
       "      <td>0.435453</td>\n",
       "      <td>...</td>\n",
       "      <td>0.423977</td>\n",
       "      <td>0.460829</td>\n",
       "      <td>0.490196</td>\n",
       "      <td>0.470067</td>\n",
       "      <td>0.472772</td>\n",
       "      <td>0.449351</td>\n",
       "      <td>0.471698</td>\n",
       "      <td>0.475862</td>\n",
       "      <td>0.494802</td>\n",
       "      <td>0.446429</td>\n",
       "    </tr>\n",
       "    <tr>\n",
       "      <th>75%</th>\n",
       "      <td>0.500000</td>\n",
       "      <td>0.522648</td>\n",
       "      <td>0.526412</td>\n",
       "      <td>0.530097</td>\n",
       "      <td>0.554140</td>\n",
       "      <td>0.517084</td>\n",
       "      <td>0.446759</td>\n",
       "      <td>0.525046</td>\n",
       "      <td>0.528046</td>\n",
       "      <td>0.502890</td>\n",
       "      <td>...</td>\n",
       "      <td>0.497076</td>\n",
       "      <td>0.541475</td>\n",
       "      <td>0.568627</td>\n",
       "      <td>0.549889</td>\n",
       "      <td>0.554455</td>\n",
       "      <td>0.532468</td>\n",
       "      <td>0.554245</td>\n",
       "      <td>0.551724</td>\n",
       "      <td>0.571726</td>\n",
       "      <td>0.520089</td>\n",
       "    </tr>\n",
       "    <tr>\n",
       "      <th>max</th>\n",
       "      <td>1.000000</td>\n",
       "      <td>1.000000</td>\n",
       "      <td>1.000000</td>\n",
       "      <td>1.000000</td>\n",
       "      <td>1.000000</td>\n",
       "      <td>1.000000</td>\n",
       "      <td>1.000000</td>\n",
       "      <td>1.000000</td>\n",
       "      <td>1.000000</td>\n",
       "      <td>1.000000</td>\n",
       "      <td>...</td>\n",
       "      <td>1.000000</td>\n",
       "      <td>1.000000</td>\n",
       "      <td>1.000000</td>\n",
       "      <td>1.000000</td>\n",
       "      <td>1.000000</td>\n",
       "      <td>1.000000</td>\n",
       "      <td>1.000000</td>\n",
       "      <td>1.000000</td>\n",
       "      <td>1.000000</td>\n",
       "      <td>1.000000</td>\n",
       "    </tr>\n",
       "  </tbody>\n",
       "</table>\n",
       "<p>8 rows × 64 columns</p>\n",
       "</div>"
      ],
      "text/plain": [
       "                 0             1             2             3             4   \\\n",
       "count  19920.000000  19920.000000  19920.000000  19920.000000  19920.000000   \n",
       "mean       0.452417      0.466556      0.464956      0.461600      0.485113   \n",
       "std        0.084715      0.093417      0.100679      0.110607      0.116074   \n",
       "min        0.000000      0.000000      0.000000      0.000000      0.000000   \n",
       "25%        0.397476      0.407666      0.400729      0.390291      0.409766   \n",
       "50%        0.446372      0.459930      0.460838      0.458252      0.479830   \n",
       "75%        0.500000      0.522648      0.526412      0.530097      0.554140   \n",
       "max        1.000000      1.000000      1.000000      1.000000      1.000000   \n",
       "\n",
       "                 5             6             7             8             9   \\\n",
       "count  19920.000000  19920.000000  19920.000000  19920.000000  19920.000000   \n",
       "mean       0.452781      0.388939      0.463644      0.467952      0.439495   \n",
       "std        0.112542      0.106187      0.098461      0.097686      0.103133   \n",
       "min        0.000000      0.000000      0.000000      0.000000      0.000000   \n",
       "25%        0.380410      0.319444      0.397032      0.404255      0.371869   \n",
       "50%        0.446469      0.381944      0.458256      0.464217      0.435453   \n",
       "75%        0.517084      0.446759      0.525046      0.528046      0.502890   \n",
       "max        1.000000      1.000000      1.000000      1.000000      1.000000   \n",
       "\n",
       "           ...                 54            55            56            57  \\\n",
       "count      ...       19920.000000  19920.000000  19920.000000  19920.000000   \n",
       "mean       ...           0.425356      0.465190      0.493313      0.473319   \n",
       "std        ...           0.112114      0.117685      0.118522      0.119734   \n",
       "min        ...           0.000000      0.000000      0.000000      0.000000   \n",
       "25%        ...           0.350877      0.387097      0.413943      0.392461   \n",
       "50%        ...           0.423977      0.460829      0.490196      0.470067   \n",
       "75%        ...           0.497076      0.541475      0.568627      0.549889   \n",
       "max        ...           1.000000      1.000000      1.000000      1.000000   \n",
       "\n",
       "                 58            59            60            61            62  \\\n",
       "count  19920.000000  19920.000000  19920.000000  19920.000000  19920.000000   \n",
       "mean       0.476372      0.453311      0.476720      0.477149      0.498154   \n",
       "std        0.122460      0.124170      0.122506      0.118010      0.117560   \n",
       "min        0.000000      0.000000      0.000000      0.000000      0.000000   \n",
       "25%        0.396040      0.371429      0.396226      0.397701      0.417879   \n",
       "50%        0.472772      0.449351      0.471698      0.475862      0.494802   \n",
       "75%        0.554455      0.532468      0.554245      0.551724      0.571726   \n",
       "max        1.000000      1.000000      1.000000      1.000000      1.000000   \n",
       "\n",
       "                 63  \n",
       "count  19920.000000  \n",
       "mean       0.448184  \n",
       "std        0.113130  \n",
       "min        0.000000  \n",
       "25%        0.370536  \n",
       "50%        0.446429  \n",
       "75%        0.520089  \n",
       "max        1.000000  \n",
       "\n",
       "[8 rows x 64 columns]"
      ]
     },
     "execution_count": 111,
     "metadata": {},
     "output_type": "execute_result"
    }
   ],
   "source": [
    "re_arr_df.describe()"
   ]
  },
  {
   "cell_type": "code",
   "execution_count": 112,
   "metadata": {},
   "outputs": [],
   "source": [
    "from sklearn.preprocessing import StandardScaler"
   ]
  },
  {
   "cell_type": "code",
   "execution_count": 113,
   "metadata": {},
   "outputs": [],
   "source": [
    "scaler = StandardScaler()"
   ]
  },
  {
   "cell_type": "code",
   "execution_count": 114,
   "metadata": {},
   "outputs": [],
   "source": [
    "sd_arr = scaler.fit_transform(arr)"
   ]
  },
  {
   "cell_type": "code",
   "execution_count": 115,
   "metadata": {},
   "outputs": [
    {
     "data": {
      "text/plain": [
       "array([[-0.18307306,  0.33936146,  0.08574237, ...,  0.4761076 ,\n",
       "         1.58083362,  1.30648039],\n",
       "       [ 0.18931125,  0.89885342,  0.84562814, ...,  0.49558823,\n",
       "         1.47472304,  1.24728631],\n",
       "       [ 0.31964576,  0.99210208,  1.02655332, ...,  0.67091384,\n",
       "         1.63388891,  1.50379397],\n",
       "       ...,\n",
       "       [-0.53683816, -0.25742997, -0.51131073, ...,  0.70987508,\n",
       "         0.66120863,  0.47776334],\n",
       "       [-0.44374208, -0.12688184, -0.40275562, ...,  0.32026262,\n",
       "         0.46667257,  0.00421074],\n",
       "       [-0.59269581, -0.57447541, -0.76460599, ...,  0.04753389,\n",
       "         0.20139613, -0.33122235]])"
      ]
     },
     "execution_count": 115,
     "metadata": {},
     "output_type": "execute_result"
    }
   ],
   "source": [
    "sd_arr"
   ]
  },
  {
   "cell_type": "code",
   "execution_count": 116,
   "metadata": {},
   "outputs": [],
   "source": [
    "sd_arr_df = pd.DataFrame(sd_arr,dtype=np.float64)"
   ]
  },
  {
   "cell_type": "code",
   "execution_count": 117,
   "metadata": {},
   "outputs": [
    {
     "data": {
      "text/html": [
       "<div>\n",
       "<style scoped>\n",
       "    .dataframe tbody tr th:only-of-type {\n",
       "        vertical-align: middle;\n",
       "    }\n",
       "\n",
       "    .dataframe tbody tr th {\n",
       "        vertical-align: top;\n",
       "    }\n",
       "\n",
       "    .dataframe thead th {\n",
       "        text-align: right;\n",
       "    }\n",
       "</style>\n",
       "<table border=\"1\" class=\"dataframe\">\n",
       "  <thead>\n",
       "    <tr style=\"text-align: right;\">\n",
       "      <th></th>\n",
       "      <th>0</th>\n",
       "      <th>1</th>\n",
       "      <th>2</th>\n",
       "      <th>3</th>\n",
       "      <th>4</th>\n",
       "      <th>5</th>\n",
       "      <th>6</th>\n",
       "      <th>7</th>\n",
       "      <th>8</th>\n",
       "      <th>9</th>\n",
       "      <th>...</th>\n",
       "      <th>54</th>\n",
       "      <th>55</th>\n",
       "      <th>56</th>\n",
       "      <th>57</th>\n",
       "      <th>58</th>\n",
       "      <th>59</th>\n",
       "      <th>60</th>\n",
       "      <th>61</th>\n",
       "      <th>62</th>\n",
       "      <th>63</th>\n",
       "    </tr>\n",
       "  </thead>\n",
       "  <tbody>\n",
       "    <tr>\n",
       "      <th>count</th>\n",
       "      <td>1.992000e+04</td>\n",
       "      <td>1.992000e+04</td>\n",
       "      <td>1.992000e+04</td>\n",
       "      <td>1.992000e+04</td>\n",
       "      <td>1.992000e+04</td>\n",
       "      <td>1.992000e+04</td>\n",
       "      <td>1.992000e+04</td>\n",
       "      <td>1.992000e+04</td>\n",
       "      <td>1.992000e+04</td>\n",
       "      <td>1.992000e+04</td>\n",
       "      <td>...</td>\n",
       "      <td>1.992000e+04</td>\n",
       "      <td>1.992000e+04</td>\n",
       "      <td>19920.000000</td>\n",
       "      <td>1.992000e+04</td>\n",
       "      <td>1.992000e+04</td>\n",
       "      <td>1.992000e+04</td>\n",
       "      <td>1.992000e+04</td>\n",
       "      <td>1.992000e+04</td>\n",
       "      <td>1.992000e+04</td>\n",
       "      <td>1.992000e+04</td>\n",
       "    </tr>\n",
       "    <tr>\n",
       "      <th>mean</th>\n",
       "      <td>-2.710906e-17</td>\n",
       "      <td>1.997510e-17</td>\n",
       "      <td>2.282868e-17</td>\n",
       "      <td>-1.141434e-17</td>\n",
       "      <td>-5.707171e-18</td>\n",
       "      <td>1.426793e-18</td>\n",
       "      <td>1.997510e-17</td>\n",
       "      <td>1.712151e-17</td>\n",
       "      <td>5.707171e-18</td>\n",
       "      <td>-2.853585e-18</td>\n",
       "      <td>...</td>\n",
       "      <td>-9.274152e-18</td>\n",
       "      <td>9.987548e-18</td>\n",
       "      <td>0.000000</td>\n",
       "      <td>-8.560756e-18</td>\n",
       "      <td>-9.274152e-18</td>\n",
       "      <td>-8.560756e-18</td>\n",
       "      <td>1.284113e-17</td>\n",
       "      <td>-1.426793e-18</td>\n",
       "      <td>-3.174614e-17</td>\n",
       "      <td>1.426793e-18</td>\n",
       "    </tr>\n",
       "    <tr>\n",
       "      <th>std</th>\n",
       "      <td>1.000025e+00</td>\n",
       "      <td>1.000025e+00</td>\n",
       "      <td>1.000025e+00</td>\n",
       "      <td>1.000025e+00</td>\n",
       "      <td>1.000025e+00</td>\n",
       "      <td>1.000025e+00</td>\n",
       "      <td>1.000025e+00</td>\n",
       "      <td>1.000025e+00</td>\n",
       "      <td>1.000025e+00</td>\n",
       "      <td>1.000025e+00</td>\n",
       "      <td>...</td>\n",
       "      <td>1.000025e+00</td>\n",
       "      <td>1.000025e+00</td>\n",
       "      <td>1.000025</td>\n",
       "      <td>1.000025e+00</td>\n",
       "      <td>1.000025e+00</td>\n",
       "      <td>1.000025e+00</td>\n",
       "      <td>1.000025e+00</td>\n",
       "      <td>1.000025e+00</td>\n",
       "      <td>1.000025e+00</td>\n",
       "      <td>1.000025e+00</td>\n",
       "    </tr>\n",
       "    <tr>\n",
       "      <th>min</th>\n",
       "      <td>-5.340596e+00</td>\n",
       "      <td>-4.994462e+00</td>\n",
       "      <td>-4.618312e+00</td>\n",
       "      <td>-4.173427e+00</td>\n",
       "      <td>-4.179434e+00</td>\n",
       "      <td>-4.023321e+00</td>\n",
       "      <td>-3.662885e+00</td>\n",
       "      <td>-4.709034e+00</td>\n",
       "      <td>-4.790500e+00</td>\n",
       "      <td>-4.261550e+00</td>\n",
       "      <td>...</td>\n",
       "      <td>-3.794048e+00</td>\n",
       "      <td>-3.952949e+00</td>\n",
       "      <td>-4.162327</td>\n",
       "      <td>-3.953197e+00</td>\n",
       "      <td>-3.890100e+00</td>\n",
       "      <td>-3.650807e+00</td>\n",
       "      <td>-3.891493e+00</td>\n",
       "      <td>-4.043397e+00</td>\n",
       "      <td>-4.237563e+00</td>\n",
       "      <td>-3.961792e+00</td>\n",
       "    </tr>\n",
       "    <tr>\n",
       "      <th>25%</th>\n",
       "      <td>-6.485535e-01</td>\n",
       "      <td>-6.304246e-01</td>\n",
       "      <td>-6.379584e-01</td>\n",
       "      <td>-6.447164e-01</td>\n",
       "      <td>-6.491366e-01</td>\n",
       "      <td>-6.430735e-01</td>\n",
       "      <td>-6.544767e-01</td>\n",
       "      <td>-6.765526e-01</td>\n",
       "      <td>-6.520773e-01</td>\n",
       "      <td>-6.557342e-01</td>\n",
       "      <td>...</td>\n",
       "      <td>-6.643262e-01</td>\n",
       "      <td>-6.635944e-01</td>\n",
       "      <td>-0.669680</td>\n",
       "      <td>-6.753322e-01</td>\n",
       "      <td>-6.559993e-01</td>\n",
       "      <td>-6.594524e-01</td>\n",
       "      <td>-6.570728e-01</td>\n",
       "      <td>-6.732492e-01</td>\n",
       "      <td>-6.828587e-01</td>\n",
       "      <td>-6.863868e-01</td>\n",
       "    </tr>\n",
       "    <tr>\n",
       "      <th>50%</th>\n",
       "      <td>-7.135777e-02</td>\n",
       "      <td>-7.093265e-02</td>\n",
       "      <td>-4.090526e-02</td>\n",
       "      <td>-3.026432e-02</td>\n",
       "      <td>-4.551069e-02</td>\n",
       "      <td>-5.608444e-02</td>\n",
       "      <td>-6.587514e-02</td>\n",
       "      <td>-5.472145e-02</td>\n",
       "      <td>-3.824429e-02</td>\n",
       "      <td>-3.919581e-02</td>\n",
       "      <td>...</td>\n",
       "      <td>-1.230076e-02</td>\n",
       "      <td>-3.705065e-02</td>\n",
       "      <td>-0.026298</td>\n",
       "      <td>-2.716679e-02</td>\n",
       "      <td>-2.939225e-02</td>\n",
       "      <td>-3.189556e-02</td>\n",
       "      <td>-4.099275e-02</td>\n",
       "      <td>-1.090798e-02</td>\n",
       "      <td>-2.851011e-02</td>\n",
       "      <td>-1.552062e-02</td>\n",
       "    </tr>\n",
       "    <tr>\n",
       "      <th>75%</th>\n",
       "      <td>5.616956e-01</td>\n",
       "      <td>6.004577e-01</td>\n",
       "      <td>6.104254e-01</td>\n",
       "      <td>6.192993e-01</td>\n",
       "      <td>5.946986e-01</td>\n",
       "      <td>5.713866e-01</td>\n",
       "      <td>5.445265e-01</td>\n",
       "      <td>6.236398e-01</td>\n",
       "      <td>6.151908e-01</td>\n",
       "      <td>6.147085e-01</td>\n",
       "      <td>...</td>\n",
       "      <td>6.397247e-01</td>\n",
       "      <td>6.482316e-01</td>\n",
       "      <td>0.635466</td>\n",
       "      <td>6.395176e-01</td>\n",
       "      <td>6.376410e-01</td>\n",
       "      <td>6.374985e-01</td>\n",
       "      <td>6.328448e-01</td>\n",
       "      <td>6.319526e-01</td>\n",
       "      <td>6.258384e-01</td>\n",
       "      <td>6.356142e-01</td>\n",
       "    </tr>\n",
       "    <tr>\n",
       "      <th>max</th>\n",
       "      <td>6.463987e+00</td>\n",
       "      <td>5.710484e+00</td>\n",
       "      <td>5.314480e+00</td>\n",
       "      <td>4.867797e+00</td>\n",
       "      <td>4.435954e+00</td>\n",
       "      <td>4.862479e+00</td>\n",
       "      <td>5.754740e+00</td>\n",
       "      <td>5.447542e+00</td>\n",
       "      <td>5.446651e+00</td>\n",
       "      <td>5.434918e+00</td>\n",
       "      <td>...</td>\n",
       "      <td>5.125660e+00</td>\n",
       "      <td>4.544551e+00</td>\n",
       "      <td>4.275172</td>\n",
       "      <td>4.398877e+00</td>\n",
       "      <td>4.276004e+00</td>\n",
       "      <td>4.402840e+00</td>\n",
       "      <td>4.271568e+00</td>\n",
       "      <td>4.430674e+00</td>\n",
       "      <td>4.268968e+00</td>\n",
       "      <td>4.877856e+00</td>\n",
       "    </tr>\n",
       "  </tbody>\n",
       "</table>\n",
       "<p>8 rows × 64 columns</p>\n",
       "</div>"
      ],
      "text/plain": [
       "                 0             1             2             3             4   \\\n",
       "count  1.992000e+04  1.992000e+04  1.992000e+04  1.992000e+04  1.992000e+04   \n",
       "mean  -2.710906e-17  1.997510e-17  2.282868e-17 -1.141434e-17 -5.707171e-18   \n",
       "std    1.000025e+00  1.000025e+00  1.000025e+00  1.000025e+00  1.000025e+00   \n",
       "min   -5.340596e+00 -4.994462e+00 -4.618312e+00 -4.173427e+00 -4.179434e+00   \n",
       "25%   -6.485535e-01 -6.304246e-01 -6.379584e-01 -6.447164e-01 -6.491366e-01   \n",
       "50%   -7.135777e-02 -7.093265e-02 -4.090526e-02 -3.026432e-02 -4.551069e-02   \n",
       "75%    5.616956e-01  6.004577e-01  6.104254e-01  6.192993e-01  5.946986e-01   \n",
       "max    6.463987e+00  5.710484e+00  5.314480e+00  4.867797e+00  4.435954e+00   \n",
       "\n",
       "                 5             6             7             8             9   \\\n",
       "count  1.992000e+04  1.992000e+04  1.992000e+04  1.992000e+04  1.992000e+04   \n",
       "mean   1.426793e-18  1.997510e-17  1.712151e-17  5.707171e-18 -2.853585e-18   \n",
       "std    1.000025e+00  1.000025e+00  1.000025e+00  1.000025e+00  1.000025e+00   \n",
       "min   -4.023321e+00 -3.662885e+00 -4.709034e+00 -4.790500e+00 -4.261550e+00   \n",
       "25%   -6.430735e-01 -6.544767e-01 -6.765526e-01 -6.520773e-01 -6.557342e-01   \n",
       "50%   -5.608444e-02 -6.587514e-02 -5.472145e-02 -3.824429e-02 -3.919581e-02   \n",
       "75%    5.713866e-01  5.445265e-01  6.236398e-01  6.151908e-01  6.147085e-01   \n",
       "max    4.862479e+00  5.754740e+00  5.447542e+00  5.446651e+00  5.434918e+00   \n",
       "\n",
       "           ...                 54            55            56            57  \\\n",
       "count      ...       1.992000e+04  1.992000e+04  19920.000000  1.992000e+04   \n",
       "mean       ...      -9.274152e-18  9.987548e-18      0.000000 -8.560756e-18   \n",
       "std        ...       1.000025e+00  1.000025e+00      1.000025  1.000025e+00   \n",
       "min        ...      -3.794048e+00 -3.952949e+00     -4.162327 -3.953197e+00   \n",
       "25%        ...      -6.643262e-01 -6.635944e-01     -0.669680 -6.753322e-01   \n",
       "50%        ...      -1.230076e-02 -3.705065e-02     -0.026298 -2.716679e-02   \n",
       "75%        ...       6.397247e-01  6.482316e-01      0.635466  6.395176e-01   \n",
       "max        ...       5.125660e+00  4.544551e+00      4.275172  4.398877e+00   \n",
       "\n",
       "                 58            59            60            61            62  \\\n",
       "count  1.992000e+04  1.992000e+04  1.992000e+04  1.992000e+04  1.992000e+04   \n",
       "mean  -9.274152e-18 -8.560756e-18  1.284113e-17 -1.426793e-18 -3.174614e-17   \n",
       "std    1.000025e+00  1.000025e+00  1.000025e+00  1.000025e+00  1.000025e+00   \n",
       "min   -3.890100e+00 -3.650807e+00 -3.891493e+00 -4.043397e+00 -4.237563e+00   \n",
       "25%   -6.559993e-01 -6.594524e-01 -6.570728e-01 -6.732492e-01 -6.828587e-01   \n",
       "50%   -2.939225e-02 -3.189556e-02 -4.099275e-02 -1.090798e-02 -2.851011e-02   \n",
       "75%    6.376410e-01  6.374985e-01  6.328448e-01  6.319526e-01  6.258384e-01   \n",
       "max    4.276004e+00  4.402840e+00  4.271568e+00  4.430674e+00  4.268968e+00   \n",
       "\n",
       "                 63  \n",
       "count  1.992000e+04  \n",
       "mean   1.426793e-18  \n",
       "std    1.000025e+00  \n",
       "min   -3.961792e+00  \n",
       "25%   -6.863868e-01  \n",
       "50%   -1.552062e-02  \n",
       "75%    6.356142e-01  \n",
       "max    4.877856e+00  \n",
       "\n",
       "[8 rows x 64 columns]"
      ]
     },
     "execution_count": 117,
     "metadata": {},
     "output_type": "execute_result"
    }
   ],
   "source": [
    "sd_arr_df.describe()"
   ]
  },
  {
   "cell_type": "code",
   "execution_count": null,
   "metadata": {},
   "outputs": [],
   "source": []
  }
 ],
 "metadata": {
  "kernelspec": {
   "display_name": "Python 3",
   "language": "python",
   "name": "python3"
  },
  "language_info": {
   "codemirror_mode": {
    "name": "ipython",
    "version": 3
   },
   "file_extension": ".py",
   "mimetype": "text/x-python",
   "name": "python",
   "nbconvert_exporter": "python",
   "pygments_lexer": "ipython3",
   "version": "3.6.3"
  }
 },
 "nbformat": 4,
 "nbformat_minor": 2
}
