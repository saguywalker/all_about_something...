{
 "cells": [
  {
   "cell_type": "code",
   "execution_count": 13,
   "metadata": {},
   "outputs": [],
   "source": [
    "import tensorflow as tf\n",
    "import os\n",
    "import time\n",
    "import numpy as np\n",
    "import glob\n",
    "import matplotlib.pyplot as plt\n",
    "import PIL\n",
    "import imageio\n",
    "from IPython import display\n",
    "from tensorflow import keras\n",
    "from tensorflow.keras.datasets import mnist"
   ]
  },
  {
   "cell_type": "code",
   "execution_count": 10,
   "metadata": {},
   "outputs": [],
   "source": [
    "encoding_dim = 32\n",
    "input_img = keras.layers.Input(shape=(784,))\n",
    "encoded = keras.layers.Dense(encoding_dim,activation='relu')(input_img)\n",
    "decoded = keras.layers.Dense(784,activation='sigmoid')(encoded)\n",
    "autoencoder = keras.models.Model(input_img,decoded)"
   ]
  },
  {
   "cell_type": "code",
   "execution_count": 12,
   "metadata": {},
   "outputs": [],
   "source": [
    "encoder = keras.models.Model(input_img,encoded)\n",
    "encoded_input = keras.layers.Input(shape=(encoding_dim,))\n",
    "decoder_layer = autoencoder.layers[-1]\n",
    "decoder = keras.models.Model(encoded_input, decoder_layer(encoded_input))"
   ]
  },
  {
   "cell_type": "code",
   "execution_count": 16,
   "metadata": {},
   "outputs": [
    {
     "name": "stdout",
     "output_type": "stream",
     "text": [
      "Downloading data from https://s3.amazonaws.com/img-datasets/mnist.npz\n",
      "11493376/11490434 [==============================] - 35s 3us/step\n"
     ]
    }
   ],
   "source": [
    "(x_train, _), (x_test, _) = mnist.load_data()"
   ]
  },
  {
   "cell_type": "code",
   "execution_count": 17,
   "metadata": {},
   "outputs": [],
   "source": [
    "autoencoder.compile(optimizer='adadelta',loss='binary_crossentropy')"
   ]
  },
  {
   "cell_type": "code",
   "execution_count": 18,
   "metadata": {},
   "outputs": [],
   "source": [
    "x_train = x_train.astype('float32')/255\n",
    "x_test = x_test.astype('float32')/255"
   ]
  },
  {
   "cell_type": "code",
   "execution_count": 22,
   "metadata": {},
   "outputs": [],
   "source": [
    "x_train = x_train.reshape((x_train.shape[0], -1))\n",
    "x_test = x_test.reshape((x_test.shape[0], -1))"
   ]
  },
  {
   "cell_type": "code",
   "execution_count": 26,
   "metadata": {},
   "outputs": [
    {
     "name": "stdout",
     "output_type": "stream",
     "text": [
      "Train on 60000 samples, validate on 10000 samples\n",
      "Epoch 1/50\n",
      "60000/60000 [==============================] - 20s 330us/step - loss: 0.3702 - val_loss: 0.2723\n",
      "Epoch 2/50\n",
      "60000/60000 [==============================] - 1s 21us/step - loss: 0.2656 - val_loss: 0.2557\n",
      "Epoch 3/50\n",
      "60000/60000 [==============================] - 1s 21us/step - loss: 0.2451 - val_loss: 0.2319\n",
      "Epoch 4/50\n",
      "60000/60000 [==============================] - 1s 21us/step - loss: 0.2232 - val_loss: 0.2127\n",
      "Epoch 5/50\n",
      "60000/60000 [==============================] - 1s 21us/step - loss: 0.2075 - val_loss: 0.1998\n",
      "Epoch 6/50\n",
      "60000/60000 [==============================] - 1s 21us/step - loss: 0.1965 - val_loss: 0.1905\n",
      "Epoch 7/50\n",
      "60000/60000 [==============================] - 1s 21us/step - loss: 0.1883 - val_loss: 0.1833\n",
      "Epoch 8/50\n",
      "60000/60000 [==============================] - 1s 21us/step - loss: 0.1818 - val_loss: 0.1774\n",
      "Epoch 9/50\n",
      "60000/60000 [==============================] - 1s 21us/step - loss: 0.1764 - val_loss: 0.1724\n",
      "Epoch 10/50\n",
      "60000/60000 [==============================] - 1s 21us/step - loss: 0.1716 - val_loss: 0.1679\n",
      "Epoch 11/50\n",
      "60000/60000 [==============================] - 1s 21us/step - loss: 0.1672 - val_loss: 0.1637\n",
      "Epoch 12/50\n",
      "60000/60000 [==============================] - 1s 21us/step - loss: 0.1631 - val_loss: 0.1596\n",
      "Epoch 13/50\n",
      "60000/60000 [==============================] - 1s 21us/step - loss: 0.1592 - val_loss: 0.1559\n",
      "Epoch 14/50\n",
      "60000/60000 [==============================] - 1s 21us/step - loss: 0.1556 - val_loss: 0.1526\n",
      "Epoch 15/50\n",
      "60000/60000 [==============================] - 1s 21us/step - loss: 0.1522 - val_loss: 0.1493\n",
      "Epoch 16/50\n",
      "60000/60000 [==============================] - 1s 21us/step - loss: 0.1490 - val_loss: 0.1462\n",
      "Epoch 17/50\n",
      "60000/60000 [==============================] - 1s 21us/step - loss: 0.1461 - val_loss: 0.1433\n",
      "Epoch 18/50\n",
      "60000/60000 [==============================] - 1s 21us/step - loss: 0.1434 - val_loss: 0.1407\n",
      "Epoch 19/50\n",
      "60000/60000 [==============================] - 1s 21us/step - loss: 0.1409 - val_loss: 0.1383\n",
      "Epoch 20/50\n",
      "60000/60000 [==============================] - 1s 21us/step - loss: 0.1385 - val_loss: 0.1359\n",
      "Epoch 21/50\n",
      "60000/60000 [==============================] - 1s 21us/step - loss: 0.1363 - val_loss: 0.1337\n",
      "Epoch 22/50\n",
      "60000/60000 [==============================] - 1s 21us/step - loss: 0.1341 - val_loss: 0.1317\n",
      "Epoch 23/50\n",
      "60000/60000 [==============================] - 1s 21us/step - loss: 0.1321 - val_loss: 0.1295\n",
      "Epoch 24/50\n",
      "60000/60000 [==============================] - 1s 21us/step - loss: 0.1301 - val_loss: 0.1276\n",
      "Epoch 25/50\n",
      "60000/60000 [==============================] - 1s 21us/step - loss: 0.1282 - val_loss: 0.1259\n",
      "Epoch 26/50\n",
      "60000/60000 [==============================] - 1s 21us/step - loss: 0.1265 - val_loss: 0.1240\n",
      "Epoch 27/50\n",
      "60000/60000 [==============================] - 1s 21us/step - loss: 0.1248 - val_loss: 0.1224\n",
      "Epoch 28/50\n",
      "60000/60000 [==============================] - 1s 21us/step - loss: 0.1232 - val_loss: 0.1208\n",
      "Epoch 29/50\n",
      "60000/60000 [==============================] - 1s 21us/step - loss: 0.1216 - val_loss: 0.1193\n",
      "Epoch 30/50\n",
      "60000/60000 [==============================] - 1s 24us/step - loss: 0.1202 - val_loss: 0.1179\n",
      "Epoch 31/50\n",
      "60000/60000 [==============================] - 1s 22us/step - loss: 0.1189 - val_loss: 0.1166\n",
      "Epoch 32/50\n",
      "60000/60000 [==============================] - 1s 22us/step - loss: 0.1176 - val_loss: 0.1153\n",
      "Epoch 33/50\n",
      "60000/60000 [==============================] - 1s 23us/step - loss: 0.1164 - val_loss: 0.1142\n",
      "Epoch 34/50\n",
      "60000/60000 [==============================] - 1s 24us/step - loss: 0.1153 - val_loss: 0.1131\n",
      "Epoch 35/50\n",
      "60000/60000 [==============================] - 1s 22us/step - loss: 0.1143 - val_loss: 0.1121\n",
      "Epoch 36/50\n",
      "60000/60000 [==============================] - 1s 23us/step - loss: 0.1133 - val_loss: 0.1111\n",
      "Epoch 37/50\n",
      "60000/60000 [==============================] - 1s 23us/step - loss: 0.1123 - val_loss: 0.1102\n",
      "Epoch 38/50\n",
      "60000/60000 [==============================] - 1s 23us/step - loss: 0.1115 - val_loss: 0.1094\n",
      "Epoch 39/50\n",
      "60000/60000 [==============================] - 1s 22us/step - loss: 0.1107 - val_loss: 0.1086\n",
      "Epoch 40/50\n",
      "60000/60000 [==============================] - 1s 23us/step - loss: 0.1099 - val_loss: 0.1078\n",
      "Epoch 41/50\n",
      "60000/60000 [==============================] - 1s 22us/step - loss: 0.1092 - val_loss: 0.1071\n",
      "Epoch 42/50\n",
      "60000/60000 [==============================] - 1s 21us/step - loss: 0.1085 - val_loss: 0.1065\n",
      "Epoch 43/50\n",
      "60000/60000 [==============================] - 2s 30us/step - loss: 0.1079 - val_loss: 0.1058\n",
      "Epoch 44/50\n",
      "60000/60000 [==============================] - 2s 36us/step - loss: 0.1073 - val_loss: 0.1053\n",
      "Epoch 45/50\n",
      "60000/60000 [==============================] - 2s 28us/step - loss: 0.1067 - val_loss: 0.1048\n",
      "Epoch 46/50\n",
      "60000/60000 [==============================] - 2s 31us/step - loss: 0.1062 - val_loss: 0.1042\n",
      "Epoch 47/50\n",
      "60000/60000 [==============================] - 2s 29us/step - loss: 0.1057 - val_loss: 0.1038\n",
      "Epoch 48/50\n",
      "60000/60000 [==============================] - 2s 28us/step - loss: 0.1052 - val_loss: 0.1033\n",
      "Epoch 49/50\n",
      "60000/60000 [==============================] - 2s 29us/step - loss: 0.1048 - val_loss: 0.1029\n",
      "Epoch 50/50\n",
      "60000/60000 [==============================] - 2s 31us/step - loss: 0.1044 - val_loss: 0.1026\n"
     ]
    },
    {
     "data": {
      "text/plain": [
       "<tensorflow.python.keras.callbacks.History at 0x1532800b4a8>"
      ]
     },
     "execution_count": 26,
     "metadata": {},
     "output_type": "execute_result"
    }
   ],
   "source": [
    "autoencoder.fit(x_train,x_train,\n",
    "                epochs=50,\n",
    "                batch_size=256,\n",
    "                shuffle=True,\n",
    "                validation_data=(x_test,x_test))"
   ]
  },
  {
   "cell_type": "code",
   "execution_count": 27,
   "metadata": {},
   "outputs": [],
   "source": [
    "encoded_img = encoder.predict(x_test)\n",
    "decoded_img = decoder.predict(encoded_img)"
   ]
  },
  {
   "cell_type": "code",
   "execution_count": 37,
   "metadata": {},
   "outputs": [
    {
     "data": {
      "image/png": "[encoded data removed]",
      "text/plain": [
       "<Figure size 1440x288 with 20 Axes>"
      ]
     },
     "metadata": {},
     "output_type": "display_data"
    }
   ],
   "source": [
    "plt.figure(figsize=(20, 4))\n",
    "for i in range(n):\n",
    "    ax = plt.subplot(2, n, i + 1)\n",
    "    plt.imshow(x_test[i].reshape(28, 28))\n",
    "    #plt.gray()\n",
    "    ax.get_xaxis().set_visible(False)\n",
    "    ax.get_yaxis().set_visible(False)\n",
    "\n",
    "    ax = plt.subplot(2, n, i + 1 + n)\n",
    "    plt.imshow(decoded_img[i].reshape(28, 28))\n",
    "    #plt.gray()\n",
    "    ax.get_xaxis().set_visible(False)\n",
    "    ax.get_yaxis().set_visible(False)\n",
    "plt.show()"
   ]
  },
  {
   "cell_type": "code",
   "execution_count": null,
   "metadata": {},
   "outputs": [],
   "source": []
  }
 ],
 "metadata": {
  "kernelspec": {
   "display_name": "Python 3",
   "language": "python",
   "name": "python3"
  },
  "language_info": {
   "codemirror_mode": {
    "name": "ipython",
    "version": 3
   },
   "file_extension": ".py",
   "mimetype": "text/x-python",
   "name": "python",
   "nbconvert_exporter": "python",
   "pygments_lexer": "ipython3",
   "version": "3.6.6"
  }
 },
 "nbformat": 4,
 "nbformat_minor": 2
}
