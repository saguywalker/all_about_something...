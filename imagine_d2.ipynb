{
 "cells": [
  {
   "cell_type": "code",
   "execution_count": 1,
   "metadata": {},
   "outputs": [],
   "source": [
    "import tensorflow as tf\n",
    "import numpy as np\n",
    "import pandas as pd\n",
    "import sklearn as sk\n",
    "import matplotlib.pyplot as plt\n",
    "import os\n",
    "import scipy.io as sio"
   ]
  },
  {
   "cell_type": "code",
   "execution_count": 2,
   "metadata": {},
   "outputs": [],
   "source": [
    "def read_dataset(dataset,num):\n",
    "    path = \"dataset\"+str(dataset)+\"/\"\n",
    "    if dataset == 1:\n",
    "        path += \"A\"\n",
    "    elif dataset == 2:\n",
    "        path += \"S\"\n",
    "    elif dataset == 4:\n",
    "        path += \"B\"\n",
    "    e = []\n",
    "    t = []\n",
    "    for i in range(1,num+1):\n",
    "        e.append(np.asarray(sio.loadmat(path+str(i).zfill(2)+\"E.mat\")['data']))\n",
    "        t.append(np.asarray(sio.loadmat(path+str(i).zfill(2)+\"T.mat\")['data']))\n",
    "    return t, e"
   ]
  },
  {
   "cell_type": "code",
   "execution_count": 3,
   "metadata": {},
   "outputs": [],
   "source": [
    "def features(data):\n",
    "    x = data[0][0][0]\n",
    "    raw_trial = data[0][0][1]\n",
    "    trial = [num for e in raw_trial for num in e]\n",
    "    y = data[0][0][2]\n",
    "    freq = data[0][0][3]\n",
    "    \n",
    "    return (x,trial,y[0],freq[0][0])"
   ]
  },
  {
   "cell_type": "code",
   "execution_count": 4,
   "metadata": {},
   "outputs": [],
   "source": [
    "t, e = read_dataset(2,14)"
   ]
  },
  {
   "cell_type": "code",
   "execution_count": 5,
   "metadata": {},
   "outputs": [],
   "source": [
    "def prep_data(data):\n",
    "    dataset = []\n",
    "    for d in data[0]:\n",
    "        dataset.append(d)\n",
    "    return dataset"
   ]
  },
  {
   "cell_type": "code",
   "execution_count": 6,
   "metadata": {},
   "outputs": [],
   "source": [
    "prep_t = [prep_data(d) for d in t]\n",
    "prep_e = [prep_data(d) for d in e]"
   ]
  },
  {
   "cell_type": "code",
   "execution_count": 7,
   "metadata": {},
   "outputs": [],
   "source": [
    "all_prep_t = [b for a in prep_t for b in a]\n",
    "all_prep_e = [b for a in prep_e for b in a]"
   ]
  },
  {
   "cell_type": "code",
   "execution_count": 8,
   "metadata": {},
   "outputs": [],
   "source": [
    "data_t = [features(a) for a in all_prep_t]\n",
    "data_e = [features(a) for a in all_prep_e]"
   ]
  },
  {
   "cell_type": "code",
   "execution_count": 9,
   "metadata": {},
   "outputs": [
    {
     "name": "stdout",
     "output_type": "stream",
     "text": [
      "223.0 218.0\n"
     ]
    }
   ],
   "source": [
    "a = []\n",
    "for d in data_e:\n",
    "    a.append(len(d[0])/512)\n",
    "a.sort(reverse=True)\n",
    "print(a[0],a[len(a)-1])"
   ]
  },
  {
   "cell_type": "code",
   "execution_count": 10,
   "metadata": {},
   "outputs": [
    {
     "name": "stdout",
     "output_type": "stream",
     "text": [
      "223.0 218.0\n"
     ]
    }
   ],
   "source": [
    "b = []\n",
    "for d in data_t:\n",
    "    b.append(len(d[0])/512)\n",
    "b.sort(reverse=True)\n",
    "print(b[0],b[len(b)-1])"
   ]
  },
  {
   "cell_type": "code",
   "execution_count": 39,
   "metadata": {},
   "outputs": [
    {
     "data": {
      "text/plain": [
       "(array([[0., 0., 0., ..., 0., 0., 0.],\n",
       "        [0., 0., 0., ..., 0., 0., 0.],\n",
       "        [0., 0., 0., ..., 0., 0., 0.],\n",
       "        ...,\n",
       "        [0., 0., 0., ..., 0., 0., 0.],\n",
       "        [0., 0., 0., ..., 0., 0., 0.],\n",
       "        [0., 0., 0., ..., 0., 0., 0.]]),\n",
       " [5121,\n",
       "  10614,\n",
       "  15927,\n",
       "  21460,\n",
       "  26711,\n",
       "  32046,\n",
       "  37371,\n",
       "  42846,\n",
       "  48471,\n",
       "  53937,\n",
       "  59566,\n",
       "  64768,\n",
       "  70018,\n",
       "  75451,\n",
       "  80639,\n",
       "  86196,\n",
       "  91746,\n",
       "  97318,\n",
       "  102938,\n",
       "  108385],\n",
       " array([1, 1, 2, 2, 2, 2, 1, 2, 1, 1, 2, 1, 1, 2, 1, 2, 2, 1, 2, 1],\n",
       "       dtype=uint8),\n",
       " 512)"
      ]
     },
     "execution_count": 39,
     "metadata": {},
     "output_type": "execute_result"
    }
   ],
   "source": [
    "data_t[0]"
   ]
  },
  {
   "cell_type": "code",
   "execution_count": 14,
   "metadata": {},
   "outputs": [
    {
     "data": {
      "text/plain": [
       "14"
      ]
     },
     "execution_count": 14,
     "metadata": {},
     "output_type": "execute_result"
    }
   ],
   "source": [
    "len(t)"
   ]
  },
  {
   "cell_type": "code",
   "execution_count": 38,
   "metadata": {},
   "outputs": [
    {
     "data": {
      "text/plain": [
       "114176"
      ]
     },
     "execution_count": 38,
     "metadata": {},
     "output_type": "execute_result"
    }
   ],
   "source": [
    "len(data_t[0][0])"
   ]
  },
  {
   "cell_type": "code",
   "execution_count": null,
   "metadata": {},
   "outputs": [],
   "source": []
  }
 ],
 "metadata": {
  "kernelspec": {
   "display_name": "Python 3",
   "language": "python",
   "name": "python3"
  },
  "language_info": {
   "codemirror_mode": {
    "name": "ipython",
    "version": 3
   },
   "file_extension": ".py",
   "mimetype": "text/x-python",
   "name": "python",
   "nbconvert_exporter": "python",
   "pygments_lexer": "ipython3",
   "version": "3.6.6"
  }
 },
 "nbformat": 4,
 "nbformat_minor": 2
}
