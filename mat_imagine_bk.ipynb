{
 "cells": [
  {
   "cell_type": "code",
   "execution_count": 2,
   "metadata": {},
   "outputs": [],
   "source": [
    "import tensorflow as tf\n",
    "import numpy as np\n",
    "import pandas as pd\n",
    "import sklearn as sk\n",
    "import matplotlib.pyplot as plt\n",
    "import mne\n",
    "from mne.datasets import eegbci\n",
    "from mne import Epochs, pick_types, find_events\n",
    "import os\n",
    "import scipy.io as sio"
   ]
  },
  {
   "cell_type": "code",
   "execution_count": 3,
   "metadata": {},
   "outputs": [],
   "source": [
    "def read_dataset(dataset,num):\n",
    "    path = \"dataset\"+str(dataset)+\"/\"\n",
    "    if dataset == 1:\n",
    "        path += \"A\"\n",
    "    elif dataset == 2:\n",
    "        path += \"S\"\n",
    "    elif dataset == 4:\n",
    "        path += \"B\"\n",
    "    e = []\n",
    "    t = []\n",
    "    for i in range(1,num+1):\n",
    "        e.append(np.asarray(sio.loadmat(path+str(i).zfill(2)+\"E.mat\")['data']))\n",
    "        t.append(np.asarray(sio.loadmat(path+str(i).zfill(2)+\"T.mat\")['data']))\n",
    "    return t, e"
   ]
  },
  {
   "cell_type": "code",
   "execution_count": 4,
   "metadata": {},
   "outputs": [],
   "source": [
    "e, t = read_dataset(4,9)"
   ]
  },
  {
   "cell_type": "code",
   "execution_count": 124,
   "metadata": {},
   "outputs": [],
   "source": [
    "def prep_d1(data):\n",
    "    dataset = []\n",
    "    for i in range(len(data[0])):\n",
    "        dataset.append(data[0][i])\n",
    "    return np.array(dataset)\n",
    "\n",
    "def prep_t4(data):\n",
    "    data1 = list(data.tolist()[0][0][0][0])\n",
    "    data2 = list(data.tolist()[0][1][0][0])\n",
    "    data3 = list(data.tolist()[0][2][0][0])\n",
    "    return np.array([data1, data2, data3])\n",
    "\n",
    "def prep_e4(data):\n",
    "    data1 = list(data.tolist()[0][0][0][0])\n",
    "    data2 = list(data.tolist()[0][1][0][0])\n",
    "    return np.array([data1, data2])\n"
   ]
  },
  {
   "cell_type": "code",
   "execution_count": 204,
   "metadata": {},
   "outputs": [],
   "source": [
    "def features1(data):\n",
    "    x = data[0][0][0][:,:22]\n",
    "    trial_raw = data[0][0][1]\n",
    "    trial = [num for e in trial_raw for num in e]\n",
    "    y = [num for e in data[0][0][2] for num in e]\n",
    "    atf = [num for e in data[0][0][5] for num in e]\n",
    "    rate = data[0][0][3].tolist()\n",
    "    \n",
    "    return (x,trial,y,atf,rate[0][0])\n",
    "\n",
    "def features4(data):\n",
    "    x = data[0][:,:3]\n",
    "    trial_raw = data[1]\n",
    "    trial = [num for e in trial_raw for num in e]\n",
    "    y = [num for e in data[2] for num in e]\n",
    "    atf = [num for e in data[5] for num in e]\n",
    "    rate = data[3].tolist()\n",
    "    \n",
    "    return (x,trial,y,atf,rate[0][0])"
   ]
  },
  {
   "cell_type": "code",
   "execution_count": null,
   "metadata": {},
   "outputs": [],
   "source": [
    "def split_data(data):\n",
    "    x, trial, y, atf, rate = data\n",
    "    group1 = list()\n",
    "    group2 = list()\n",
    "    group3 = list()\n",
    "    group4 = list()\n",
    "    a = list(range(0, x.shape[0])) \n",
    "    \n",
    "    z = list(zip(atf, y, trial))\n",
    "    filtered = [(b,c) for a,b,c in z if a == 0]\n",
    "    label, trial_filter = zip(*filtered)\n",
    "\n",
    "    for i in a:\n",
    "        if i in trial_filter:\n",
    "            group1.append(x[i:i+2*rate])\n",
    "            group2.append(x[i+int(2.5*rate):i+int(4.5*rate)])\n",
    "            group3.append(x[i+4*rate:i+6*rate])\n",
    "            group4.append(x[i+int(6.5*rate):i+int(8.5*rate)])\n",
    "            \n",
    "    arr1 = np.array(group1)\n",
    "    arr2 = np.array(group2)\n",
    "    arr3 = np.array(group3)\n",
    "    arr4 = np.array(group4)\n",
    "    label = np.array(label)\n",
    "    \n",
    "    return arr1, arr2, arr3, arr4, label"
   ]
  },
  {
   "cell_type": "code",
   "execution_count": 206,
   "metadata": {},
   "outputs": [],
   "source": [
    "t1, e1 = read_dataset(1,9)\n",
    "t4, e4 = read_dataset(4,9)"
   ]
  },
  {
   "cell_type": "code",
   "execution_count": 207,
   "metadata": {},
   "outputs": [],
   "source": [
    "x_t4 = [features4(data2) for data in data_t4 for data2 in data]\n",
    "x_e4 = [features4(data2) for data in data_e4 for data2 in data]\n",
    "x_t1 = []\n",
    "for i in range(len(data_t1)):\n",
    "    if i == 3:\n",
    "        for j in range(1,len(data_t1[i])):\n",
    "            x_t1.append(features1(data_t1[i][j]))\n",
    "    else:\n",
    "        for j in range(3,len(data_t1[i])):\n",
    "            x_t1.append(features1(data_t1[i][j]))\n",
    "            \n",
    "x_e1 = []\n",
    "for i in range(len(data_e1)):\n",
    "    for j in range(3,len(data_e1[i])):\n",
    "        x_e1.append(features1(data_e1[i][j]))"
   ]
  },
  {
   "cell_type": "code",
   "execution_count": 208,
   "metadata": {},
   "outputs": [
    {
     "name": "stdout",
     "output_type": "stream",
     "text": [
      "t1 **************************************************\n",
      "96735 48 250\n",
      "96735 48 250\n",
      "96735 48 250\n",
      "96735 48 250\n",
      "96735 48 250\n",
      "96735 48 250\n",
      "96735 48 250\n",
      "96735 48 250\n",
      "96735 48 250\n",
      "96735 48 250\n",
      "96735 48 250\n",
      "96735 48 250\n",
      "96735 48 250\n",
      "96735 48 250\n",
      "96735 48 250\n",
      "96735 48 250\n",
      "96735 48 250\n",
      "96735 48 250\n",
      "96735 48 250\n",
      "96735 48 250\n",
      "96735 48 250\n",
      "96735 48 250\n",
      "96735 48 250\n",
      "96735 48 250\n",
      "96735 48 250\n",
      "96735 48 250\n",
      "96735 48 250\n",
      "96735 48 250\n",
      "96735 48 250\n",
      "96735 48 250\n",
      "96735 48 250\n",
      "96735 48 250\n",
      "96735 48 250\n",
      "96735 48 250\n",
      "96735 48 250\n",
      "96735 48 250\n",
      "96735 48 250\n",
      "96735 48 250\n",
      "96735 48 250\n",
      "96735 48 250\n",
      "96735 48 250\n",
      "96735 48 250\n",
      "96735 48 250\n",
      "96735 48 250\n",
      "96735 48 250\n",
      "96735 48 250\n",
      "96735 48 250\n",
      "96735 48 250\n",
      "96735 48 250\n",
      "96735 48 250\n",
      "96735 48 250\n",
      "96735 48 250\n",
      "96735 48 250\n",
      "96735 48 250\n",
      "e1 **************************************************\n",
      "96735 48 250\n",
      "96735 48 250\n",
      "96735 48 250\n",
      "96735 48 250\n",
      "96735 48 250\n",
      "96735 48 250\n",
      "96735 48 250\n",
      "96735 48 250\n",
      "96735 48 250\n",
      "96735 48 250\n",
      "96735 48 250\n",
      "96735 48 250\n",
      "96735 48 250\n",
      "96735 48 250\n",
      "96735 48 250\n",
      "96735 48 250\n",
      "96735 48 250\n",
      "96735 48 250\n",
      "96735 48 250\n",
      "96735 48 250\n",
      "96735 48 250\n",
      "96735 48 250\n",
      "96735 48 250\n",
      "96735 48 250\n",
      "96735 48 250\n",
      "96735 48 250\n",
      "96735 48 250\n",
      "96735 48 250\n",
      "96735 48 250\n",
      "96735 48 250\n",
      "96735 48 250\n",
      "96735 48 250\n",
      "96735 48 250\n",
      "96735 48 250\n",
      "96735 48 250\n",
      "96735 48 250\n",
      "96735 48 250\n",
      "96735 48 250\n",
      "96735 48 250\n",
      "96735 48 250\n",
      "96735 48 250\n",
      "96735 48 250\n",
      "96735 48 250\n",
      "96735 48 250\n",
      "96735 48 250\n",
      "96735 48 250\n",
      "96735 48 250\n",
      "96735 48 250\n",
      "96735 48 250\n",
      "96735 48 250\n",
      "96735 48 250\n",
      "96735 48 250\n",
      "96735 48 250\n",
      "96735 48 250\n",
      "t4 **************************************************\n",
      "604803 120 250\n",
      "552452 120 250\n",
      "469011 160 250\n",
      "604803 120 250\n",
      "604803 120 250\n",
      "464155 160 250\n",
      "604803 120 250\n",
      "604803 120 250\n",
      "464675 160 250\n",
      "604803 120 250\n",
      "696266 140 250\n",
      "468559 160 250\n",
      "604803 120 250\n",
      "696266 140 250\n",
      "461875 160 250\n",
      "604803 120 250\n",
      "604803 120 250\n",
      "470391 160 250\n",
      "604803 120 250\n",
      "604803 120 250\n",
      "466727 160 250\n",
      "787729 160 250\n",
      "604803 120 250\n",
      "474835 160 250\n",
      "604803 120 250\n",
      "604803 120 250\n",
      "460731 160 250\n",
      "e4 **************************************************\n",
      "466314 160 250\n",
      "474363 160 250\n",
      "361830 120 250\n",
      "473687 160 250\n",
      "464675 160 250\n",
      "463619 160 250\n",
      "467479 160 250\n",
      "466051 160 250\n",
      "417020 160 250\n",
      "464959 160 250\n",
      "469991 160 250\n",
      "460903 160 250\n",
      "470344 160 250\n",
      "460895 160 250\n",
      "474835 160 250\n",
      "464307 160 250\n",
      "466803 160 250\n",
      "458571 160 250\n"
     ]
    }
   ],
   "source": [
    "print('t1','*'*50)\n",
    "for x in x_t1:\n",
    "    print(len(x[0]),len(x[2]),x[4])\n",
    "print('e1','*'*50)\n",
    "for x in x_e1:\n",
    "    print(len(x[0]),len(x[2]),x[4])\n",
    "print('t4','*'*50)\n",
    "for x in x_t4:\n",
    "    print(len(x[0]),len(x[2]),x[4])\n",
    "print('e4','*'*50)\n",
    "for x in x_e4:\n",
    "    print(len(x[0]),len(x[2]),x[4])"
   ]
  },
  {
   "cell_type": "code",
   "execution_count": 209,
   "metadata": {},
   "outputs": [
    {
     "data": {
      "text/plain": [
       "54"
      ]
     },
     "execution_count": 209,
     "metadata": {},
     "output_type": "execute_result"
    }
   ],
   "source": [
    "len(x_t1)"
   ]
  },
  {
   "cell_type": "code",
   "execution_count": 210,
   "metadata": {},
   "outputs": [
    {
     "data": {
      "text/plain": [
       "54"
      ]
     },
     "execution_count": 210,
     "metadata": {},
     "output_type": "execute_result"
    }
   ],
   "source": [
    "len(x_e1)"
   ]
  },
  {
   "cell_type": "code",
   "execution_count": 211,
   "metadata": {},
   "outputs": [
    {
     "data": {
      "text/plain": [
       "27"
      ]
     },
     "execution_count": 211,
     "metadata": {},
     "output_type": "execute_result"
    }
   ],
   "source": [
    "len(x_t4)"
   ]
  },
  {
   "cell_type": "code",
   "execution_count": 212,
   "metadata": {},
   "outputs": [
    {
     "data": {
      "text/plain": [
       "18"
      ]
     },
     "execution_count": 212,
     "metadata": {},
     "output_type": "execute_result"
    }
   ],
   "source": [
    "len(x_e4)"
   ]
  },
  {
   "cell_type": "code",
   "execution_count": null,
   "metadata": {},
   "outputs": [],
   "source": [
    "x1t = [split_data(x) for x in x_t1]\n",
    "x1e = [split_data(x) for x in x_e1]\n",
    "x4t = [split_data(x) for x in x_t4]\n",
    "x4e = [split_data(x) for x in x_e4]"
   ]
  },
  {
   "cell_type": "code",
   "execution_count": null,
   "metadata": {},
   "outputs": [],
   "source": []
  }
 ],
 "metadata": {
  "kernelspec": {
   "display_name": "Python 3",
   "language": "python",
   "name": "python3"
  },
  "language_info": {
   "codemirror_mode": {
    "name": "ipython",
    "version": 3
   },
   "file_extension": ".py",
   "mimetype": "text/x-python",
   "name": "python",
   "nbconvert_exporter": "python",
   "pygments_lexer": "ipython3",
   "version": "3.6.6"
  }
 },
 "nbformat": 4,
 "nbformat_minor": 2
}
