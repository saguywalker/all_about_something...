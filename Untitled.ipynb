{
 "cells": [
  {
   "cell_type": "code",
   "execution_count": 1,
   "metadata": {},
   "outputs": [
    {
     "name": "stdout",
     "output_type": "stream",
     "text": [
      "           0          1          2           3           4           5      \\\n",
      "count  64.000000  64.000000  64.000000   64.000000   64.000000   64.000000   \n",
      "mean    5.593750  25.390625  22.546875   35.546875   35.687500   20.640625   \n",
      "std    32.990965  31.476682  36.797140   35.441850   37.164104   41.012335   \n",
      "min   -94.000000 -70.000000 -98.000000  -82.000000  -78.000000 -106.000000   \n",
      "25%    -7.250000  21.000000  15.500000   28.500000   24.750000    9.250000   \n",
      "50%    11.500000  31.000000  32.000000   42.000000   42.000000   27.000000   \n",
      "75%    20.250000  42.250000  43.000000   55.000000   52.750000   42.000000   \n",
      "max    89.000000  91.000000  92.000000  121.000000  143.000000  148.000000   \n",
      "\n",
      "            6           7           8           9      ...    19990  19991  \\\n",
      "count   64.000000   64.000000   64.000000   64.000000  ...     64.0   64.0   \n",
      "mean    27.218750   22.750000   28.484375   22.421875  ...      0.0    0.0   \n",
      "std     40.081056   44.210535   43.518284   42.049783  ...      0.0    0.0   \n",
      "min    -89.000000 -103.000000 -101.000000  -96.000000  ...      0.0    0.0   \n",
      "25%     15.500000    6.750000   16.750000    4.250000  ...      0.0    0.0   \n",
      "50%     34.000000   32.500000   41.000000   28.000000  ...      0.0    0.0   \n",
      "75%     50.250000   45.250000   52.000000   49.250000  ...      0.0    0.0   \n",
      "max    146.000000  147.000000  142.000000  124.000000  ...      0.0    0.0   \n",
      "\n",
      "       19992  19993  19994  19995  19996  19997  19998  19999  \n",
      "count   64.0   64.0   64.0   64.0   64.0   64.0   64.0   64.0  \n",
      "mean     0.0    0.0    0.0    0.0    0.0    0.0    0.0    0.0  \n",
      "std      0.0    0.0    0.0    0.0    0.0    0.0    0.0    0.0  \n",
      "min      0.0    0.0    0.0    0.0    0.0    0.0    0.0    0.0  \n",
      "25%      0.0    0.0    0.0    0.0    0.0    0.0    0.0    0.0  \n",
      "50%      0.0    0.0    0.0    0.0    0.0    0.0    0.0    0.0  \n",
      "75%      0.0    0.0    0.0    0.0    0.0    0.0    0.0    0.0  \n",
      "max      0.0    0.0    0.0    0.0    0.0    0.0    0.0    0.0  \n",
      "\n",
      "[8 rows x 20000 columns]\n",
      "<class 'pandas.core.frame.DataFrame'>\n",
      "Index: 64 entries, Row1 to Row64\n",
      "Columns: 20000 entries, 0 to 19999\n",
      "dtypes: float64(20000)\n",
      "memory usage: 9.8+ MB\n",
      "None\n"
     ]
    }
   ],
   "source": [
    "import pyedflib\n",
    "import numpy as np\n",
    "import pandas as pd\n",
    "\n",
    "def fetch_df(file_name):\n",
    "    f = pyedflib.EdfReader(file_name)\n",
    "    n = f.signals_in_file\n",
    "    signal_labels = f.getSignalLabels()\n",
    "    sigbufs = np.zeros((n,f.getNSamples()[0]))\n",
    "    for i in np.arange(n):\n",
    "        sigbufs[i,:] = f.readSignal(i)\n",
    "    idx = ['Row'+str(i) for i in range(1,len(sigbufs)+1)]\n",
    "    return pd.DataFrame(sigbufs,index=idx)\n",
    "\n",
    "if __name__ == \"__main__\":\n",
    "    a = fetch_df(\"subjects/S001/S001R05.edf\")\n",
    "    print(a.describe())\n",
    "    print(a.info())\n"
   ]
  },
  {
   "cell_type": "code",
   "execution_count": null,
   "metadata": {},
   "outputs": [],
   "source": []
  }
 ],
 "metadata": {
  "kernelspec": {
   "display_name": "Python 3",
   "language": "python",
   "name": "python3"
  },
  "language_info": {
   "codemirror_mode": {
    "name": "ipython",
    "version": 3
   },
   "file_extension": ".py",
   "mimetype": "text/x-python",
   "name": "python",
   "nbconvert_exporter": "python",
   "pygments_lexer": "ipython3",
   "version": "3.6.3"
  }
 },
 "nbformat": 4,
 "nbformat_minor": 2
}
