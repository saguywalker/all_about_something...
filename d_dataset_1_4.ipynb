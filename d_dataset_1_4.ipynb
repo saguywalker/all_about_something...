{
 "cells": [
  {
   "cell_type": "code",
   "execution_count": 1,
   "metadata": {},
   "outputs": [],
   "source": [
    "import tensorflow as tf\n",
    "import numpy as np\n",
    "import pandas as pd\n",
    "import sklearn as sk\n",
    "import matplotlib.pyplot as plt\n",
    "import os\n",
    "import scipy.io as sio\n",
    "from scipy.signal import resample"
   ]
  },
  {
   "cell_type": "code",
   "execution_count": 2,
   "metadata": {},
   "outputs": [
    {
     "data": {
      "text/plain": [
       "[0, 1, 3, 5, 6, 8, 10, 12, 13, 15, 17, 18, 19, 20, 21, 22, 23, 24]"
      ]
     },
     "execution_count": 2,
     "metadata": {},
     "output_type": "execute_result"
    }
   ],
   "source": [
    "picks = [2,4,7,9,11,14,16]\n",
    "not_picks = [i for i in range(25) if i not in picks]\n",
    "not_picks"
   ]
  },
  {
   "cell_type": "code",
   "execution_count": 3,
   "metadata": {},
   "outputs": [],
   "source": [
    "def read_dataset(dataset,num):\n",
    "    path = \"dataset\"+str(dataset)+\"/\"\n",
    "    if dataset == 1:\n",
    "        path += \"A\"\n",
    "    elif dataset == 2:\n",
    "        path += \"S\"\n",
    "    elif dataset == 4:\n",
    "        path += \"B\"\n",
    "    e = []\n",
    "    t = []\n",
    "    for i in range(1,num+1):\n",
    "        e.append(np.asarray(sio.loadmat(path+str(i).zfill(2)+\"E.mat\")['data']))\n",
    "        t.append(np.asarray(sio.loadmat(path+str(i).zfill(2)+\"T.mat\")['data']))\n",
    "    return t, e"
   ]
  },
  {
   "cell_type": "code",
   "execution_count": 4,
   "metadata": {},
   "outputs": [],
   "source": [
    "t, e = read_dataset(1,9)\n",
    "t4, e4 = read_dataset(4,9)"
   ]
  },
  {
   "cell_type": "code",
   "execution_count": 5,
   "metadata": {},
   "outputs": [
    {
     "data": {
      "text/plain": [
       "array([(array([[10.83984375, 11.18164062,  9.91210938, ..., 13.18359375,\n",
       "         8.7890625 ,  0.        ],\n",
       "       [16.65039062, 18.79882812, 16.16210938, ..., 14.16015625,\n",
       "        11.71875   ,  8.7890625 ],\n",
       "       [10.30273438, 14.30664062, 11.03515625, ...,  5.37109375,\n",
       "         3.90625   ,  3.90625   ],\n",
       "       ...,\n",
       "       [10.15625   , 12.5       ,  9.52148438, ..., 17.578125  ,\n",
       "        23.92578125,  2.9296875 ],\n",
       "       [11.03515625, 14.2578125 , 11.08398438, ...,  7.8125    ,\n",
       "        16.6015625 ,  9.765625  ],\n",
       "       [ 6.640625  ,  9.71679688,  6.10351562, ...,  3.90625   ,\n",
       "        11.71875   ,  8.7890625 ]]), array([[  251],\n",
       "       [ 2254],\n",
       "       [ 4172],\n",
       "       [ 6124],\n",
       "       [ 8132],\n",
       "       [10243],\n",
       "       [12160],\n",
       "       [14210],\n",
       "       [16141],\n",
       "       [18139],\n",
       "       [20045],\n",
       "       [21940],\n",
       "       [23912],\n",
       "       [25856],\n",
       "       [27823],\n",
       "       [29943],\n",
       "       [31951],\n",
       "       [34017],\n",
       "       [36053],\n",
       "       [38119],\n",
       "       [40189],\n",
       "       [42269],\n",
       "       [44181],\n",
       "       [46212],\n",
       "       [48165],\n",
       "       [50126],\n",
       "       [52230],\n",
       "       [54234],\n",
       "       [56209],\n",
       "       [58235],\n",
       "       [60306],\n",
       "       [62413],\n",
       "       [64505],\n",
       "       [66596],\n",
       "       [68639],\n",
       "       [70703],\n",
       "       [72723],\n",
       "       [74695],\n",
       "       [76658],\n",
       "       [78583],\n",
       "       [80664],\n",
       "       [82642],\n",
       "       [84632],\n",
       "       [86751],\n",
       "       [88657],\n",
       "       [90585],\n",
       "       [92699],\n",
       "       [94758]]), array([[2],\n",
       "       [4],\n",
       "       [1],\n",
       "       [3],\n",
       "       [3],\n",
       "       [4],\n",
       "       [1],\n",
       "       [1],\n",
       "       [3],\n",
       "       [2],\n",
       "       [4],\n",
       "       [4],\n",
       "       [4],\n",
       "       [2],\n",
       "       [1],\n",
       "       [3],\n",
       "       [2],\n",
       "       [4],\n",
       "       [1],\n",
       "       [4],\n",
       "       [3],\n",
       "       [2],\n",
       "       [4],\n",
       "       [4],\n",
       "       [1],\n",
       "       [2],\n",
       "       [2],\n",
       "       [3],\n",
       "       [4],\n",
       "       [2],\n",
       "       [1],\n",
       "       [1],\n",
       "       [4],\n",
       "       [2],\n",
       "       [1],\n",
       "       [3],\n",
       "       [2],\n",
       "       [2],\n",
       "       [3],\n",
       "       [1],\n",
       "       [4],\n",
       "       [3],\n",
       "       [3],\n",
       "       [3],\n",
       "       [3],\n",
       "       [1],\n",
       "       [2],\n",
       "       [1]], dtype=uint8), array([[250]], dtype=uint8), array([[array(['left hand'], dtype='<U9'),\n",
       "        array(['right hand'], dtype='<U10'),\n",
       "        array(['feet'], dtype='<U4'), array(['tongue'], dtype='<U6')]],\n",
       "      dtype=object), array([[0],\n",
       "       [1],\n",
       "       [1],\n",
       "       [0],\n",
       "       [0],\n",
       "       [0],\n",
       "       [0],\n",
       "       [0],\n",
       "       [1],\n",
       "       [0],\n",
       "       [0],\n",
       "       [0],\n",
       "       [0],\n",
       "       [0],\n",
       "       [0],\n",
       "       [0],\n",
       "       [0],\n",
       "       [0],\n",
       "       [0],\n",
       "       [0],\n",
       "       [0],\n",
       "       [0],\n",
       "       [0],\n",
       "       [0],\n",
       "       [0],\n",
       "       [0],\n",
       "       [0],\n",
       "       [0],\n",
       "       [0],\n",
       "       [0],\n",
       "       [0],\n",
       "       [0],\n",
       "       [0],\n",
       "       [0],\n",
       "       [0],\n",
       "       [0],\n",
       "       [0],\n",
       "       [0],\n",
       "       [0],\n",
       "       [0],\n",
       "       [0],\n",
       "       [0],\n",
       "       [0],\n",
       "       [0],\n",
       "       [0],\n",
       "       [0],\n",
       "       [0],\n",
       "       [0]], dtype=uint8), array(['female'], dtype='<U6'), array([[22]], dtype=uint8))],\n",
       "      dtype=[('X', 'O'), ('trial', 'O'), ('y', 'O'), ('fs', 'O'), ('classes', 'O'), ('artifacts', 'O'), ('gender', 'O'), ('age', 'O')])"
      ]
     },
     "execution_count": 5,
     "metadata": {},
     "output_type": "execute_result"
    }
   ],
   "source": [
    "t[0][0][5][0]"
   ]
  },
  {
   "cell_type": "code",
   "execution_count": 6,
   "metadata": {},
   "outputs": [
    {
     "name": "stdout",
     "output_type": "stream",
     "text": [
      "0 9\n",
      "1 9\n",
      "2 9\n",
      "3 7\n",
      "4 9\n",
      "5 9\n",
      "6 9\n",
      "7 9\n",
      "8 9\n"
     ]
    }
   ],
   "source": [
    "for i,x in enumerate(t):\n",
    "    print(i,len(x[0]))"
   ]
  },
  {
   "cell_type": "code",
   "execution_count": 7,
   "metadata": {},
   "outputs": [
    {
     "data": {
      "text/plain": [
       "7"
      ]
     },
     "execution_count": 7,
     "metadata": {},
     "output_type": "execute_result"
    }
   ],
   "source": [
    "len(t[3][0])"
   ]
  },
  {
   "cell_type": "code",
   "execution_count": 8,
   "metadata": {},
   "outputs": [
    {
     "data": {
      "text/plain": [
       "(96735, 25)"
      ]
     },
     "execution_count": 8,
     "metadata": {},
     "output_type": "execute_result"
    }
   ],
   "source": [
    "t[3][0][5][0][0][0].shape"
   ]
  },
  {
   "cell_type": "code",
   "execution_count": 166,
   "metadata": {
    "scrolled": true
   },
   "outputs": [
    {
     "name": "stdout",
     "output_type": "stream",
     "text": [
      "0 0 (604803, 6)\n",
      "0 1 (552452, 6)\n",
      "0 2 (469011, 6)\n",
      "*************************\n",
      "1 0 (604803, 6)\n",
      "1 1 (604803, 6)\n",
      "1 2 (464155, 6)\n",
      "*************************\n",
      "2 0 (604803, 6)\n",
      "2 1 (604803, 6)\n",
      "2 2 (464675, 6)\n",
      "*************************\n",
      "3 0 (604803, 6)\n",
      "3 1 (696266, 6)\n",
      "3 2 (468559, 6)\n",
      "*************************\n",
      "4 0 (604803, 6)\n",
      "4 1 (696266, 6)\n",
      "4 2 (461875, 6)\n",
      "*************************\n",
      "5 0 (604803, 6)\n",
      "5 1 (604803, 6)\n",
      "5 2 (470391, 6)\n",
      "*************************\n",
      "6 0 (604803, 6)\n",
      "6 1 (604803, 6)\n",
      "6 2 (466727, 6)\n",
      "*************************\n",
      "7 0 (787729, 6)\n",
      "7 1 (604803, 6)\n",
      "7 2 (474835, 6)\n",
      "*************************\n",
      "8 0 (604803, 6)\n",
      "8 1 (604803, 6)\n",
      "8 2 (460731, 6)\n",
      "*************************\n"
     ]
    }
   ],
   "source": [
    "for i in range(len(t4)):\n",
    "    for j in range(len(t4[i][0])):\n",
    "        print(i,j,t4[i][0][j][0][0][0].shape)\n",
    "    print('*'*25)"
   ]
  },
  {
   "cell_type": "code",
   "execution_count": 186,
   "metadata": {},
   "outputs": [],
   "source": [
    "def prep_data(data):\n",
    "    dataset = []\n",
    "    for i in range(len(data[0])):\n",
    "        dataset.append(data[0][i])\n",
    "    return np.array(dataset)\n"
   ]
  },
  {
   "cell_type": "code",
   "execution_count": 190,
   "metadata": {},
   "outputs": [],
   "source": [
    "raw_data1t = [prep_data(tt)[1:] if i == 3 else prep_d1(tt)[3:] for i,tt in enumerate(t)]\n",
    "raw_data1e = [prep_data(ee)[3:] for ee in e]\n",
    "raw_data4t = [prep_data(tt) for tt in t4]\n",
    "raw_data4e = [prep_data(ee) for ee in e4]"
   ]
  },
  {
   "cell_type": "code",
   "execution_count": 188,
   "metadata": {},
   "outputs": [],
   "source": [
    "aa = raw_data1t[5][0]"
   ]
  },
  {
   "cell_type": "code",
   "execution_count": 189,
   "metadata": {},
   "outputs": [
    {
     "data": {
      "text/plain": [
       "251"
      ]
     },
     "execution_count": 189,
     "metadata": {},
     "output_type": "execute_result"
    }
   ],
   "source": [
    "aa[0][0][1][0][0]"
   ]
  },
  {
   "cell_type": "code",
   "execution_count": 14,
   "metadata": {},
   "outputs": [],
   "source": [
    "def extract_data(raw_data):\n",
    "    data, label = [], []\n",
    "    for i,x1 in enumerate(raw_data):\n",
    "        d, l = [], []\n",
    "        for j in range(len(x1[0][0][1])):\n",
    "            if x1[0][0][5][j][0] == 0:\n",
    "                if j == len(x1[0][0][5]) - 1:\n",
    "                    d.append(x1[0][0][0][x1[0][0][1][-1][0]:])\n",
    "                else:\n",
    "                    d.append(x1[0][0][0][x1[0][0][1][j][0]:x1[0][0][1][j+1][0]])\n",
    "                l.append(x1[0][0][2][j][0])\n",
    "        data.append(np.array(d))\n",
    "        label.append(np.array(l))\n",
    "    return np.array([data,label])"
   ]
  },
  {
   "cell_type": "code",
   "execution_count": 15,
   "metadata": {},
   "outputs": [],
   "source": [
    "data_1t = np.array([extract_data(data) for data in raw_data1t])\n",
    "data_1e = np.array([extract_data(data) for data in raw_data1e])"
   ]
  },
  {
   "cell_type": "code",
   "execution_count": 16,
   "metadata": {},
   "outputs": [
    {
     "data": {
      "text/plain": [
       "(2003, 25)"
      ]
     },
     "execution_count": 16,
     "metadata": {},
     "output_type": "execute_result"
    }
   ],
   "source": [
    "data_1t[0][0][4][0].shape"
   ]
  },
  {
   "cell_type": "code",
   "execution_count": 19,
   "metadata": {},
   "outputs": [],
   "source": [
    "def down_data(raw_x,raw_y):\n",
    "    new_x = []\n",
    "    new_y = []\n",
    "    sum_val, cnt, max_shape = 0, 0, 0\n",
    "    \n",
    "    for i, x1 in enumerate(raw_x):\n",
    "        tmp_x1, tmp_y1 = [], []\n",
    "        \n",
    "        for j, x2 in enumerate(x1):\n",
    "            tmp_x2, tmp_y2 = [], []\n",
    "            \n",
    "            for k, x3 in enumerate(x2):\n",
    "                if raw_y[i][j][k] in [1,2]:\n",
    "                    tmp_y2.append(raw_y[i][j][k])\n",
    "                    tmp_x2.append(np.delete(x3,not_picks,axis=1))\n",
    "                    sum_val += x3.shape[0]\n",
    "                    cnt += 1\n",
    "            if len(tmp_x2) > max_shape:\n",
    "                max_shape = len(tmp_x2)\n",
    "            \n",
    "            tmp_x1.append(tmp_x2)\n",
    "            tmp_y1.append(tmp_y2)\n",
    "        new_x.append(tmp_x1)\n",
    "        new_y.append(tmp_y1)\n",
    "    \n",
    "    down_size = int((sum_val / cnt) * 160 / 250) \n",
    "    \n",
    "    x = np.zeros((len(raw_x),len(raw_x[0]),max_shape,down_size,7),dtype=np.float64)\n",
    "    y = np.zeros((len(raw_x),len(raw_x[0]),max_shape),dtype=np.int32)\n",
    "    \n",
    "    for i in range(len(new_x)):\n",
    "        for j in range(len(new_x[i])):\n",
    "            y[i,j,:len(new_x[i][j])] = new_y[i][j]\n",
    "            for k in range(len(new_x[i][j])):\n",
    "                x[i,j,k] = resample(new_x[i][j][k],down_size,axis=0)\n",
    "    \n",
    "    return x, y"
   ]
  },
  {
   "cell_type": "code",
   "execution_count": 216,
   "metadata": {},
   "outputs": [],
   "source": [
    "def down_data2(raw_x,raw_y,dataset):\n",
    "    new_x = []\n",
    "    new_y = []\n",
    "    sum_val, cnt = 0, 0\n",
    "    \n",
    "    for i, x1 in enumerate(raw_x):\n",
    "        tmp_x1, tmp_y1 = [], []\n",
    "        \n",
    "        for j, x2 in enumerate(x1):\n",
    "            tmp_x2 = []\n",
    "            \n",
    "            for k, x3 in enumerate(x2):\n",
    "                if raw_y[i][j][k] in [1,2]:\n",
    "                    tmp_y1.append(raw_y[i][j][k])\n",
    "                    if int(dataset) == 1:\n",
    "                        tmp_x2.append(np.delete(x3,not_picks,axis=1))\n",
    "                    else:\n",
    "                        tmp_x2.append(x3)\n",
    "                    sum_val += x3.shape[0]\n",
    "                    cnt += 1\n",
    "            \n",
    "            tmp_x1.append(tmp_x2)\n",
    "        \n",
    "        new_x.append(tmp_x1)\n",
    "        new_y.append(np.array(tmp_y1))\n",
    "    \n",
    "    down_size = int((sum_val / cnt) * 160 / 250) \n",
    "    \n",
    "    x = []\n",
    "    \n",
    "    for i in range(len(new_x)):\n",
    "        tmp = []\n",
    "        for j in range(len(new_x[i])):\n",
    "            for k in range(len(new_x[i][j])):\n",
    "                tmp.append(resample(new_x[i][j][k],down_size,axis=0))\n",
    "        x.append(np.array(tmp))\n",
    "    \n",
    "    return x, new_y"
   ]
  },
  {
   "cell_type": "code",
   "execution_count": 217,
   "metadata": {},
   "outputs": [
    {
     "name": "stderr",
     "output_type": "stream",
     "text": [
      "C:\\Anaconda3\\lib\\site-packages\\scipy\\signal\\signaltools.py:2223: FutureWarning: Using a non-tuple sequence for multidimensional indexing is deprecated; use `arr[tuple(seq)]` instead of `arr[seq]`. In the future this will be interpreted as an array index, `arr[np.array(seq)]`, which will result either in an error or a different result.\n",
      "  Y[sl] = X[sl]\n",
      "C:\\Anaconda3\\lib\\site-packages\\scipy\\signal\\signaltools.py:2225: FutureWarning: Using a non-tuple sequence for multidimensional indexing is deprecated; use `arr[tuple(seq)]` instead of `arr[seq]`. In the future this will be interpreted as an array index, `arr[np.array(seq)]`, which will result either in an error or a different result.\n",
      "  Y[sl] = X[sl]\n",
      "C:\\Anaconda3\\lib\\site-packages\\scipy\\signal\\signaltools.py:2230: FutureWarning: Using a non-tuple sequence for multidimensional indexing is deprecated; use `arr[tuple(seq)]` instead of `arr[seq]`. In the future this will be interpreted as an array index, `arr[np.array(seq)]`, which will result either in an error or a different result.\n",
      "  Y[sl] += X[sl]  # add the component of X at N/2\n"
     ]
    }
   ],
   "source": [
    "x1t, y1t = down_data2(data_1t[:,0],data_1t[:,1],1)\n",
    "x1e, y1e = down_data2(data_1e[:,0],data_1e[:,1],1)"
   ]
  },
  {
   "cell_type": "code",
   "execution_count": 218,
   "metadata": {},
   "outputs": [],
   "source": [
    "def split_rest_mi(x):\n",
    "    x_rest, x_mi = [], []\n",
    "    for i, x1 in enumerate(x):\n",
    "        tmp1, tmp2 = [], []\n",
    "        for j, x2 in enumerate(x1):\n",
    "            tmp1.append(x2[240:720,:])\n",
    "            tmp2.append(x2[480:960,:])\n",
    "        x_rest.append(np.array(tmp1))\n",
    "        x_mi.append(np.array(tmp2))\n",
    "        \n",
    "    return np.array(x_rest), np.array(x_mi)"
   ]
  },
  {
   "cell_type": "code",
   "execution_count": 219,
   "metadata": {},
   "outputs": [],
   "source": [
    "x1t_rest, x1t_mi = split_rest_mi(x1t)\n",
    "x1e_rest, x1e_mi = split_rest_mi(x1e)"
   ]
  },
  {
   "cell_type": "code",
   "execution_count": 220,
   "metadata": {},
   "outputs": [],
   "source": [
    "def write_npz_file(x,y,folder,head,subject):\n",
    "    if not os.path.exists(folder):\n",
    "        os.makedirs(folder)\n",
    "    filename = str(folder)+\"/S\"+str(subject).zfill(2)+head+\".npz\"\n",
    "    np.savez(filename,x=x,y=y)"
   ]
  },
  {
   "cell_type": "code",
   "execution_count": 156,
   "metadata": {},
   "outputs": [],
   "source": [
    "def change_y_to_text(in_y):\n",
    "    y = []\n",
    "    for i in range(len(in_y)):\n",
    "        if in_y[i] == 1:\n",
    "            y.append('left')\n",
    "        elif in_y[i] == 2:\n",
    "            y.append('right')\n",
    "        else:\n",
    "            y.append('')\n",
    "    \n",
    "    return np.array(y)"
   ]
  },
  {
   "cell_type": "code",
   "execution_count": 221,
   "metadata": {},
   "outputs": [],
   "source": [
    "y1t = [change_y_to_text(y) for y in y1t]\n",
    "y1e = [change_y_to_text(y) for y in y1e]"
   ]
  },
  {
   "cell_type": "code",
   "execution_count": 258,
   "metadata": {},
   "outputs": [
    {
     "data": {
      "text/plain": [
       "'\\nfor i in range(len(x1t_rest)):\\n    write_npz_file(x1t_rest[i],y1t[i],\"eeg_dataset1\",\"t_rest\",i+1)\\n    write_npz_file(x1t_mi[i],y1t[i],\"eeg_dataset1\",\"t_mi\",i+1)\\n\\nfor i in range(len(x1e_rest)):\\n    write_npz_file(x1e_rest[i],y1e[i],\"eeg_dataset1\",\"e_rest\",i+1)\\n    write_npz_file(x1e_mi[i],y1e[i],\"eeg_dataset1\",\"e_mi\",i+1)\\n'"
      ]
     },
     "execution_count": 258,
     "metadata": {},
     "output_type": "execute_result"
    }
   ],
   "source": [
    "\"\"\"\n",
    "for i in range(len(x1t_rest)):\n",
    "    write_npz_file(x1t_rest[i],y1t[i],\"eeg_dataset1\",\"t_rest\",i+1)\n",
    "    write_npz_file(x1t_mi[i],y1t[i],\"eeg_dataset1\",\"t_mi\",i+1)\n",
    "\n",
    "for i in range(len(x1e_rest)):\n",
    "    write_npz_file(x1e_rest[i],y1e[i],\"eeg_dataset1\",\"e_rest\",i+1)\n",
    "    write_npz_file(x1e_mi[i],y1e[i],\"eeg_dataset1\",\"e_mi\",i+1)\n",
    "\"\"\""
   ]
  },
  {
   "cell_type": "code",
   "execution_count": 259,
   "metadata": {},
   "outputs": [],
   "source": [
    "data_4t = np.array([extract_data(data) for data in raw_data4t])\n",
    "data_4e = np.array([extract_data(data) for data in raw_data4e])"
   ]
  },
  {
   "cell_type": "code",
   "execution_count": 260,
   "metadata": {},
   "outputs": [
    {
     "name": "stderr",
     "output_type": "stream",
     "text": [
      "C:\\Anaconda3\\lib\\site-packages\\scipy\\signal\\signaltools.py:2223: FutureWarning: Using a non-tuple sequence for multidimensional indexing is deprecated; use `arr[tuple(seq)]` instead of `arr[seq]`. In the future this will be interpreted as an array index, `arr[np.array(seq)]`, which will result either in an error or a different result.\n",
      "  Y[sl] = X[sl]\n",
      "C:\\Anaconda3\\lib\\site-packages\\scipy\\signal\\signaltools.py:2225: FutureWarning: Using a non-tuple sequence for multidimensional indexing is deprecated; use `arr[tuple(seq)]` instead of `arr[seq]`. In the future this will be interpreted as an array index, `arr[np.array(seq)]`, which will result either in an error or a different result.\n",
      "  Y[sl] = X[sl]\n",
      "C:\\Anaconda3\\lib\\site-packages\\scipy\\signal\\signaltools.py:2233: FutureWarning: Using a non-tuple sequence for multidimensional indexing is deprecated; use `arr[tuple(seq)]` instead of `arr[seq]`. In the future this will be interpreted as an array index, `arr[np.array(seq)]`, which will result either in an error or a different result.\n",
      "  Y[sl] /= 2  # halve the component at -N/2\n",
      "C:\\Anaconda3\\lib\\site-packages\\scipy\\signal\\signaltools.py:2234: FutureWarning: Using a non-tuple sequence for multidimensional indexing is deprecated; use `arr[tuple(seq)]` instead of `arr[seq]`. In the future this will be interpreted as an array index, `arr[np.array(seq)]`, which will result either in an error or a different result.\n",
      "  temp = Y[sl]\n",
      "C:\\Anaconda3\\lib\\site-packages\\scipy\\signal\\signaltools.py:2236: FutureWarning: Using a non-tuple sequence for multidimensional indexing is deprecated; use `arr[tuple(seq)]` instead of `arr[seq]`. In the future this will be interpreted as an array index, `arr[np.array(seq)]`, which will result either in an error or a different result.\n",
      "  Y[sl] = temp  # set that equal to the component at -N/2\n",
      "C:\\Anaconda3\\lib\\site-packages\\scipy\\signal\\signaltools.py:2230: FutureWarning: Using a non-tuple sequence for multidimensional indexing is deprecated; use `arr[tuple(seq)]` instead of `arr[seq]`. In the future this will be interpreted as an array index, `arr[np.array(seq)]`, which will result either in an error or a different result.\n",
      "  Y[sl] += X[sl]  # add the component of X at N/2\n"
     ]
    }
   ],
   "source": [
    "x4t, y4t = down_data2(data_4t[:,0],data_4t[:,1],4)\n",
    "x4e, y4e = down_data2(data_4e[:,0],data_4e[:,1],4)"
   ]
  },
  {
   "cell_type": "code",
   "execution_count": 261,
   "metadata": {},
   "outputs": [],
   "source": [
    "x4t = [ xx[:,:,:3] for xx in x4t]\n",
    "x4e = [ xx[:,:,:3] for xx in x4e]"
   ]
  },
  {
   "cell_type": "code",
   "execution_count": 262,
   "metadata": {},
   "outputs": [],
   "source": [
    "x4t_rest, x4t_mi = split_rest_mi(x4t)\n",
    "x4e_rest, x4e_mi = split_rest_mi(x4e)"
   ]
  },
  {
   "cell_type": "code",
   "execution_count": 263,
   "metadata": {},
   "outputs": [],
   "source": [
    "y4t = [change_y_to_text(y) for y in y4t]\n",
    "y4e = [change_y_to_text(y) for y in y4e]"
   ]
  },
  {
   "cell_type": "code",
   "execution_count": 264,
   "metadata": {},
   "outputs": [],
   "source": [
    "for i in range(len(x4t_rest)):\n",
    "    write_npz_file(x4t_rest[i],y4t[i],\"eeg_dataset4\",\"t_rest\",i+1)\n",
    "    write_npz_file(x4t_mi[i],y4t[i],\"eeg_dataset4\",\"t_mi\",i+1)\n",
    "\n",
    "for i in range(len(x4e_rest)):\n",
    "    write_npz_file(x4e_rest[i],y4e[i],\"eeg_dataset4\",\"e_rest\",i+1)\n",
    "    write_npz_file(x4e_mi[i],y4e[i],\"eeg_dataset4\",\"e_mi\",i+1)"
   ]
  },
  {
   "cell_type": "code",
   "execution_count": null,
   "metadata": {},
   "outputs": [],
   "source": []
  }
 ],
 "metadata": {
  "kernelspec": {
   "display_name": "Python 3",
   "language": "python",
   "name": "python3"
  },
  "language_info": {
   "codemirror_mode": {
    "name": "ipython",
    "version": 3
   },
   "file_extension": ".py",
   "mimetype": "text/x-python",
   "name": "python",
   "nbconvert_exporter": "python",
   "pygments_lexer": "ipython3",
   "version": "3.6.6"
  }
 },
 "nbformat": 4,
 "nbformat_minor": 2
}
